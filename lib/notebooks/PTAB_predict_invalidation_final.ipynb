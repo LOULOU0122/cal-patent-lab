{
 "cells": [
  {
   "cell_type": "code",
   "execution_count": 1,
   "metadata": {
    "collapsed": false
   },
   "outputs": [],
   "source": [
    "import numpy as np\n",
    "import pandas as pd\n",
    "import re\n",
    "import string\n",
    "from pandas import DataFrame\n",
    "from sqlalchemy import create_engine\n",
    "from matplotlib import pyplot as plt\n",
    "import matplotlib as mpl\n",
    "\n",
    "from nltk.stem.porter import PorterStemmer\n",
    "from nltk.stem.snowball import SnowballStemmer\n",
    "\n",
    "from sklearn.feature_extraction.text import TfidfVectorizer, CountVectorizer, TfidfTransformer\n",
    "from sklearn.svm import LinearSVC\n",
    "from sklearn.linear_model import LogisticRegressionCV\n",
    "from sklearn import cross_validation\n",
    "from sqlalchemy import create_engine\n",
    "# import tensorflow as tf\n",
    "%matplotlib inline\n",
    "pd.set_option('display.max_colwidth', -1)"
   ]
  },
  {
   "cell_type": "code",
   "execution_count": 2,
   "metadata": {
    "collapsed": true
   },
   "outputs": [],
   "source": [
    "def get_information(query, host_db=\"cal-patent-lab.chhaitskv8dz.us-west-2.rds.amazonaws.com\", \n",
    "                    username=\"***REMOVED***\", password=\"***REMOVED***\", db=\"***REMOVED***\"):\n",
    "    # Connecting to the fung db\n",
    "    engine_fung = create_engine(\"mysql://{}:{}@{}/{}\".format(\n",
    "        username, password, host_db, db))\n",
    "    connection_fung = engine_fung.connect()\n",
    "    patent_info = pd.read_sql(\n",
    "        query, engine_fung)\n",
    "    connection_fung.close()\n",
    "    return patent_info"
   ]
  },
  {
   "cell_type": "markdown",
   "metadata": {},
   "source": [
    "# Predicting invalidation"
   ]
  },
  {
   "cell_type": "markdown",
   "metadata": {},
   "source": [
    "First, we pull down all of the patents that have ever been brought before the PTAB"
   ]
  },
  {
   "cell_type": "code",
   "execution_count": 6,
   "metadata": {
    "collapsed": false,
    "scrolled": true
   },
   "outputs": [],
   "source": [
    "# Connecting to the db\n",
    "host_db = \"cal-patent-lab.chhaitskv8dz.us-west-2.rds.amazonaws.com\"\n",
    "username = \"***REMOVED***\"\n",
    "password = \"***REMOVED***\"\n",
    "db = \"***REMOVED***\"\n",
    "\n",
    "engine = create_engine(\"mysql://{}:{}@{}/{}\".format(\n",
    "    username, password, host_db, db))\n",
    "connection = engine.connect()\n",
    "q = \"SELECT case_id, patent_id, invalidated, denied, filing_date, decision_date, patent_owner, petitioner_name FROM ptab_cases WHERE invalidated is not null and denied is not null\"\n",
    "ptab_patents = pd.read_sql(q, engine)\n",
    "connection.close()"
   ]
  },
  {
   "cell_type": "code",
   "execution_count": 48,
   "metadata": {
    "collapsed": false
   },
   "outputs": [],
   "source": [
    "# Next, we want to grab the claims text associated with each patent and insert it into the dataframe\n",
    "\n",
    "host_db = \"***REMOVED***.berkeley.edu\"\n",
    "username = \"uspto\"\n",
    "password = \"ferrisbueller\"\n",
    "db = \"uspto\"\n",
    "\n",
    "engine = create_engine(\"mysql://{}:{}@{}/{}\".format(\n",
    "    username, password, host_db, db))\n",
    "connection = engine.connect()\n",
    "\n",
    "patent_id = int(ptab_patents.patent_id[:1])"
   ]
  },
  {
   "cell_type": "code",
   "execution_count": 26,
   "metadata": {
    "collapsed": false,
    "scrolled": true
   },
   "outputs": [
    {
     "name": "stdout",
     "output_type": "stream",
     "text": [
      "Processing patent 0\n",
      "Processing patent 100\n",
      "Processing patent 200\n",
      "Processing patent 300\n",
      "Processing patent 400\n",
      "Processing patent 500\n",
      "Processing patent 600\n",
      "Processing patent 700\n",
      "Processing patent 800\n",
      "Processing patent 900\n",
      "Processing patent 1000\n",
      "Processing patent 1100\n",
      "Processing patent 1200\n",
      "Processing patent 1300\n",
      "Processing patent 1400\n",
      "Processing patent 1500\n",
      "Processing patent 1600\n",
      "Processing patent 1700\n",
      "Processing patent 1800\n",
      "Processing patent 1900\n",
      "Processing patent 2000\n",
      "Processing patent 2100\n",
      "Processing patent 2200\n",
      "Processing patent 2300\n",
      "Processing patent 2400\n",
      "Processing patent 2500\n",
      "Processing patent 2600\n",
      "Processing patent 2700\n",
      "Processing patent 2800\n",
      "Processing patent 2900\n",
      "Processing patent 3000\n",
      "Processing patent 3100\n",
      "Processing patent 3200\n",
      "Processing patent 3300\n",
      "Processing patent 3400\n",
      "Processing patent 3500\n",
      "Processing patent 3600\n"
     ]
    }
   ],
   "source": [
    "# Inserting concatenated claim text into ptab_patents\n",
    "\n",
    "found = list()\n",
    "for idx, patent_id in enumerate(ptab_patents.patent_id):\n",
    "    q = \"SELECT text from uspto.claim where patent_id = '{}'\".format(patent_id)\n",
    "    claims = pd.read_sql(q, engine)\n",
    "    claims_concat = claims.text.str.cat()\n",
    "    ptab_patents.loc[ptab_patents.patent_id == '{}'.format(patent_id), 'claim_text'] = claims_concat\n",
    "    found.append(not claims.empty)\n",
    "    if idx % 100 == 0:\n",
    "        print(\"Processing patent {}\".format(idx))"
   ]
  },
  {
   "cell_type": "code",
   "execution_count": 3,
   "metadata": {
    "collapsed": false
   },
   "outputs": [],
   "source": [
    "# ptab_patents.to_pickle('ptab_patents_dany.pkl')"
   ]
  },
  {
   "cell_type": "markdown",
   "metadata": {},
   "source": [
    "Loading pickled data, deduplicating patents, and running model"
   ]
  },
  {
   "cell_type": "code",
   "execution_count": 3,
   "metadata": {
    "collapsed": false
   },
   "outputs": [
    {
     "data": {
      "text/plain": [
       "(1402, 7)"
      ]
     },
     "execution_count": 3,
     "metadata": {},
     "output_type": "execute_result"
    }
   ],
   "source": [
    "ptab_patents = pd.read_pickle('ptab_patents.pkl')\n",
    "df = ptab_patents.dropna(axis=0, how='any')\n",
    "df[df.invalidated == 1].shape"
   ]
  },
  {
   "cell_type": "code",
   "execution_count": 4,
   "metadata": {
    "collapsed": false
   },
   "outputs": [],
   "source": [
    "ptab_patents[ptab_patents.invalidated == 0]\n",
    "mask = (ptab_patents[ptab_patents.invalidated == 0].claim_text.str.len() > 1)"
   ]
  },
  {
   "cell_type": "code",
   "execution_count": 5,
   "metadata": {
    "collapsed": true
   },
   "outputs": [],
   "source": [
    "df = ptab_patents.dropna(axis=0, how='any')\n",
    "mask = (ptab_patents.claim_text.str.len() > 1)\n",
    "df = df.loc[mask]"
   ]
  },
  {
   "cell_type": "code",
   "execution_count": 6,
   "metadata": {
    "collapsed": true
   },
   "outputs": [],
   "source": [
    "# De-duplicating patents\n",
    "df = ptab_patents.dropna(axis=0, how='any')\n",
    "mask = (ptab_patents.claim_text.str.len() > 1)\n",
    "df = df.loc[mask]\n",
    "dups = df.duplicated(subset='claim_text', keep='first')\n",
    "df = df.loc[~dups]\n",
    "\n",
    "X = df.claim_text.as_matrix()\n",
    "y = df.invalidated.as_matrix()"
   ]
  },
  {
   "cell_type": "code",
   "execution_count": 6,
   "metadata": {
    "collapsed": false,
    "scrolled": true
   },
   "outputs": [
    {
     "ename": "ImportError",
     "evalue": "No module named 'MySQLdb'",
     "output_type": "error",
     "traceback": [
      "\u001b[0;31m---------------------------------------------------------------------------\u001b[0m",
      "\u001b[0;31mImportError\u001b[0m                               Traceback (most recent call last)",
      "\u001b[0;32m<ipython-input-6-d8f1d20aaeae>\u001b[0m in \u001b[0;36m<module>\u001b[0;34m()\u001b[0m\n\u001b[1;32m      1\u001b[0m \u001b[1;31m# merigng the claims and the metadata\u001b[0m\u001b[1;33m\u001b[0m\u001b[1;33m\u001b[0m\u001b[0m\n\u001b[0;32m----> 2\u001b[0;31m \u001b[0mall_cases\u001b[0m \u001b[1;33m=\u001b[0m \u001b[0mget_information\u001b[0m\u001b[1;33m(\u001b[0m\u001b[1;34m\"SELECT * FROM ptab_cases\"\u001b[0m\u001b[1;33m)\u001b[0m\u001b[1;33m\u001b[0m\u001b[0m\n\u001b[0m\u001b[1;32m      3\u001b[0m \u001b[0mall_info\u001b[0m \u001b[1;33m=\u001b[0m \u001b[0mget_information\u001b[0m\u001b[1;33m(\u001b[0m\u001b[1;34m'SELECT * FROM patent_info'\u001b[0m\u001b[1;33m)\u001b[0m\u001b[1;33m\u001b[0m\u001b[0m\n\u001b[1;32m      4\u001b[0m \u001b[0mptab_cases\u001b[0m \u001b[1;33m=\u001b[0m \u001b[0mall_cases\u001b[0m\u001b[1;33m[\u001b[0m\u001b[0mall_cases\u001b[0m\u001b[1;33m.\u001b[0m\u001b[0mdenied\u001b[0m\u001b[1;33m.\u001b[0m\u001b[0mnotnull\u001b[0m\u001b[1;33m(\u001b[0m\u001b[1;33m)\u001b[0m\u001b[1;33m]\u001b[0m\u001b[1;33m\u001b[0m\u001b[0m\n\u001b[1;32m      5\u001b[0m \u001b[0mptab_stats\u001b[0m \u001b[1;33m=\u001b[0m \u001b[0mptab_cases\u001b[0m\u001b[1;33m.\u001b[0m\u001b[0mmerge\u001b[0m\u001b[1;33m(\u001b[0m\u001b[0mall_info\u001b[0m\u001b[1;33m,\u001b[0m\u001b[0msuffixes\u001b[0m \u001b[1;33m=\u001b[0m \u001b[1;33m[\u001b[0m\u001b[1;34m\"_ptab\"\u001b[0m\u001b[1;33m,\u001b[0m \u001b[1;34m\"_patent\"\u001b[0m\u001b[1;33m]\u001b[0m\u001b[1;33m,\u001b[0m \u001b[0mon\u001b[0m\u001b[1;33m=\u001b[0m\u001b[1;34m\"patent_id\"\u001b[0m\u001b[1;33m)\u001b[0m\u001b[1;33m\u001b[0m\u001b[0m\n",
      "\u001b[0;32m<ipython-input-2-c7c28b8c1815>\u001b[0m in \u001b[0;36mget_information\u001b[0;34m(query, host_db, username, password, db)\u001b[0m\n\u001b[1;32m      3\u001b[0m     \u001b[1;31m# Connecting to the fung db\u001b[0m\u001b[1;33m\u001b[0m\u001b[1;33m\u001b[0m\u001b[0m\n\u001b[1;32m      4\u001b[0m     engine_fung = create_engine(\"mysql://{}:{}@{}/{}\".format(\n\u001b[0;32m----> 5\u001b[0;31m         username, password, host_db, db))\n\u001b[0m\u001b[1;32m      6\u001b[0m     \u001b[0mconnection_fung\u001b[0m \u001b[1;33m=\u001b[0m \u001b[0mengine_fung\u001b[0m\u001b[1;33m.\u001b[0m\u001b[0mconnect\u001b[0m\u001b[1;33m(\u001b[0m\u001b[1;33m)\u001b[0m\u001b[1;33m\u001b[0m\u001b[0m\n\u001b[1;32m      7\u001b[0m     patent_info = pd.read_sql(\n",
      "\u001b[0;32mC:\\Users\\Dany\\Anaconda3\\lib\\site-packages\\sqlalchemy\\engine\\__init__.py\u001b[0m in \u001b[0;36mcreate_engine\u001b[0;34m(*args, **kwargs)\u001b[0m\n\u001b[1;32m    384\u001b[0m     \u001b[0mstrategy\u001b[0m \u001b[1;33m=\u001b[0m \u001b[0mkwargs\u001b[0m\u001b[1;33m.\u001b[0m\u001b[0mpop\u001b[0m\u001b[1;33m(\u001b[0m\u001b[1;34m'strategy'\u001b[0m\u001b[1;33m,\u001b[0m \u001b[0mdefault_strategy\u001b[0m\u001b[1;33m)\u001b[0m\u001b[1;33m\u001b[0m\u001b[0m\n\u001b[1;32m    385\u001b[0m     \u001b[0mstrategy\u001b[0m \u001b[1;33m=\u001b[0m \u001b[0mstrategies\u001b[0m\u001b[1;33m.\u001b[0m\u001b[0mstrategies\u001b[0m\u001b[1;33m[\u001b[0m\u001b[0mstrategy\u001b[0m\u001b[1;33m]\u001b[0m\u001b[1;33m\u001b[0m\u001b[0m\n\u001b[0;32m--> 386\u001b[0;31m     \u001b[1;32mreturn\u001b[0m \u001b[0mstrategy\u001b[0m\u001b[1;33m.\u001b[0m\u001b[0mcreate\u001b[0m\u001b[1;33m(\u001b[0m\u001b[1;33m*\u001b[0m\u001b[0margs\u001b[0m\u001b[1;33m,\u001b[0m \u001b[1;33m**\u001b[0m\u001b[0mkwargs\u001b[0m\u001b[1;33m)\u001b[0m\u001b[1;33m\u001b[0m\u001b[0m\n\u001b[0m\u001b[1;32m    387\u001b[0m \u001b[1;33m\u001b[0m\u001b[0m\n\u001b[1;32m    388\u001b[0m \u001b[1;33m\u001b[0m\u001b[0m\n",
      "\u001b[0;32mC:\\Users\\Dany\\Anaconda3\\lib\\site-packages\\sqlalchemy\\engine\\strategies.py\u001b[0m in \u001b[0;36mcreate\u001b[0;34m(self, name_or_url, **kwargs)\u001b[0m\n\u001b[1;32m     73\u001b[0m                 \u001b[1;32mif\u001b[0m \u001b[0mk\u001b[0m \u001b[1;32min\u001b[0m \u001b[0mkwargs\u001b[0m\u001b[1;33m:\u001b[0m\u001b[1;33m\u001b[0m\u001b[0m\n\u001b[1;32m     74\u001b[0m                     \u001b[0mdbapi_args\u001b[0m\u001b[1;33m[\u001b[0m\u001b[0mk\u001b[0m\u001b[1;33m]\u001b[0m \u001b[1;33m=\u001b[0m \u001b[0mpop_kwarg\u001b[0m\u001b[1;33m(\u001b[0m\u001b[0mk\u001b[0m\u001b[1;33m)\u001b[0m\u001b[1;33m\u001b[0m\u001b[0m\n\u001b[0;32m---> 75\u001b[0;31m             \u001b[0mdbapi\u001b[0m \u001b[1;33m=\u001b[0m \u001b[0mdialect_cls\u001b[0m\u001b[1;33m.\u001b[0m\u001b[0mdbapi\u001b[0m\u001b[1;33m(\u001b[0m\u001b[1;33m**\u001b[0m\u001b[0mdbapi_args\u001b[0m\u001b[1;33m)\u001b[0m\u001b[1;33m\u001b[0m\u001b[0m\n\u001b[0m\u001b[1;32m     76\u001b[0m \u001b[1;33m\u001b[0m\u001b[0m\n\u001b[1;32m     77\u001b[0m         \u001b[0mdialect_args\u001b[0m\u001b[1;33m[\u001b[0m\u001b[1;34m'dbapi'\u001b[0m\u001b[1;33m]\u001b[0m \u001b[1;33m=\u001b[0m \u001b[0mdbapi\u001b[0m\u001b[1;33m\u001b[0m\u001b[0m\n",
      "\u001b[0;32mC:\\Users\\Dany\\Anaconda3\\lib\\site-packages\\sqlalchemy\\dialects\\mysql\\mysqldb.py\u001b[0m in \u001b[0;36mdbapi\u001b[0;34m(cls)\u001b[0m\n\u001b[1;32m     90\u001b[0m     \u001b[1;33m@\u001b[0m\u001b[0mclassmethod\u001b[0m\u001b[1;33m\u001b[0m\u001b[0m\n\u001b[1;32m     91\u001b[0m     \u001b[1;32mdef\u001b[0m \u001b[0mdbapi\u001b[0m\u001b[1;33m(\u001b[0m\u001b[0mcls\u001b[0m\u001b[1;33m)\u001b[0m\u001b[1;33m:\u001b[0m\u001b[1;33m\u001b[0m\u001b[0m\n\u001b[0;32m---> 92\u001b[0;31m         \u001b[1;32mreturn\u001b[0m \u001b[0m__import__\u001b[0m\u001b[1;33m(\u001b[0m\u001b[1;34m'MySQLdb'\u001b[0m\u001b[1;33m)\u001b[0m\u001b[1;33m\u001b[0m\u001b[0m\n\u001b[0m\u001b[1;32m     93\u001b[0m \u001b[1;33m\u001b[0m\u001b[0m\n\u001b[1;32m     94\u001b[0m     \u001b[1;32mdef\u001b[0m \u001b[0mdo_executemany\u001b[0m\u001b[1;33m(\u001b[0m\u001b[0mself\u001b[0m\u001b[1;33m,\u001b[0m \u001b[0mcursor\u001b[0m\u001b[1;33m,\u001b[0m \u001b[0mstatement\u001b[0m\u001b[1;33m,\u001b[0m \u001b[0mparameters\u001b[0m\u001b[1;33m,\u001b[0m \u001b[0mcontext\u001b[0m\u001b[1;33m=\u001b[0m\u001b[1;32mNone\u001b[0m\u001b[1;33m)\u001b[0m\u001b[1;33m:\u001b[0m\u001b[1;33m\u001b[0m\u001b[0m\n",
      "\u001b[0;31mImportError\u001b[0m: No module named 'MySQLdb'"
     ]
    }
   ],
   "source": [
    "# merigng the claims and the metadata\n",
    "all_cases = get_information(\"SELECT * FROM ptab_cases\")\n",
    "all_info = get_information('SELECT * FROM patent_info')\n",
    "ptab_cases = all_cases[all_cases.denied.notnull()]\n",
    "ptab_stats = ptab_cases.merge(all_info,suffixes = [\"_ptab\", \"_patent\"], on=\"patent_id\")\n",
    "ptab_stats['petitioner_name'] = ptab_stats.petitioner_name.str.translate(None, string.punctuation).str.lower()\n",
    "ptab_stats['art_unit2']= pd.Series(np.trunc(ptab_stats.art_unit.values.astype(np.float)/10.).astype(np.int)*10)\n",
    "final = df.merge(ptab_stats, suffixes = [\"_algo\", \"_all\"], on=\"patent_id\")"
   ]
  },
  {
   "cell_type": "code",
   "execution_count": 224,
   "metadata": {
    "collapsed": false
   },
   "outputs": [],
   "source": [
    "# De-duplicating patents\n",
    "df = final.dropna(axis=0, how='any')\n",
    "mask = (final.claim_text.str.len() > 1)\n",
    "df = df.loc[mask]\n",
    "dups = df.duplicated(subset='claim_text', keep='first')\n",
    "df = df.loc[~dups]\n",
    "X = df.claim_text.as_matrix()\n",
    "df.art_unit2 = df.art_unit2.apply(str)\n",
    "meta_X_all = pd.get_dummies(df[['petitioner_name', 'art_unit', 'examiner_name']]).as_matrix()\n",
    "meta_X_all2 = pd.get_dummies(df[['petitioner_name', 'art_unit2', 'examiner_name']]).as_matrix()\n",
    "meta_X_pet_art = pd.get_dummies(df[['petitioner_name', 'art_unit']]).as_matrix()\n",
    "meta_X_pet_art2 = pd.get_dummies(df[['petitioner_name', 'art_unit2']]).as_matrix()\n",
    "meta_X_art2 = pd.get_dummies(df[['art_unit2']]).as_matrix()\n",
    "meta_X_art = pd.get_dummies(df[['art_unit']]).as_matrix()\n",
    "y = df.invalidated_all.as_matrix()"
   ]
  },
  {
   "cell_type": "code",
   "execution_count": 15,
   "metadata": {
    "collapsed": false
   },
   "outputs": [
    {
     "data": {
      "text/plain": [
       "array([ \"A system that monitors and facilitates a review of data collected from a vehicle that is used to determine a level of safety or cost of insurance comprising:The system that monitors and facilitates a review of data collected from a vehicle of where the wireless transmitter is configured to transfer the selected vehicle data retained within the memory through a pulse position protocol without varying the power level or phase of a transmitting signal.The system that monitors and facilitates a review of data collected from a vehicle of where the wireless transmitter is compliant with a wireless transaction facilitator that throttles the transmission rates across the wireless network based on an available bandwidth of the wireless network.The system that monitors and facilitates a review of data collected from a vehicle of further comprising a dynamic memory allocation processor that allocates a portion of the memory to retain a copy of a legacy version of firmware that comprises input/output instructions when an updated firmware is transferred to the memory through the wireless network, the dynamic memory allocation processor de-allocates the portion of the memory when an error-free version of the updated firmware is stored or installed in the system or when a copy of the legacy version of the software is restored to control the processor of the system.The system that monitors and facilitates a review of data collected from a vehicle of where the wireless network comprises a mobile broadband communication network that provides full data exchange mobility up to vehicle speeds of about 100 miles per hour.The system that monitors and facilitates a review of data collected from a vehicle of where the wireless transmitter is compliant with two or more multiple packet architectures that are automatically detected and one or more multiple packet architectures that are automatically selected when a series of signals acknowledge that a communication or transfer of information or data may occur.The system that monitors and facilitates a review of data collected from a vehicle of where the wireless transmitter is responsive to an in-vehicle event-driven request to transfer the selected vehicle data retained in the memory to a remote server when the wireless network indicates an available channel capacity to transfer the selected vehicle data across the wireless network.The system that monitors and facilitates a review of data collected from a vehicle of further comprising a receiver tuned to receive continuously transmitted trilateral encoded signals through a bandwidth that is separate from the wireless network.The risk management system of where the processor, the memory, and the wireless transmitter are in communication within a portable device.The risk management system of where the wireless transmitter comprises a single-chip cellular baseband processor.The risk management system of where the single-chip cellular baseband processor is Global System for Mobile Communication compliant, Code Division Multiple Access compliant, or General Packet Radio Service compliant.The risk management system of where the single-chip cellular baseband processor is Global System for Mobile Communication compliant and General Packet Radio Service compliant.The risk management system of where the single-chip cellular baseband processor comprises integrated interface drivers that enable auxiliary components comprising loudspeakers, display, and memory modules to connect directly to the single-chip.The risk management system of where the wireless transmitter comprises an embedded antenna element adjacent to the processor and the memory.The risk management system of where the embedded antenna element comprises a circuit board element.The risk management system of where the wireless transmitter is further configured to respond to a trigger event by transmitting an alert to a third party when a driving incident occurs.The risk management system of where the driving incident comprises exceeding a speed threshold, traveling outside of a designation, or a lock out condition.The risk management system of where the wireless transmitter comprises a transceiver configured to receive a communication from a third party and the alert comprises a text or an aural message.The system that monitors and facilitates a review of data collected from a vehicle of where the server is further configured to calculate an insured's premium under the insured's insurance policy based on the rating factor, or a surcharge or a discount to the insured's premium, based on the rating factor.The system that monitors and facilitates a review of data collected from a vehicle of where the server is further configured to process selected vehicle data that represents one or more aspects of operating the vehicle with data that reflects how the selected vehicle data affects an insured's premium under an insured's insurance policy. \",\n",
       "       \"An on-line insurance policy service system comprising:The system of where the publicly accessible distributed network comprises a plurality of gateways that use an Internet protocol to facilitate a communication between the web browser and the information module.The system of where the insurance policy adjustment module provides the acknowledgment to the web browser after the insurance policy adjustment module implements the adjustment to the existing insurance policy.The system of where the Insurance policy adjustment module provides the acknowledgment to the web browser before the insurance policy adjustment module implements the adjustment to the existing insurance policy.The system of where the insurance policy adjustment module implements the adjustment to the existing insurance policy in response to third data received from the insurance policyholder through the publicly accessible distributed network and the web browser.The system of where the acknowledgement comprises data related to the adjustment of the selected insurance parameter.The system of where the acknowledgement comprises a summary of the adjustment of the selected insurance parameter.The system of where the summary describes a change in at least one of an insurance coverage, an insurance deductible, or a policy limit an insurance company will pay under an insurance coverage.The system of where the acknowledgement comprises a price of the adjustment to the selected insurance policy parameter.The system of where the price is related to a change in at least one of an insurance coverage, an insurance deductible, or a policy limit an insurance company will pay under an insurance coverage.The system of where the price is related to a change in at least one of a change in a party insured, an item insured, or an address.The system of further comprising a payment module coupled to the insurance policy adjustment module.The system of where the payment module is remote from the web browser.The system of where the payment module comprises an account-based system that allows the on-line insurance policy service system to receive on-line payments through the publicly accessible distributed network.The system of where the account based system allows the insurance policyholder to send an on-line payment through the publicly accessible distributed network comprising the Internet.The system of where the payment module facilitates payment of an insurance cost through an electronic funds transfer.The system of where the payment module comprises an account-based system that allows The on-line insurance policy service system to receive electronic fund transfer payments and credit card payments through the publicly accessible distributed network.The system of where the payment module facilitates payment of an insurance cost through a credit card.The system of where the customized insurance document comprises content resident to the insurer's computer and content received from the insurance policyholder through the publicly accessible distributed network and the web browser.The system of where the web browser generates data that specifies a transmission protocol and receives data from a memory of the insurer's computer.The system of where the insurance document comprises a web page.The system of where the insurance document comprises data generated by the insurer's computer that is associated with graphics.The system of where the insurance document comprises a data file generated by the insurer's computer.The system of where the adjustment of the selected insurance policy parameter comprises a change in an item or items insured under the existing insurance policy.The system of further comprising a claims information module that communicates claim processing information to the web browser.The system of further comprising a claims information module coupled to the information module that sends information to the web browser related to a status of an insurance claim.The system of where the adjustment of the selected insurance policy parameter comprises a change in an insurance coverage.The system of where the adjustment of the selected insurance policy parameter comprises a change of an address.The system of where the adjustment of the selected insurance policy parameter changes the party insured under the existing insurance policy.The system of where the party insured comprises a person insured under the existing insurance policy.The system of where the adjustment of the selected insurance policy parameter comprises changing the selected insurance policy parameter or a party insured under the existing insurance policy.The system of where the adjustment of the selected insurance policy parameter comprises receiving information about a party to be insured under the existing insurance policy.The system of where the adjustment of the selected insurance policy parameter adjusts a deductible.The system of where the existing insurance policy comprises a vehicle insurance policy.The system of where the publicly accessible distributed network comprises the Internet.The system of where the personal security code comprises a password.The system of where the password comprises a unique string of characters that identifies the insurance policyholder.The system of where the first data is received through a web page.The system of further comprising a policy quote module coupled to the publicly accessible distributed network to generate an insurance rate quote.The system of where the information module provides insurance information to the web browser through the publicly accessible distributed network.The system of where the insurance information comprises on-line forms.\",\n",
       "       \"An on-line insurance policy service system comprising:The on-line insurance policy service system of wherein the software comprises a sequence of instructions that generates the customized insurance document and sends the customized insurance document to a web browser in response to the second data received from the insurance policyholder.The on-line insurance policy service system of wherein the customized insurance document comprises content resident to an insurer's computer and content received from the insurance policyholder through the publicly accessible network and the web browser.The on-line insurance policy service system of wherein the information module comprises a controller programmed to interact with the web browser running on a separate operating system than an operating system the information module is running on.The on-line insurance policy service system of wherein the web browser is programmed to integrate content stored in a memory of the insurer's computer with content stored in a second computer remote from the insurer's computer.The on-line insurance policy service system of wherein the insurance policy adjustment module provides a real-time acknowledgement to the web browser in response to the adjustment of the selected insurance policy parameter.The on-line insurance policy service of wherein the insurance policy parameter comprises a change in a number or identity of persons insured under an insurance policy of the insurance policyholder.The on-line insurance policy service of wherein the publicly accessible network comprises an Internet.The on-line insurance policy service system of further comprising a visual output coupled to the information module configured to transmit display data comprising the insurance policy parameter of the insurance policyholder.An on-line insurance policy service system comprising:The on-line insurance policy service system of wherein an operating system is configured to allow the insurance policyholder to accept or reject an adjustment of the insurance policy parameter.The on-line insurance policy service system of further comprising a visual output coupled to the information module configured to transmit display data rendering the insurance policy parameter of the insurance policyholder.An on-line insurance policy service system comprising:The on-line insurance policy service system of further comprising a visual output coupled to the information module configured to transmit display data comprising the insurance policy parameter of the insurance policyholder.An on-line insurance policy service system comprising:The system of where the publicly accessible distributed network interface is compliant with an internet protocol to facilitate a communication between a web browser and the information module.The system of where the insurance policy adjustment module provides the acknowledgment before the insurance policy adjustment module implements the adjustment to the existing insurance policy.The system of where the insurance policy adjustment module implements the adjustment to the existing insurance policy in response to third data received from the insurance policyholder through the publicly accessible distributed network interface.The system of where the acknowledgement comprises data related to the adjustment of the selected insurance parameter.The system of where the acknowledgement comprises a summary of the adjustment of the selected insurance parameter.The system of where the summary describes a change in at least one of an insurance coverage, an insurance deductible, or a benefit an insurance company will pay for an insurance coverage.The system of where the acknowledgement comprises a price of the adjustment to the selected insurance policy parameter.The system of where the price is related to a change in at least one of an insurance coverage, an insurance deductible, or a policy limit an insurance company will pay for an insurance coverage.The system of further comprising a payment module embodied on the computer readable medium and coupled to the insurance policy adjustment module.The system of where the payment module comprises an account-based system that allows the on-line insurance policy service system to receive on-line payments through the publicly accessible distributed network interface.The system of where the account based system allows an insurance policyholder to send an on-line payment through the Internet.The system of where the payment module facilitates payment of an insurance cost through an electronic funds transfer.The system of where the payment module facilitates payment of an insurance cost through a credit card.The system of where the payment module facilitates payment of an insurance cost through a card linked to the insurance policyholder's bank account.The system of where the customized insurance document comprises content resident to the insurer's computer and content received from the insurance policyholder through the publicly accessible distributed network interface.The system of where the insurance document comprises a web page.The system of where the insurance document comprises data generated by the insurer's computer that is associated with graphics.The system of where the insurance document comprises a data file generated by the insurer's computer.The system of where the adjustment of the selected insurance policy parameter comprises a change in an item or items insured under the existing insurance policy.The system of further comprising a claims information module embodied on the computer readable medium that communicates claim processing information through the publicly accessible distributed network interface.The system of further comprising a claims information module embodied on the computer readable medium that sends information through the publicly accessible distributed network interface related to a status of an insurance claim.The system of where the adjustment of the selected insurance policy parameter comprises a change in an insurance coverage.The system of where the adjustment of the selected insurance policy parameter comprises a change of an address.The system of where the adjustment of the selected insurance policy parameter changes a party insured by the existing insurance policy.The system of where the party insured comprises a person insured by the existing insurance policy.The system of where the adjustment of the selected insurance policy parameter comprises changing the selected insurance policy parameter or a party insured by the existing insurance policy.The system of where the adjustment of the selected insurance policy parameter comprises receiving information about a party to be insured by the existing insurance policy.The system of where the adjustment of the selected insurance policy parameter adjusts a deductible.The system of where the existing insurance policy comprises a vehicle insurance policy.The system of where the publicly accessible network interface communicates with a network that comprises an Internet.The system of where the personal security code comprises a password.The system of where the personal security code comprises a sequence of characters that identifies the insurance policyholder.The system of where the first data is received through a web page.The system of further comprising a policy quote module embodied on the computer readable medium and coupled to the publicly accessible distributed network interface to generate an insurance rate quote.The system of where the information module provides insurance information through the publicly accessible distributed network interface.The system of where the insurance information comprises on-line forms.The on-line insurance policy service system of further comprising a visual output coupled to the insurance policy adjustment module configured to transmit display data rendering the insurance policy parameter of the existing insurance policy of the insurance policyholder.An on-line insurance policy service system comprising:\",\n",
       "       ...,\n",
       "       'A method, comprising:The method of , wherein the controlled-environment facility is a jail or prison, and wherein the resident is an inmate.The method of , wherein the communication is selected from the group consisting of: a telephone call, a video visitation session, an electronic chat session, a video telephone call, a text message, a prerecorded video message, a social network message, and an electronic mail message.The method of , wherein the CDR includes one or more of: a phone number of a calling party, a phone number of a called party, a starting time of the communication, a duration of the communication, or a billing account charged for the communication.The method of , wherein the digital media file includes a still photograph of the resident captured via the communication device.The method of , wherein the digital media file includes a movie of the resident captured via the communication device.The method of , wherein the digital media file includes audio of the resident captured via the communication device.The method of , wherein the at least one of the two or more parties is the resident, the method further comprising:The method of , wherein the remedial action is selected from the group consisting of: recording the communication, terminating the communication, and notifying a designated party of a security violation.The method of , wherein contents of the digital media file are obtained at least in part prior to the beginning of the communication.The method of , wherein contents of the digital media file are obtained at least in part during the communication.The method of , wherein contents of the digital media file are obtained at least in part after termination of the communication.The method of , wherein the communication is a telephone communication, the communication device is a telephone, and the digital media file includes one or more still or moving images, the method further comprising obtaining the media using an image capture device disposed within the controlled-environment facility but distinct from the telephone.The method of , wherein the media includes one or more still or moving images obtained using an image capture device integrated into the communication device.A non-transitory computer-readable storage medium having program instructions stored thereon that, upon execution by one or more computer systems, cause the one or more computer systems to:The non-transitory computer-readable storage medium of , wherein the media file is obtained using a media capture device disposed within the correctional facility, separate from the communication device, and wherein the media file includes an image, video, or audio captured in the vicinity of the communication device.The non-transitory computer-readable storage medium of , wherein the media file is obtained using a media capture device disposed outside of the correctional facility, separate from a communication device used by the non-resident, and wherein the media file includes an image, video, or audio captured in the vicinity of the non-resident.A system, comprising:The system of , wherein at least a portion of the digital multimedia file is captured prior to the communication having been initiated or after the communication having been terminated.The method of , wherein identifying at least one of the parties based upon a comparison between the digital media file and a signature comprises performing one or more biometric operations upon the still photograph of the resident. ',\n",
       "       'A method for manufacturing or modifying a dental instrument or device, the method comprising:The method of wherein:The method of wherein:The method of wherein:The method of wherein:A method for manufacturing or modifying a dental instrument or device, the method comprising:The method of wherein:The method of wherein:The method of wherein:The method of wherein:The method of wherein:A method for manufacturing or modifying an endodontic instrument for use in performing root canal therapy on a tooth, the method comprising:The method of wherein:The method of wherein:The method of wherein:The method of wherein:',\n",
       "       'A method for classifying a pitch thrown by a human pitcher, the method comprising:The method of , further comprising:The method of , wherein the pitch classification algorithm is implemented as a neural network, and wherein the one or more pitch properties are inputs to the neural network.The method of , further comprising receiving weather information, wherein the classification of the pitch is based at least in part on the weather information.The method of , wherein the weather information includes one or more of a wind speed, a wind direction, a temperature, a humidity, an amount of sunlight, or a time of day.The method of , further comprising providing the classification of the pitch to a game monitoring system.The method of , wherein the pitcher information further includes one or more of an indication of whether the human pitcher is right-handed or left-handed, a maximum pitch speed of the human pitcher, a minimum pitch speed of the human pitcher, a speed range of the human pitcher, or an identification of one or more pitch types that are not thrown by the human pitcher.The method of , wherein the plurality of different pitch types include at least two of a breaking ball, a changeup ball, a knuckleball, an eephus pitch, a spitball, or a gyro ball.A computing device comprising:The computing device of , further comprising a receiver configured to receive the one or more pitch properties from the one or more monitoring devices.The computing device of , further comprising the one or more monitoring devices, wherein the one or more monitoring devices include a video camera.The computing device of , wherein the one or more pitch properties include one or more of an initial acceleration of the ball, an ending acceleration of the ball, an average acceleration of the ball, a direction of acceleration of the ball, an amount of spin on the ball, or a direction of the spin on the ball.The computing device of , wherein the pitcher information further includes an indication of how the human pitcher would classify the pitch based on the pitch information.A non-transitory computer-readable medium having stored thereon, computer-executable instructions that, if executed by a computing device, cause the computing device to perform a method comprising:The non-transitory computer-readable medium of , further comprising providing the classification of the pitch to a game monitoring system.The non-transitory computer-readable medium of , further comprising receiving weather information, wherein the classification of the pitch is based at least in part on the weather information, and wherein the weather information includes a wind speed and a wind direction.The non-transitory computer-readable medium of , further comprising:'], dtype=object)"
      ]
     },
     "execution_count": 15,
     "metadata": {},
     "output_type": "execute_result"
    }
   ],
   "source": [
    "X"
   ]
  },
  {
   "cell_type": "code",
   "execution_count": 21,
   "metadata": {
    "collapsed": false
   },
   "outputs": [],
   "source": [
    "def stem(X):\n",
    "    stemmer2 = SnowballStemmer('english')\n",
    "    stemmer = PorterStemmer()\n",
    "    stemmed_X = []\n",
    "\n",
    "    for elem in X:\n",
    "        words = elem.split()\n",
    "        new_claim = [stemmer.stem(word.decode('utf8')) for word in words]\n",
    "        stemmed_X.append(' '.join(new_claim))\n",
    "    return np.array(stemmed_X)\n",
    "\n",
    "new_X = stem(X) "
   ]
  },
  {
   "cell_type": "code",
   "execution_count": 7,
   "metadata": {
    "collapsed": false
   },
   "outputs": [
    {
     "data": {
      "text/plain": [
       "array([ \"A system that monitors and facilitates a review of data collected from a vehicle that is used to determine a level of safety or cost of insurance comprising:The system that monitors and facilitates a review of data collected from a vehicle of where the wireless transmitter is configured to transfer the selected vehicle data retained within the memory through a pulse position protocol without varying the power level or phase of a transmitting signal.The system that monitors and facilitates a review of data collected from a vehicle of where the wireless transmitter is compliant with a wireless transaction facilitator that throttles the transmission rates across the wireless network based on an available bandwidth of the wireless network.The system that monitors and facilitates a review of data collected from a vehicle of further comprising a dynamic memory allocation processor that allocates a portion of the memory to retain a copy of a legacy version of firmware that comprises input/output instructions when an updated firmware is transferred to the memory through the wireless network, the dynamic memory allocation processor de-allocates the portion of the memory when an error-free version of the updated firmware is stored or installed in the system or when a copy of the legacy version of the software is restored to control the processor of the system.The system that monitors and facilitates a review of data collected from a vehicle of where the wireless network comprises a mobile broadband communication network that provides full data exchange mobility up to vehicle speeds of about 100 miles per hour.The system that monitors and facilitates a review of data collected from a vehicle of where the wireless transmitter is compliant with two or more multiple packet architectures that are automatically detected and one or more multiple packet architectures that are automatically selected when a series of signals acknowledge that a communication or transfer of information or data may occur.The system that monitors and facilitates a review of data collected from a vehicle of where the wireless transmitter is responsive to an in-vehicle event-driven request to transfer the selected vehicle data retained in the memory to a remote server when the wireless network indicates an available channel capacity to transfer the selected vehicle data across the wireless network.The system that monitors and facilitates a review of data collected from a vehicle of further comprising a receiver tuned to receive continuously transmitted trilateral encoded signals through a bandwidth that is separate from the wireless network.The risk management system of where the processor, the memory, and the wireless transmitter are in communication within a portable device.The risk management system of where the wireless transmitter comprises a single-chip cellular baseband processor.The risk management system of where the single-chip cellular baseband processor is Global System for Mobile Communication compliant, Code Division Multiple Access compliant, or General Packet Radio Service compliant.The risk management system of where the single-chip cellular baseband processor is Global System for Mobile Communication compliant and General Packet Radio Service compliant.The risk management system of where the single-chip cellular baseband processor comprises integrated interface drivers that enable auxiliary components comprising loudspeakers, display, and memory modules to connect directly to the single-chip.The risk management system of where the wireless transmitter comprises an embedded antenna element adjacent to the processor and the memory.The risk management system of where the embedded antenna element comprises a circuit board element.The risk management system of where the wireless transmitter is further configured to respond to a trigger event by transmitting an alert to a third party when a driving incident occurs.The risk management system of where the driving incident comprises exceeding a speed threshold, traveling outside of a designation, or a lock out condition.The risk management system of where the wireless transmitter comprises a transceiver configured to receive a communication from a third party and the alert comprises a text or an aural message.The system that monitors and facilitates a review of data collected from a vehicle of where the server is further configured to calculate an insured's premium under the insured's insurance policy based on the rating factor, or a surcharge or a discount to the insured's premium, based on the rating factor.The system that monitors and facilitates a review of data collected from a vehicle of where the server is further configured to process selected vehicle data that represents one or more aspects of operating the vehicle with data that reflects how the selected vehicle data affects an insured's premium under an insured's insurance policy. \",\n",
       "       \"An on-line insurance policy service system comprising:The system of where the publicly accessible distributed network comprises a plurality of gateways that use an Internet protocol to facilitate a communication between the web browser and the information module.The system of where the insurance policy adjustment module provides the acknowledgment to the web browser after the insurance policy adjustment module implements the adjustment to the existing insurance policy.The system of where the Insurance policy adjustment module provides the acknowledgment to the web browser before the insurance policy adjustment module implements the adjustment to the existing insurance policy.The system of where the insurance policy adjustment module implements the adjustment to the existing insurance policy in response to third data received from the insurance policyholder through the publicly accessible distributed network and the web browser.The system of where the acknowledgement comprises data related to the adjustment of the selected insurance parameter.The system of where the acknowledgement comprises a summary of the adjustment of the selected insurance parameter.The system of where the summary describes a change in at least one of an insurance coverage, an insurance deductible, or a policy limit an insurance company will pay under an insurance coverage.The system of where the acknowledgement comprises a price of the adjustment to the selected insurance policy parameter.The system of where the price is related to a change in at least one of an insurance coverage, an insurance deductible, or a policy limit an insurance company will pay under an insurance coverage.The system of where the price is related to a change in at least one of a change in a party insured, an item insured, or an address.The system of further comprising a payment module coupled to the insurance policy adjustment module.The system of where the payment module is remote from the web browser.The system of where the payment module comprises an account-based system that allows the on-line insurance policy service system to receive on-line payments through the publicly accessible distributed network.The system of where the account based system allows the insurance policyholder to send an on-line payment through the publicly accessible distributed network comprising the Internet.The system of where the payment module facilitates payment of an insurance cost through an electronic funds transfer.The system of where the payment module comprises an account-based system that allows The on-line insurance policy service system to receive electronic fund transfer payments and credit card payments through the publicly accessible distributed network.The system of where the payment module facilitates payment of an insurance cost through a credit card.The system of where the customized insurance document comprises content resident to the insurer's computer and content received from the insurance policyholder through the publicly accessible distributed network and the web browser.The system of where the web browser generates data that specifies a transmission protocol and receives data from a memory of the insurer's computer.The system of where the insurance document comprises a web page.The system of where the insurance document comprises data generated by the insurer's computer that is associated with graphics.The system of where the insurance document comprises a data file generated by the insurer's computer.The system of where the adjustment of the selected insurance policy parameter comprises a change in an item or items insured under the existing insurance policy.The system of further comprising a claims information module that communicates claim processing information to the web browser.The system of further comprising a claims information module coupled to the information module that sends information to the web browser related to a status of an insurance claim.The system of where the adjustment of the selected insurance policy parameter comprises a change in an insurance coverage.The system of where the adjustment of the selected insurance policy parameter comprises a change of an address.The system of where the adjustment of the selected insurance policy parameter changes the party insured under the existing insurance policy.The system of where the party insured comprises a person insured under the existing insurance policy.The system of where the adjustment of the selected insurance policy parameter comprises changing the selected insurance policy parameter or a party insured under the existing insurance policy.The system of where the adjustment of the selected insurance policy parameter comprises receiving information about a party to be insured under the existing insurance policy.The system of where the adjustment of the selected insurance policy parameter adjusts a deductible.The system of where the existing insurance policy comprises a vehicle insurance policy.The system of where the publicly accessible distributed network comprises the Internet.The system of where the personal security code comprises a password.The system of where the password comprises a unique string of characters that identifies the insurance policyholder.The system of where the first data is received through a web page.The system of further comprising a policy quote module coupled to the publicly accessible distributed network to generate an insurance rate quote.The system of where the information module provides insurance information to the web browser through the publicly accessible distributed network.The system of where the insurance information comprises on-line forms.\",\n",
       "       \"An on-line insurance policy service system comprising:The on-line insurance policy service system of wherein the software comprises a sequence of instructions that generates the customized insurance document and sends the customized insurance document to a web browser in response to the second data received from the insurance policyholder.The on-line insurance policy service system of wherein the customized insurance document comprises content resident to an insurer's computer and content received from the insurance policyholder through the publicly accessible network and the web browser.The on-line insurance policy service system of wherein the information module comprises a controller programmed to interact with the web browser running on a separate operating system than an operating system the information module is running on.The on-line insurance policy service system of wherein the web browser is programmed to integrate content stored in a memory of the insurer's computer with content stored in a second computer remote from the insurer's computer.The on-line insurance policy service system of wherein the insurance policy adjustment module provides a real-time acknowledgement to the web browser in response to the adjustment of the selected insurance policy parameter.The on-line insurance policy service of wherein the insurance policy parameter comprises a change in a number or identity of persons insured under an insurance policy of the insurance policyholder.The on-line insurance policy service of wherein the publicly accessible network comprises an Internet.The on-line insurance policy service system of further comprising a visual output coupled to the information module configured to transmit display data comprising the insurance policy parameter of the insurance policyholder.An on-line insurance policy service system comprising:The on-line insurance policy service system of wherein an operating system is configured to allow the insurance policyholder to accept or reject an adjustment of the insurance policy parameter.The on-line insurance policy service system of further comprising a visual output coupled to the information module configured to transmit display data rendering the insurance policy parameter of the insurance policyholder.An on-line insurance policy service system comprising:The on-line insurance policy service system of further comprising a visual output coupled to the information module configured to transmit display data comprising the insurance policy parameter of the insurance policyholder.An on-line insurance policy service system comprising:The system of where the publicly accessible distributed network interface is compliant with an internet protocol to facilitate a communication between a web browser and the information module.The system of where the insurance policy adjustment module provides the acknowledgment before the insurance policy adjustment module implements the adjustment to the existing insurance policy.The system of where the insurance policy adjustment module implements the adjustment to the existing insurance policy in response to third data received from the insurance policyholder through the publicly accessible distributed network interface.The system of where the acknowledgement comprises data related to the adjustment of the selected insurance parameter.The system of where the acknowledgement comprises a summary of the adjustment of the selected insurance parameter.The system of where the summary describes a change in at least one of an insurance coverage, an insurance deductible, or a benefit an insurance company will pay for an insurance coverage.The system of where the acknowledgement comprises a price of the adjustment to the selected insurance policy parameter.The system of where the price is related to a change in at least one of an insurance coverage, an insurance deductible, or a policy limit an insurance company will pay for an insurance coverage.The system of further comprising a payment module embodied on the computer readable medium and coupled to the insurance policy adjustment module.The system of where the payment module comprises an account-based system that allows the on-line insurance policy service system to receive on-line payments through the publicly accessible distributed network interface.The system of where the account based system allows an insurance policyholder to send an on-line payment through the Internet.The system of where the payment module facilitates payment of an insurance cost through an electronic funds transfer.The system of where the payment module facilitates payment of an insurance cost through a credit card.The system of where the payment module facilitates payment of an insurance cost through a card linked to the insurance policyholder's bank account.The system of where the customized insurance document comprises content resident to the insurer's computer and content received from the insurance policyholder through the publicly accessible distributed network interface.The system of where the insurance document comprises a web page.The system of where the insurance document comprises data generated by the insurer's computer that is associated with graphics.The system of where the insurance document comprises a data file generated by the insurer's computer.The system of where the adjustment of the selected insurance policy parameter comprises a change in an item or items insured under the existing insurance policy.The system of further comprising a claims information module embodied on the computer readable medium that communicates claim processing information through the publicly accessible distributed network interface.The system of further comprising a claims information module embodied on the computer readable medium that sends information through the publicly accessible distributed network interface related to a status of an insurance claim.The system of where the adjustment of the selected insurance policy parameter comprises a change in an insurance coverage.The system of where the adjustment of the selected insurance policy parameter comprises a change of an address.The system of where the adjustment of the selected insurance policy parameter changes a party insured by the existing insurance policy.The system of where the party insured comprises a person insured by the existing insurance policy.The system of where the adjustment of the selected insurance policy parameter comprises changing the selected insurance policy parameter or a party insured by the existing insurance policy.The system of where the adjustment of the selected insurance policy parameter comprises receiving information about a party to be insured by the existing insurance policy.The system of where the adjustment of the selected insurance policy parameter adjusts a deductible.The system of where the existing insurance policy comprises a vehicle insurance policy.The system of where the publicly accessible network interface communicates with a network that comprises an Internet.The system of where the personal security code comprises a password.The system of where the personal security code comprises a sequence of characters that identifies the insurance policyholder.The system of where the first data is received through a web page.The system of further comprising a policy quote module embodied on the computer readable medium and coupled to the publicly accessible distributed network interface to generate an insurance rate quote.The system of where the information module provides insurance information through the publicly accessible distributed network interface.The system of where the insurance information comprises on-line forms.The on-line insurance policy service system of further comprising a visual output coupled to the insurance policy adjustment module configured to transmit display data rendering the insurance policy parameter of the existing insurance policy of the insurance policyholder.An on-line insurance policy service system comprising:\",\n",
       "       ...,\n",
       "       'A method, comprising:The method of , wherein the controlled-environment facility is a jail or prison, and wherein the resident is an inmate.The method of , wherein the communication is selected from the group consisting of: a telephone call, a video visitation session, an electronic chat session, a video telephone call, a text message, a prerecorded video message, a social network message, and an electronic mail message.The method of , wherein the CDR includes one or more of: a phone number of a calling party, a phone number of a called party, a starting time of the communication, a duration of the communication, or a billing account charged for the communication.The method of , wherein the digital media file includes a still photograph of the resident captured via the communication device.The method of , wherein the digital media file includes a movie of the resident captured via the communication device.The method of , wherein the digital media file includes audio of the resident captured via the communication device.The method of , wherein the at least one of the two or more parties is the resident, the method further comprising:The method of , wherein the remedial action is selected from the group consisting of: recording the communication, terminating the communication, and notifying a designated party of a security violation.The method of , wherein contents of the digital media file are obtained at least in part prior to the beginning of the communication.The method of , wherein contents of the digital media file are obtained at least in part during the communication.The method of , wherein contents of the digital media file are obtained at least in part after termination of the communication.The method of , wherein the communication is a telephone communication, the communication device is a telephone, and the digital media file includes one or more still or moving images, the method further comprising obtaining the media using an image capture device disposed within the controlled-environment facility but distinct from the telephone.The method of , wherein the media includes one or more still or moving images obtained using an image capture device integrated into the communication device.A non-transitory computer-readable storage medium having program instructions stored thereon that, upon execution by one or more computer systems, cause the one or more computer systems to:The non-transitory computer-readable storage medium of , wherein the media file is obtained using a media capture device disposed within the correctional facility, separate from the communication device, and wherein the media file includes an image, video, or audio captured in the vicinity of the communication device.The non-transitory computer-readable storage medium of , wherein the media file is obtained using a media capture device disposed outside of the correctional facility, separate from a communication device used by the non-resident, and wherein the media file includes an image, video, or audio captured in the vicinity of the non-resident.A system, comprising:The system of , wherein at least a portion of the digital multimedia file is captured prior to the communication having been initiated or after the communication having been terminated.The method of , wherein identifying at least one of the parties based upon a comparison between the digital media file and a signature comprises performing one or more biometric operations upon the still photograph of the resident. ',\n",
       "       'A method for manufacturing or modifying a dental instrument or device, the method comprising:The method of wherein:The method of wherein:The method of wherein:The method of wherein:A method for manufacturing or modifying a dental instrument or device, the method comprising:The method of wherein:The method of wherein:The method of wherein:The method of wherein:The method of wherein:A method for manufacturing or modifying an endodontic instrument for use in performing root canal therapy on a tooth, the method comprising:The method of wherein:The method of wherein:The method of wherein:The method of wherein:',\n",
       "       'A method for classifying a pitch thrown by a human pitcher, the method comprising:The method of , further comprising:The method of , wherein the pitch classification algorithm is implemented as a neural network, and wherein the one or more pitch properties are inputs to the neural network.The method of , further comprising receiving weather information, wherein the classification of the pitch is based at least in part on the weather information.The method of , wherein the weather information includes one or more of a wind speed, a wind direction, a temperature, a humidity, an amount of sunlight, or a time of day.The method of , further comprising providing the classification of the pitch to a game monitoring system.The method of , wherein the pitcher information further includes one or more of an indication of whether the human pitcher is right-handed or left-handed, a maximum pitch speed of the human pitcher, a minimum pitch speed of the human pitcher, a speed range of the human pitcher, or an identification of one or more pitch types that are not thrown by the human pitcher.The method of , wherein the plurality of different pitch types include at least two of a breaking ball, a changeup ball, a knuckleball, an eephus pitch, a spitball, or a gyro ball.A computing device comprising:The computing device of , further comprising a receiver configured to receive the one or more pitch properties from the one or more monitoring devices.The computing device of , further comprising the one or more monitoring devices, wherein the one or more monitoring devices include a video camera.The computing device of , wherein the one or more pitch properties include one or more of an initial acceleration of the ball, an ending acceleration of the ball, an average acceleration of the ball, a direction of acceleration of the ball, an amount of spin on the ball, or a direction of the spin on the ball.The computing device of , wherein the pitcher information further includes an indication of how the human pitcher would classify the pitch based on the pitch information.A non-transitory computer-readable medium having stored thereon, computer-executable instructions that, if executed by a computing device, cause the computing device to perform a method comprising:The non-transitory computer-readable medium of , further comprising providing the classification of the pitch to a game monitoring system.The non-transitory computer-readable medium of , further comprising receiving weather information, wherein the classification of the pitch is based at least in part on the weather information, and wherein the weather information includes a wind speed and a wind direction.The non-transitory computer-readable medium of , further comprising:'], dtype=object)"
      ]
     },
     "execution_count": 7,
     "metadata": {},
     "output_type": "execute_result"
    }
   ],
   "source": [
    "X"
   ]
  },
  {
   "cell_type": "code",
   "execution_count": 9,
   "metadata": {
    "collapsed": false
   },
   "outputs": [],
   "source": [
    "from sklearn.feature_extraction.text import TfidfVectorizer, CountVectorizer, TfidfTransformer\n",
    "from sklearn.svm import LinearSVC\n",
    "from sklearn.linear_model import LogisticRegression, LogisticRegressionCV\n",
    "from sklearn import cross_validation\n",
    "from sklearn.ensemble import RandomForestClassifier\n",
    "from sklearn.metrics import precision_score\n",
    "from sklearn.metrics import recall_score\n",
    "\n",
    "def train_model(X, meta, y, C):\n",
    "    # data = np.hstack((np.asmatrix(X).T, meta))\n",
    "    X_train, X_test, y_train, y_test = cross_validation.train_test_split(\n",
    "        X, y, test_size=0.05, random_state=20)\n",
    "    \n",
    "    tfidf = TfidfVectorizer()\n",
    "    tfidf.fit(X)\n",
    "    X_train = tfidf.transform(X_train)\n",
    "    X_test = tfidf.transform(X_test)\n",
    "    print(X_train.shape)\n",
    "    if meta != None:\n",
    "        meta_train, meta_test, y_meta_train, y_meta_test = cross_validation.train_test_split(\n",
    "            meta, y, test_size=0.2, random_state=20)  \n",
    "        meta_X_train = np.hstack((X_train.toarray(), meta_train[:,:]))\n",
    "        meta_X_test = np.hstack((X_test.toarray(), meta_test[:,:]))\n",
    "        print(meta_X_train.shape)\n",
    "    else:\n",
    "        meta_X_train = X_train\n",
    "        meta_X_test = X_test\n",
    "    svc_class = LinearSVC(C=C, random_state=15)\n",
    "    model = svc_class.fit(meta_X_train, y_train)\n",
    "    # forest = RandomForestClassifier(random_state=15)\n",
    "    # model = forest.fit(meta_X_train, y_train)\n",
    "    # logistic_class = LogisticRegressionCV(Cs=np.arange(0.1, 5, 0.1), penalty='l2', dual=False, random_state=15, cv=5)\n",
    "\n",
    "    logistic_class = LogisticRegression(C=C, penalty='l2', dual=True, random_state=15)\n",
    "    model = logistic_class.fit(meta_X_train, y_train)\n",
    "\n",
    "    precision = precision_score(y_test, model.predict(meta_X_test))\n",
    "    recall = recall_score(y_test, model.predict(meta_X_test))\n",
    "\n",
    "    print(\"Training accuracy is {0}\".format(model.score(meta_X_train, y_train)))\n",
    "    print(\"Testing accuracy is {0}\".format(model.score(meta_X_test, y_test)))\n",
    "    print(\"Precision is {0}\".format(precision))\n",
    "    print(\"Recall is {0}\".format(recall))\n",
    "    # score.append(model.score(meta_X_test, y_test))\n",
    "    # vals = df.invalidated_all.value_counts()\n",
    "    # print(\"Outcome of guessing is {}\".format(float(vals[0])/float(sum(vals))))\n",
    "    # print(\"N is {0}\".format(sum(vals)))\n",
    "    \n",
    "    return model, X_test, y_test, tfidf"
   ]
  },
  {
   "cell_type": "code",
   "execution_count": 11,
   "metadata": {
    "collapsed": false,
    "scrolled": true
   },
   "outputs": [
    {
     "name": "stdout",
     "output_type": "stream",
     "text": [
      "(1534, 14339)\n",
      "Training accuracy is 0.914602346806\n",
      "Testing accuracy is 0.740740740741\n",
      "Precision is 0.8\n",
      "Recall is 0.166666666667\n"
     ]
    }
   ],
   "source": [
    "model3, X_test, y_test, tf = train_model(X, None, y, 2.3)"
   ]
  },
  {
   "cell_type": "code",
   "execution_count": 12,
   "metadata": {
    "collapsed": false
   },
   "outputs": [],
   "source": [
    "import pickle\n",
    "f = open('invalidation_model.pkl', 'wb')\n",
    "pickle.dump(model3, open('invalidation_model.pkl', 'wb'))\n",
    "pickle.dump(tf, open('invalidation_tfidf.pkl', 'wb'))\n",
    "f.close()"
   ]
  },
  {
   "cell_type": "code",
   "execution_count": 382,
   "metadata": {
    "collapsed": false
   },
   "outputs": [
    {
     "data": {
      "text/plain": [
       "<matplotlib.text.Text at 0x1b5e2978>"
      ]
     },
     "execution_count": 382,
     "metadata": {},
     "output_type": "execute_result"
    },
    {
     "data": {
      "image/png": "[encoded data removed]",
      "text/plain": [
       "<matplotlib.figure.Figure at 0x4f0a49e8>"
      ]
     },
     "metadata": {},
     "output_type": "display_data"
    }
   ],
   "source": [
    "plt.plot(model.Cs_, np.mean(model.scores_[1.], axis=0))\n",
    "plt.xlabel('Regularization parameter')\n",
    "plt.ylabel('Cross-validation accuracy')\n",
    "plt.title('Cross-validation accuracy in function of the regularization parameter')"
   ]
  },
  {
   "cell_type": "code",
   "execution_count": 371,
   "metadata": {
    "collapsed": false
   },
   "outputs": [
    {
     "data": {
      "text/plain": [
       "3.5000000000000004"
      ]
     },
     "execution_count": 371,
     "metadata": {},
     "output_type": "execute_result"
    }
   ],
   "source": [
    "model.Cs_[np.argmax(np.mean(model.scores_[1.], axis=0))]"
   ]
  },
  {
   "cell_type": "markdown",
   "metadata": {},
   "source": [
    "Recall is high when we keep our false negatives low and precision is high when we keep our false positives low. Basically, this classifier is overindexing on precision relative to recall. A next step here would be to look at tradeoffs between precision and recall between different probabalistic classifiers. We probably also want to play with regularization."
   ]
  },
  {
   "cell_type": "code",
   "execution_count": 388,
   "metadata": {
    "collapsed": false
   },
   "outputs": [
    {
     "name": "stdout",
     "output_type": "stream",
     "text": [
      "or\n",
      "correspond\n",
      "of\n",
      "from\n",
      "plural\n",
      "user\n",
      "to\n",
      "comprising\n",
      "provid\n",
      "the\n"
     ]
    }
   ],
   "source": [
    "# only works when with random forest\n",
    "np.argsort(model3.feature_importances_)[-10:]\n",
    "for feature in np.argsort(model3.feature_importances_)[-10:]:\n",
    "    for word in tf.vocabulary_:\n",
    "        if tf.vocabulary_[word] == feature:\n",
    "            print word"
   ]
  },
  {
   "cell_type": "code",
   "execution_count": 403,
   "metadata": {
    "collapsed": false
   },
   "outputs": [
    {
     "data": {
      "text/plain": [
       "array([ 0.        ,  0.        ,  0.        , ...,  0.00830895,\n",
       "        0.00844366,  0.00854598])"
      ]
     },
     "execution_count": 403,
     "metadata": {},
     "output_type": "execute_result"
    }
   ],
   "source": [
    "np.sort(model3.feature_importances_)"
   ]
  },
  {
   "cell_type": "markdown",
   "metadata": {
    "collapsed": true
   },
   "source": [
    "# Neural Network"
   ]
  },
  {
   "cell_type": "code",
   "execution_count": 24,
   "metadata": {
    "collapsed": true
   },
   "outputs": [],
   "source": [
    "X_train, X_test, y_train, y_test = cross_validation.train_test_split(\n",
    "    new_X, y, test_size=0.2, random_state=20)\n",
    "\n",
    "tfidf = TfidfVectorizer()\n",
    "tfidf.fit(new_X)\n",
    "X_train = tfidf.transform(X_train)\n",
    "X_test = tfidf.transform(X_test)"
   ]
  },
  {
   "cell_type": "code",
   "execution_count": 66,
   "metadata": {
    "collapsed": false,
    "scrolled": true
   },
   "outputs": [],
   "source": [
    "sess = tf.InteractiveSession()\n",
    "\n",
    "x = tf.placeholder(tf.float32, shape=[None, 12677])\n",
    "y_ = tf.placeholder(tf.float32, shape=[None, 2])\n",
    "                   \n",
    "W_h = tf.Variable(tf.zeros([X_train.shape[1], 2000]))\n",
    "b_h = tf.Variable(tf.zeros([2000]))\n",
    "\n",
    "h = tf.nn.softmax(tf.matmul(x, W_h) + b_h)\n",
    "\n",
    "W_o = tf.Variable(tf.zeros([2000, 2]))\n",
    "b_o = tf.Variable(tf.zeros([2]))\n",
    "\n",
    "y = tf.nn.softmax(tf.matmul(h, W_o) + b_o)\n",
    "y_ = tf.placeholder(tf.float32, [None, 2])\n",
    "\n",
    "# cross_entropy = tf.reduce_mean(-tf.reduce_sum(y_ * tf.log(y), reduction_indices=[1]))\n",
    "cross_entropy = tf.reduce_mean(\n",
    "    tf.nn.softmax_cross_entropy_with_logits(labels=y_, logits=y))\n",
    "train_step = tf.train.GradientDescentOptimizer(0.5).minimize(cross_entropy)"
   ]
  },
  {
   "cell_type": "code",
   "execution_count": 72,
   "metadata": {
    "collapsed": false,
    "scrolled": true
   },
   "outputs": [
    {
     "name": "stdout",
     "output_type": "stream",
     "text": [
      "0\n",
      "1\n",
      "2\n",
      "3\n",
      "4\n",
      "5\n",
      "6\n",
      "7\n",
      "8\n",
      "9\n",
      "10\n",
      "11\n",
      "12\n",
      "13\n",
      "14\n",
      "15\n",
      "16\n",
      "17\n",
      "18\n",
      "19\n",
      "20\n",
      "21\n",
      "22\n",
      "23\n",
      "24\n",
      "25\n",
      "26\n",
      "27\n",
      "28\n",
      "29\n",
      "30\n",
      "31\n",
      "32\n",
      "33\n",
      "34\n",
      "35\n",
      "36\n",
      "37\n",
      "38\n",
      "39\n",
      "40\n",
      "41\n",
      "42\n",
      "43\n",
      "44\n",
      "45\n",
      "46\n",
      "47\n",
      "48\n",
      "49\n",
      "50\n",
      "51\n",
      "52\n",
      "53\n",
      "54\n",
      "55\n",
      "56\n",
      "57\n",
      "58\n",
      "59\n",
      "60\n",
      "61\n",
      "62\n",
      "63\n",
      "64\n",
      "65\n",
      "66\n",
      "67\n",
      "68\n",
      "69\n",
      "70\n",
      "71\n",
      "72\n",
      "73\n",
      "74\n",
      "75\n",
      "76\n",
      "77\n",
      "78\n",
      "79\n",
      "80\n",
      "81\n",
      "82\n",
      "83\n",
      "84\n",
      "85\n",
      "86\n",
      "87\n",
      "88\n",
      "89\n",
      "90\n",
      "91\n",
      "92\n",
      "93\n",
      "94\n",
      "95\n",
      "96\n",
      "97\n",
      "98\n",
      "99\n",
      "100\n",
      "101\n",
      "102\n",
      "103\n",
      "104\n",
      "105\n",
      "106\n",
      "107\n",
      "108\n",
      "109\n",
      "110\n",
      "111\n",
      "112\n",
      "113\n",
      "114\n",
      "115\n",
      "116\n",
      "117\n",
      "118\n",
      "119\n",
      "120\n",
      "121\n",
      "122\n",
      "123\n",
      "124\n",
      "125\n",
      "126\n",
      "127\n",
      "128\n",
      "129\n",
      "130\n",
      "131\n",
      "132\n",
      "133\n",
      "134\n",
      "135\n",
      "136\n",
      "137\n",
      "138\n",
      "139\n",
      "140\n",
      "141\n",
      "142\n",
      "143\n",
      "144\n",
      "145\n",
      "146\n",
      "147\n",
      "148\n",
      "149\n",
      "150\n",
      "151\n",
      "152\n",
      "153\n",
      "154\n",
      "155\n",
      "156\n",
      "157\n",
      "158\n",
      "159\n",
      "160\n",
      "161\n",
      "162\n",
      "163\n",
      "164\n",
      "165\n",
      "166\n",
      "167\n",
      "168\n",
      "169\n",
      "170\n",
      "171\n",
      "172\n",
      "173\n",
      "174\n",
      "175\n",
      "176\n",
      "177\n",
      "178\n",
      "179\n",
      "180\n",
      "181\n",
      "182\n",
      "183\n",
      "184\n",
      "185\n",
      "186\n",
      "187\n",
      "188\n",
      "189\n",
      "190\n",
      "191\n",
      "192\n",
      "193\n",
      "194\n",
      "195\n",
      "196\n",
      "197\n",
      "198\n",
      "199\n",
      "200\n",
      "201\n",
      "202\n",
      "203\n",
      "204\n",
      "205\n",
      "206\n",
      "207\n",
      "208\n",
      "209\n",
      "210\n",
      "211\n",
      "212\n",
      "213\n",
      "214\n",
      "215\n",
      "216\n",
      "217\n",
      "218\n",
      "219\n",
      "220\n",
      "221\n",
      "222\n",
      "223\n",
      "224\n",
      "225\n",
      "226\n",
      "227\n",
      "228\n",
      "229\n",
      "230\n",
      "231\n",
      "232\n",
      "233\n",
      "234\n",
      "235\n",
      "236\n",
      "237\n",
      "238\n",
      "239\n",
      "240\n",
      "241\n",
      "242\n",
      "243\n",
      "244\n",
      "245\n",
      "246\n",
      "247\n",
      "248\n",
      "249\n",
      "250\n",
      "251\n",
      "252\n",
      "253\n",
      "254\n",
      "255\n",
      "256\n",
      "257\n",
      "258\n",
      "259\n",
      "260\n",
      "261\n",
      "262\n",
      "263\n",
      "264\n",
      "265\n",
      "266\n",
      "267\n",
      "268\n",
      "269\n",
      "270\n",
      "271\n",
      "272\n",
      "273\n",
      "274\n",
      "275\n",
      "276\n",
      "277\n",
      "278\n",
      "279\n",
      "280\n",
      "281\n",
      "282\n",
      "283\n",
      "284\n",
      "285\n",
      "286\n",
      "287\n",
      "288\n",
      "289\n",
      "290\n",
      "291\n",
      "292\n",
      "293\n",
      "294\n",
      "295\n",
      "296\n",
      "297\n",
      "298\n",
      "299\n"
     ]
    }
   ],
   "source": [
    "tf.global_variables_initializer().run()\n",
    "\n",
    "for _ in range(300):\n",
    "    print(_)\n",
    "    batch_xs, batch_ys = X_train.toarray(), np.vstack((np.abs(y_train - 1), y_train)).T\n",
    "    sess.run(train_step, feed_dict={x: batch_xs, y_: batch_ys})"
   ]
  },
  {
   "cell_type": "code",
   "execution_count": 75,
   "metadata": {
    "collapsed": false
   },
   "outputs": [
    {
     "name": "stdout",
     "output_type": "stream",
     "text": [
      "0.606811\n"
     ]
    }
   ],
   "source": [
    "correct_prediction = tf.equal(tf.argmax(y,1), tf.argmax(y_,1))\n",
    "accuracy = tf.reduce_mean(tf.cast(correct_prediction, tf.float32))\n",
    "print(sess.run(accuracy, feed_dict={x: X_test.toarray(), y_: np.vstack((np.abs(y_test - 1), y_test)).T}))"
   ]
  },
  {
   "cell_type": "code",
   "execution_count": 71,
   "metadata": {
    "collapsed": false
   },
   "outputs": [
    {
     "name": "stdout",
     "output_type": "stream",
     "text": [
      "(?, 12677)\n"
     ]
    }
   ],
   "source": [
    "print(x.get_shape())"
   ]
  },
  {
   "cell_type": "code",
   "execution_count": null,
   "metadata": {
    "collapsed": true
   },
   "outputs": [],
   "source": []
  }
 ],
 "metadata": {
  "anaconda-cloud": {},
  "kernelspec": {
   "display_name": "Python [Root]",
   "language": "python",
   "name": "Python [Root]"
  },
  "language_info": {
   "codemirror_mode": {
    "name": "ipython",
    "version": 2
   },
   "file_extension": ".py",
   "mimetype": "text/x-python",
   "name": "python",
   "nbconvert_exporter": "python",
   "pygments_lexer": "ipython2",
   "version": "2.7.12"
  }
 },
 "nbformat": 4,
 "nbformat_minor": 1
}

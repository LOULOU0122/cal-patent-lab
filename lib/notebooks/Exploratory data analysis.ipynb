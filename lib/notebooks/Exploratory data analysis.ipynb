{
 "cells": [
  {
   "cell_type": "markdown",
   "metadata": {},
   "source": [
    "# Invalidation — linear SVC skeleton"
   ]
  },
  {
   "cell_type": "code",
   "execution_count": 32,
   "metadata": {
    "collapsed": false
   },
   "outputs": [],
   "source": [
    "import pandas as pd\n",
    "import csv\n",
    "from pandas import DataFrame\n",
    "import numpy as np\n",
    "\n",
    "patent_data = DataFrame.from_csv('./records_sample_10000_2.tsv', sep='\\t', header=0)\n",
    "patent_text = pd.read_csv('./patent_title_abstract_claims.tsv.00', sep='\\t', names=['patent_id', 'patent_text'], index_col='patent_id')"
   ]
  },
  {
   "cell_type": "code",
   "execution_count": 33,
   "metadata": {
    "collapsed": false,
    "scrolled": true
   },
   "outputs": [
    {
     "data": {
      "text/html": [
       "<div>\n",
       "<table border=\"1\" class=\"dataframe\">\n",
       "  <thead>\n",
       "    <tr style=\"text-align: right;\">\n",
       "      <th></th>\n",
       "      <th>patent_text</th>\n",
       "    </tr>\n",
       "    <tr>\n",
       "      <th>patent_id</th>\n",
       "      <th></th>\n",
       "    </tr>\n",
       "  </thead>\n",
       "  <tbody>\n",
       "    <tr>\n",
       "      <th>D500396</th>\n",
       "      <td>Glove.  ABSTRACT.   CLAIMS. The ornamental des...</td>\n",
       "    </tr>\n",
       "    <tr>\n",
       "      <th>D500397</th>\n",
       "      <td>Shoe.  ABSTRACT.   CLAIMS. The ornamental desi...</td>\n",
       "    </tr>\n",
       "    <tr>\n",
       "      <th>D500398</th>\n",
       "      <td>Shoe.  ABSTRACT.   CLAIMS. The ornamental desi...</td>\n",
       "    </tr>\n",
       "    <tr>\n",
       "      <th>D500399</th>\n",
       "      <td>Shoe having an enclosed toe.  ABSTRACT.   CLAI...</td>\n",
       "    </tr>\n",
       "    <tr>\n",
       "      <th>D500400</th>\n",
       "      <td>Portion of an article of footwear.  ABSTRACT. ...</td>\n",
       "    </tr>\n",
       "  </tbody>\n",
       "</table>\n",
       "</div>"
      ],
      "text/plain": [
       "                                                 patent_text\n",
       "patent_id                                                   \n",
       "D500396    Glove.  ABSTRACT.   CLAIMS. The ornamental des...\n",
       "D500397    Shoe.  ABSTRACT.   CLAIMS. The ornamental desi...\n",
       "D500398    Shoe.  ABSTRACT.   CLAIMS. The ornamental desi...\n",
       "D500399    Shoe having an enclosed toe.  ABSTRACT.   CLAI...\n",
       "D500400    Portion of an article of footwear.  ABSTRACT. ..."
      ]
     },
     "execution_count": 33,
     "metadata": {},
     "output_type": "execute_result"
    }
   ],
   "source": [
    "patent_text.head()"
   ]
  },
  {
   "cell_type": "code",
   "execution_count": 35,
   "metadata": {
    "collapsed": false
   },
   "outputs": [
    {
     "data": {
      "text/html": [
       "<div>\n",
       "<table border=\"1\" class=\"dataframe\">\n",
       "  <thead>\n",
       "    <tr style=\"text-align: right;\">\n",
       "      <th></th>\n",
       "      <th>patent_text</th>\n",
       "    </tr>\n",
       "  </thead>\n",
       "  <tbody>\n",
       "    <tr>\n",
       "      <th>count</th>\n",
       "      <td>84527</td>\n",
       "    </tr>\n",
       "    <tr>\n",
       "      <th>unique</th>\n",
       "      <td>82556</td>\n",
       "    </tr>\n",
       "    <tr>\n",
       "      <th>top</th>\n",
       "      <td>Footwear upper.  ABSTRACT.   CLAIMS. The ornam...</td>\n",
       "    </tr>\n",
       "    <tr>\n",
       "      <th>freq</th>\n",
       "      <td>64</td>\n",
       "    </tr>\n",
       "  </tbody>\n",
       "</table>\n",
       "</div>"
      ],
      "text/plain": [
       "                                              patent_text\n",
       "count                                               84527\n",
       "unique                                              82556\n",
       "top     Footwear upper.  ABSTRACT.   CLAIMS. The ornam...\n",
       "freq                                                   64"
      ]
     },
     "execution_count": 35,
     "metadata": {},
     "output_type": "execute_result"
    }
   ],
   "source": [
    "patent_text.describe()"
   ]
  },
  {
   "cell_type": "markdown",
   "metadata": {},
   "source": [
    "There are ~2K duplicate rows in the claims dataset. For now, we'll eliminate the duplicates."
   ]
  },
  {
   "cell_type": "code",
   "execution_count": 116,
   "metadata": {
    "collapsed": false
   },
   "outputs": [
    {
     "data": {
      "text/html": [
       "<div>\n",
       "<table border=\"1\" class=\"dataframe\">\n",
       "  <thead>\n",
       "    <tr style=\"text-align: right;\">\n",
       "      <th></th>\n",
       "      <th>patent_text</th>\n",
       "    </tr>\n",
       "  </thead>\n",
       "  <tbody>\n",
       "    <tr>\n",
       "      <th>count</th>\n",
       "      <td>82556</td>\n",
       "    </tr>\n",
       "    <tr>\n",
       "      <th>unique</th>\n",
       "      <td>82556</td>\n",
       "    </tr>\n",
       "    <tr>\n",
       "      <th>top</th>\n",
       "      <td>Method for making a puffed food starch product...</td>\n",
       "    </tr>\n",
       "    <tr>\n",
       "      <th>freq</th>\n",
       "      <td>1</td>\n",
       "    </tr>\n",
       "  </tbody>\n",
       "</table>\n",
       "</div>"
      ],
      "text/plain": [
       "                                              patent_text\n",
       "count                                               82556\n",
       "unique                                              82556\n",
       "top     Method for making a puffed food starch product...\n",
       "freq                                                    1"
      ]
     },
     "execution_count": 116,
     "metadata": {},
     "output_type": "execute_result"
    }
   ],
   "source": [
    "patent_text = patent_text.drop_duplicates()\n",
    "patent_text.describe()"
   ]
  },
  {
   "cell_type": "markdown",
   "metadata": {},
   "source": [
    "Next, we inner join the `patent_text dataset` with the `patent_data` dataset (on patent ID)."
   ]
  },
  {
   "cell_type": "code",
   "execution_count": 117,
   "metadata": {
    "collapsed": false
   },
   "outputs": [
    {
     "data": {
      "text/html": [
       "<div>\n",
       "<table border=\"1\" class=\"dataframe\">\n",
       "  <thead>\n",
       "    <tr style=\"text-align: right;\">\n",
       "      <th></th>\n",
       "      <th>GrantDate</th>\n",
       "      <th>ApplNo</th>\n",
       "      <th>ApplNoSimple</th>\n",
       "      <th>ApplDate</th>\n",
       "      <th>AssigneeName</th>\n",
       "      <th>AssigneeLocation</th>\n",
       "      <th>AssigneeCountryCode</th>\n",
       "      <th>AssigneeStateCode</th>\n",
       "      <th>AssigneeCityCode</th>\n",
       "      <th>InventorName</th>\n",
       "      <th>...</th>\n",
       "      <th>InventorStateCode</th>\n",
       "      <th>InventorCityCode</th>\n",
       "      <th>Reference</th>\n",
       "      <th>USClass</th>\n",
       "      <th>CPCClass</th>\n",
       "      <th>Ack</th>\n",
       "      <th>ErrorFlag</th>\n",
       "      <th>IsGrant</th>\n",
       "      <th>patent_text</th>\n",
       "      <th>invalidated</th>\n",
       "    </tr>\n",
       "  </thead>\n",
       "  <tbody>\n",
       "    <tr>\n",
       "      <th>6837216</th>\n",
       "      <td>2005-01-04</td>\n",
       "      <td>10/786,327</td>\n",
       "      <td>10786327</td>\n",
       "      <td>2004-02-26</td>\n",
       "      <td>Mitsubishi Denki Kabushiki Kaisha</td>\n",
       "      <td>Tokyo, JP</td>\n",
       "      <td>JP</td>\n",
       "      <td>NaN</td>\n",
       "      <td>Tokyo</td>\n",
       "      <td>Tanabe; Tsuneo</td>\n",
       "      <td>...</td>\n",
       "      <td>NaN</td>\n",
       "      <td>Hyogo</td>\n",
       "      <td>5746174+6711492+6775609+2003/0182050</td>\n",
       "      <td>123/396+123/397+123/399+701/114+701/115+73/114...</td>\n",
       "      <td>F02D 11/107 (20130101)+F02D 9/105 (20130101)</td>\n",
       "      <td>NaN</td>\n",
       "      <td>0</td>\n",
       "      <td>1.0</td>\n",
       "      <td>Electronic throttle control system.  ABSTRACT....</td>\n",
       "      <td>0</td>\n",
       "    </tr>\n",
       "    <tr>\n",
       "      <th>6837270</th>\n",
       "      <td>2005-01-04</td>\n",
       "      <td>10/303,881</td>\n",
       "      <td>10303881</td>\n",
       "      <td>2002-11-26</td>\n",
       "      <td>NaN</td>\n",
       "      <td>NaN</td>\n",
       "      <td>NaN</td>\n",
       "      <td>NaN</td>\n",
       "      <td>NaN</td>\n",
       "      <td>Douglas; Andrew S.+Walsh; Patrick A.</td>\n",
       "      <td>...</td>\n",
       "      <td>NULL+NULL</td>\n",
       "      <td>London, Ontario+London, Ontario</td>\n",
       "      <td>1706051+2119473+2591531+2819097+2823699+286182...</td>\n",
       "      <td>137/613+128/204.26+128/205.24+137/557+251/148+...</td>\n",
       "      <td>F17C 13/04 (20130101)+Y10T 137/8326 (20150401)...</td>\n",
       "      <td>NaN</td>\n",
       "      <td>0</td>\n",
       "      <td>1.0</td>\n",
       "      <td>Gas delivery system and pneumatic yoke for a p...</td>\n",
       "      <td>1</td>\n",
       "    </tr>\n",
       "    <tr>\n",
       "      <th>6837514</th>\n",
       "      <td>2005-01-04</td>\n",
       "      <td>10/623,845</td>\n",
       "      <td>10623845</td>\n",
       "      <td>2003-07-22</td>\n",
       "      <td>Toyoda Gosei Co., Ltd.</td>\n",
       "      <td>Aichi-ken, JP</td>\n",
       "      <td>JP</td>\n",
       "      <td>NaN</td>\n",
       "      <td>Aichi-ken</td>\n",
       "      <td>Fujita; Yoshiyuki+Isomura; Motoi</td>\n",
       "      <td>...</td>\n",
       "      <td>NULL+NULL</td>\n",
       "      <td>Aichi-ken+Aichi-ken</td>\n",
       "      <td>4148503+5499841+5893581+5964477+6013884+610964...</td>\n",
       "      <td>280/731+200/61.54+280/728.2</td>\n",
       "      <td>B60Q 1/0082 (20130101)+B60R 21/2037 (20130101)...</td>\n",
       "      <td>NaN</td>\n",
       "      <td>0</td>\n",
       "      <td>1.0</td>\n",
       "      <td>Steering wheel having airbag apparatus.  ABSTR...</td>\n",
       "      <td>0</td>\n",
       "    </tr>\n",
       "    <tr>\n",
       "      <th>6838044</th>\n",
       "      <td>2005-01-04</td>\n",
       "      <td>10/647,770</td>\n",
       "      <td>10647770</td>\n",
       "      <td>2003-08-25</td>\n",
       "      <td>KM Europa Metal AG</td>\n",
       "      <td>DE</td>\n",
       "      <td>DE</td>\n",
       "      <td>NaN</td>\n",
       "      <td>NaN</td>\n",
       "      <td>Hornschemeyer; Wolfgang</td>\n",
       "      <td>...</td>\n",
       "      <td>NaN</td>\n",
       "      <td>An der Alten Schmiede</td>\n",
       "      <td>5678806+6470958</td>\n",
       "      <td>266/44+266/193</td>\n",
       "      <td>C21B 7/10 (20130101)+F27B 1/24 (20130101)+F27D...</td>\n",
       "      <td>NaN</td>\n",
       "      <td>0</td>\n",
       "      <td>1.0</td>\n",
       "      <td>Cooling plate and method for manufacturing a c...</td>\n",
       "      <td>0</td>\n",
       "    </tr>\n",
       "    <tr>\n",
       "      <th>6838426</th>\n",
       "      <td>2005-01-04</td>\n",
       "      <td>10/161,485</td>\n",
       "      <td>10161485</td>\n",
       "      <td>2002-05-31</td>\n",
       "      <td>Magic American Products, Inc.</td>\n",
       "      <td>Cleveland, OH</td>\n",
       "      <td>US</td>\n",
       "      <td>OH</td>\n",
       "      <td>Cleveland</td>\n",
       "      <td>Zeilinger; Scott</td>\n",
       "      <td>...</td>\n",
       "      <td>OH</td>\n",
       "      <td>Pepper Pike</td>\n",
       "      <td>4306989+4315828+4362638+5330673+5523014+552525...</td>\n",
       "      <td>510/417+510/238+510/365+510/421+510/424+510/43...</td>\n",
       "      <td>C11D 1/528 (20130101)+C11D 3/18 (20130101)+C11...</td>\n",
       "      <td>NaN</td>\n",
       "      <td>0</td>\n",
       "      <td>1.0</td>\n",
       "      <td>Compositions for water-based and solvent-based...</td>\n",
       "      <td>0</td>\n",
       "    </tr>\n",
       "  </tbody>\n",
       "</table>\n",
       "<p>5 rows × 24 columns</p>\n",
       "</div>"
      ],
      "text/plain": [
       "          GrantDate      ApplNo ApplNoSimple    ApplDate  \\\n",
       "6837216  2005-01-04  10/786,327     10786327  2004-02-26   \n",
       "6837270  2005-01-04  10/303,881     10303881  2002-11-26   \n",
       "6837514  2005-01-04  10/623,845     10623845  2003-07-22   \n",
       "6838044  2005-01-04  10/647,770     10647770  2003-08-25   \n",
       "6838426  2005-01-04  10/161,485     10161485  2002-05-31   \n",
       "\n",
       "                              AssigneeName AssigneeLocation  \\\n",
       "6837216  Mitsubishi Denki Kabushiki Kaisha        Tokyo, JP   \n",
       "6837270                                NaN              NaN   \n",
       "6837514             Toyoda Gosei Co., Ltd.    Aichi-ken, JP   \n",
       "6838044                 KM Europa Metal AG               DE   \n",
       "6838426      Magic American Products, Inc.    Cleveland, OH   \n",
       "\n",
       "        AssigneeCountryCode AssigneeStateCode AssigneeCityCode  \\\n",
       "6837216                  JP               NaN            Tokyo   \n",
       "6837270                 NaN               NaN              NaN   \n",
       "6837514                  JP               NaN        Aichi-ken   \n",
       "6838044                  DE               NaN              NaN   \n",
       "6838426                  US                OH        Cleveland   \n",
       "\n",
       "                                 InventorName     ...     InventorStateCode  \\\n",
       "6837216                        Tanabe; Tsuneo     ...                   NaN   \n",
       "6837270  Douglas; Andrew S.+Walsh; Patrick A.     ...             NULL+NULL   \n",
       "6837514      Fujita; Yoshiyuki+Isomura; Motoi     ...             NULL+NULL   \n",
       "6838044               Hornschemeyer; Wolfgang     ...                   NaN   \n",
       "6838426                      Zeilinger; Scott     ...                    OH   \n",
       "\n",
       "                        InventorCityCode  \\\n",
       "6837216                            Hyogo   \n",
       "6837270  London, Ontario+London, Ontario   \n",
       "6837514              Aichi-ken+Aichi-ken   \n",
       "6838044            An der Alten Schmiede   \n",
       "6838426                      Pepper Pike   \n",
       "\n",
       "                                                 Reference  \\\n",
       "6837216               5746174+6711492+6775609+2003/0182050   \n",
       "6837270  1706051+2119473+2591531+2819097+2823699+286182...   \n",
       "6837514  4148503+5499841+5893581+5964477+6013884+610964...   \n",
       "6838044                                    5678806+6470958   \n",
       "6838426  4306989+4315828+4362638+5330673+5523014+552525...   \n",
       "\n",
       "                                                   USClass  \\\n",
       "6837216  123/396+123/397+123/399+701/114+701/115+73/114...   \n",
       "6837270  137/613+128/204.26+128/205.24+137/557+251/148+...   \n",
       "6837514                        280/731+200/61.54+280/728.2   \n",
       "6838044                                     266/44+266/193   \n",
       "6838426  510/417+510/238+510/365+510/421+510/424+510/43...   \n",
       "\n",
       "                                                  CPCClass  Ack ErrorFlag  \\\n",
       "6837216       F02D 11/107 (20130101)+F02D 9/105 (20130101)  NaN         0   \n",
       "6837270  F17C 13/04 (20130101)+Y10T 137/8326 (20150401)...  NaN         0   \n",
       "6837514  B60Q 1/0082 (20130101)+B60R 21/2037 (20130101)...  NaN         0   \n",
       "6838044  C21B 7/10 (20130101)+F27B 1/24 (20130101)+F27D...  NaN         0   \n",
       "6838426  C11D 1/528 (20130101)+C11D 3/18 (20130101)+C11...  NaN         0   \n",
       "\n",
       "        IsGrant                                        patent_text invalidated  \n",
       "6837216     1.0  Electronic throttle control system.  ABSTRACT....           0  \n",
       "6837270     1.0  Gas delivery system and pneumatic yoke for a p...           1  \n",
       "6837514     1.0  Steering wheel having airbag apparatus.  ABSTR...           0  \n",
       "6838044     1.0  Cooling plate and method for manufacturing a c...           0  \n",
       "6838426     1.0  Compositions for water-based and solvent-based...           0  \n",
       "\n",
       "[5 rows x 24 columns]"
      ]
     },
     "execution_count": 117,
     "metadata": {},
     "output_type": "execute_result"
    }
   ],
   "source": [
    "merged = patent_data.merge(patent_text, how='inner', left_index=True, right_index=True)\n",
    "np.random.seed(42)\n",
    "\n",
    "# This will be replaced with actual joined dataset from Dany \n",
    "merged['invalidated'] = np.random.choice(range(0, 2), merged.shape[0])\n",
    "merged.head()"
   ]
  },
  {
   "cell_type": "code",
   "execution_count": 97,
   "metadata": {
    "collapsed": false
   },
   "outputs": [],
   "source": [
    "from sklearn.feature_extraction.text import TfidfVectorizer, CountVectorizer, TfidfTransformer\n",
    "from sklearn.svm import LinearSVC\n",
    "from sklearn import cross_validation"
   ]
  },
  {
   "cell_type": "code",
   "execution_count": 109,
   "metadata": {
    "collapsed": false
   },
   "outputs": [],
   "source": [
    "X = merged['patent_text'].as_matrix()\n",
    "y = merged['invalidated'].as_matrix()\n",
    "\n",
    "X_train, X_test, y_train, y_test = cross_validation.train_test_split(\n",
    "    X, y, test_size=0.2, random_state=40)"
   ]
  },
  {
   "cell_type": "code",
   "execution_count": 110,
   "metadata": {
    "collapsed": true
   },
   "outputs": [],
   "source": [
    "# this normalizes word frequency based on use in each patent vs. all patents\n",
    "\n",
    "tfidf = TfidfVectorizer()\n",
    "tfidf.fit(X)\n",
    "X_train = tfidf.transform(X_train)\n",
    "X_test = tfidf.transform(X_test)"
   ]
  },
  {
   "cell_type": "code",
   "execution_count": 114,
   "metadata": {
    "collapsed": false
   },
   "outputs": [
    {
     "data": {
      "text/plain": [
       "0.5"
      ]
     },
     "execution_count": 114,
     "metadata": {},
     "output_type": "execute_result"
    }
   ],
   "source": [
    "svc_class = LinearSVC()\n",
    "model = svc_class.fit(X_train, y_train)\n",
    "model.score(X_test, y_test)"
   ]
  },
  {
   "cell_type": "markdown",
   "metadata": {},
   "source": [
    "Right now the accuracy is the same as randomly choosing an outcome. Hopefully that changes when we train on real data :). "
   ]
  }
 ],
 "metadata": {
  "anaconda-cloud": {},
  "kernelspec": {
   "display_name": "Python 3",
   "language": "python",
   "name": "python3"
  },
  "language_info": {
   "codemirror_mode": {
    "name": "ipython",
    "version": 3
   },
   "file_extension": ".py",
   "mimetype": "text/x-python",
   "name": "python",
   "nbconvert_exporter": "python",
   "pygments_lexer": "ipython3",
   "version": "3.5.2"
  }
 },
 "nbformat": 4,
 "nbformat_minor": 1
}

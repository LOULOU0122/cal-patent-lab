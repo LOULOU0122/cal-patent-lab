{
 "cells": [
  {
   "cell_type": "code",
   "execution_count": 29,
   "metadata": {
    "collapsed": false
   },
   "outputs": [
    {
     "data": {
      "text/plain": [
       "{'A',\n",
       " 'The',\n",
       " 'a',\n",
       " 'activities',\n",
       " 'also',\n",
       " 'an',\n",
       " 'and',\n",
       " 'anomalous',\n",
       " 'based',\n",
       " 'behavior',\n",
       " 'behavior.',\n",
       " 'by',\n",
       " 'can',\n",
       " 'caused',\n",
       " 'computer',\n",
       " 'damage',\n",
       " 'detecting',\n",
       " 'detection',\n",
       " 'determine',\n",
       " 'determines',\n",
       " 'disabling',\n",
       " 'for',\n",
       " 'generate',\n",
       " 'identifier',\n",
       " 'identify',\n",
       " 'in',\n",
       " 'is',\n",
       " 'monitors',\n",
       " 'network',\n",
       " 'network.',\n",
       " 'of',\n",
       " 'on',\n",
       " 'or',\n",
       " 'orchestrates',\n",
       " 'recovery',\n",
       " 'repairing',\n",
       " 'script',\n",
       " 'sequence',\n",
       " 'system',\n",
       " 'the',\n",
       " 'then',\n",
       " 'to',\n",
       " 'whether',\n",
       " 'worm',\n",
       " 'worm.'}"
      ]
     },
     "execution_count": 29,
     "metadata": {},
     "output_type": "execute_result"
    }
   ],
   "source": [
    "import pandas as pd\n",
    "from sklearn.feature_extraction.text import CountVectorizer\n",
    "from collections import Counter\n",
    "f = open('sample_patent.txt', 'r')\n",
    "g = open('sample_patent2.txt', 'r')\n",
    "# word_vectorizer = CountVectorizer(ngram_range = (1,2), analyzer = 'word')\n",
    "# sparse_matrix = word_vectorizer.fit_transform(f)\n",
    "\n",
    "# frequencies = sum(sparse_matrix).toarray()[0]\n",
    "# pd.DataFrame(frequencies, index=word_vectorizer.get_feature_names(), columns=['frequency'])\n",
    "\n",
    "input_string = f.read()\n",
    "input_string2 = g.read()\n",
    "word_freqs = Counter(input_string.split())\n",
    "word_freqs2 = Counter(input_string2.split())\n",
    "\n",
    "word_freqsset(word_freqs2)\n",
    "\n",
    "\n",
    "\n"
   ]
  },
  {
   "cell_type": "code",
   "execution_count": null,
   "metadata": {
    "collapsed": true
   },
   "outputs": [],
   "source": []
  },
  {
   "cell_type": "code",
   "execution_count": null,
   "metadata": {
    "collapsed": true
   },
   "outputs": [],
   "source": []
  }
 ],
 "metadata": {
  "kernelspec": {
   "display_name": "Python 2",
   "language": "python",
   "name": "python2"
  },
  "language_info": {
   "codemirror_mode": {
    "name": "ipython",
    "version": 2
   },
   "file_extension": ".py",
   "mimetype": "text/x-python",
   "name": "python",
   "nbconvert_exporter": "python",
   "pygments_lexer": "ipython2",
   "version": "2.7.10"
  }
 },
 "nbformat": 4,
 "nbformat_minor": 1
}

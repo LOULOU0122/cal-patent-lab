{
 "cells": [
  {
   "cell_type": "code",
   "execution_count": 1,
   "metadata": {
    "collapsed": false
   },
   "outputs": [
    {
<<<<<<< HEAD
     "data": {
      "text/plain": [
       "24.919871588754223"
      ]
     },
     "execution_count": 1,
     "metadata": {},
     "output_type": "execute_result"
=======
     "name": "stderr",
     "output_type": "stream",
     "text": [
      "/usr/local/lib/python2.7/site-packages/pandas/computation/__init__.py:19: UserWarning: The installed version of numexpr 2.4.4 is not supported in pandas and will be not be used\n",
      "\n",
      "  UserWarning)\n"
     ]
>>>>>>> b30b213e1e02a0d6d3dcfbcaf79cfa71f76b17e0
    }
   ],
   "source": [
    "import pandas as pd\n",
    "from sklearn.feature_extraction.text import CountVectorizer\n",
    "from collections import Counter\n",
    "f = open('sample_patent.txt', 'r')\n",
    "g = open('sample_patent2.txt', 'r')\n",
    "# word_vectorizer = CountVectorizer(ngram_range = (1,2), analyzer = 'word')\n",
    "# sparse_matrix = word_vectorizer.fit_transform(f)\n",
    "\n",
    "# frequencies = sum(sparse_matrix).toarray()[0]\n",
    "# pd.DataFrame(frequencies, index=word_vectorizer.get_feature_names(), columns=['frequency'])\n",
    "\n",
    "def calc_distance(file1,file2):\n",
    "    f = open(file1, 'r')\n",
    "    g = open(file2, 'r')\n",
    "    input_string = f.read()\n",
    "    input_string2 = g.read()\n",
    "    word_freqs = Counter(input_string.split())\n",
    "    word_freqs2 = Counter(input_string2.split())\n",
    "    for key in set(word_freqs2):\n",
    "        if key not in word_freqs:\n",
    "            word_freqs[key] = 0\n",
    "        word_freqs[key] -= word_freqs2[key]\n",
    "    distance = 0\n",
    "    for val in word_freqs.values():\n",
    "        distance += val**2\n",
    "    distance = distance ** (.5)\n",
    "    return distance"
   ]
  },
  {
   "cell_type": "code",
   "execution_count": 5,
   "metadata": {
    "collapsed": true
   },
   "outputs": [],
   "source": [
    "import MySQLdb\n",
    "db = MySQLdb.connect(\"cal-patent-lab.chhaitskv8dz.us-west-2.rds.amazonaws.com\",\"teamrocket\",\"teamrocket\",\"teamrocket\" )\n",
    "cursor = db.cursor()\n",
    "cursor.execute(\"SELECT patent_id, invalidated from patents_decision\")\n",
    "data = cursor.fetchall()\n",
    "count = 0\n",
    "# contains invalidated/validated patent numbers\n",
    "invalidated_patents = []\n",
    "not_invalidated_patents = []\n",
    "# contains average distances of invalidated/validated patents\n",
    "invalidated_distances = []\n",
    "not_invalidated_distances = []\n",
    "invalidated_distances_k = []\n",
    "not_invalidated_distances_k = []\n",
    "\n",
    "for line in data:\n",
    "    if line[1] == 0:\n",
    "        not_invalidated_patents.append(line[0])\n",
    "    elif line[1] == 1:\n",
    "        invalidated_patents.append(line[0])\n",
    "        "
   ]
  },
  {
   "cell_type": "code",
<<<<<<< HEAD
   "execution_count": null,
   "metadata": {
    "collapsed": false
   },
   "outputs": [
    {
     "name": "stdout",
     "output_type": "stream",
     "text": [
      "showing info https://raw.githubusercontent.com/nltk/nltk_data/gh-pages/index.xml\n"
     ]
    }
   ],
   "source": [
    "\n"
   ]
  },
  {
   "cell_type": "code",
   "execution_count": 7,
   "metadata": {
    "collapsed": false
   },
   "outputs": [
    {
     "name": "stdout",
     "output_type": "stream",
     "text": [
      "[u'disk', u'format', u'hard', u'hello', u'problems']\n",
      "[[1 1 1 1 0]\n",
      " [1 1 1 0 1]]\n",
      "None\n"
     ]
    }
   ],
   "source": [
    "from sklearn.feature_extraction.text import CountVectorizer\n",
    "from nltk.corpus import stopwords\n",
    "stopWords = stopwords.words('english')\n",
    "\n",
    "count_vect = CountVectorizer(stop_words  = stopWords)\n",
    "content = [\"How to format my hard disk hello\", \" Hard disk format problems \"]\n",
    "X = count_vect.fit_transform(content)\n",
    "print count_vect.get_feature_names()\n",
    "print count_vect.fit_transform(content).toarray()\n",
    "print count_vect.vocabulary\n"
   ]
  },
  {
   "cell_type": "code",
   "execution_count": 18,
=======
   "execution_count": 3,
>>>>>>> b30b213e1e02a0d6d3dcfbcaf79cfa71f76b17e0
   "metadata": {
    "collapsed": false
   },
   "outputs": [],
   "source": [
    "from os import listdir\n",
    "from os.path import isfile, join\n",
    "files = [f for f in listdir(\"patents\") if isfile(join(\"patents\", f))]\n",
    "patent_numbers = [name[:len(name)-4] for name in files]\n",
    "#patent_numbers\n",
    "\n"
   ]
  },
  {
   "cell_type": "code",
<<<<<<< HEAD
   "execution_count": 19,
   "metadata": {
    "collapsed": false
   },
   "outputs": [],
   "source": [
    "test_files = files[1:]\n",
    "\n",
    "input_file = \"patents/\"+files[0]\n",
    "abs_list = []\n",
    "for name in test_files:\n",
    "    f = open(\"patents/\" + name, 'r')\n",
    "    abs_list.append(f.read())"
   ]
  },
  {
   "cell_type": "code",
   "execution_count": 20,
=======
   "execution_count": 11,
>>>>>>> b30b213e1e02a0d6d3dcfbcaf79cfa71f76b17e0
   "metadata": {
    "collapsed": false
   },
   "outputs": [
    {
     "name": "stdout",
     "output_type": "stream",
     "text": [
<<<<<<< HEAD
      "5899\n",
      "5899\n"
     ]
    }
   ],
   "source": [
    "print len(abs_list)\n",
    "print len(test_files)"
   ]
  },
  {
   "cell_type": "code",
   "execution_count": 21,
   "metadata": {
    "collapsed": false
   },
   "outputs": [
    {
     "name": "stdout",
     "output_type": "stream",
     "text": [
      "(5899L, 18451L)\n"
     ]
    }
   ],
   "source": [
    "count_vect = CountVectorizer(stop_words  = stopWords)\n",
    "X = count_vect.fit_transform(abs_list)\n",
    "\n",
    "print count_vect.fit_transform(abs_list).toarray().shape\n"
=======
      "77832\n"
     ]
    },
    {
     "data": {
      "text/plain": [
       "str"
      ]
     },
     "execution_count": 11,
     "metadata": {},
     "output_type": "execute_result"
    }
   ],
   "source": [
    "print(len(files))\n",
    "len(not_invalidated_patents)\n",
    "type(invalidated_patents[0])"
>>>>>>> b30b213e1e02a0d6d3dcfbcaf79cfa71f76b17e0
   ]
  },
  {
   "cell_type": "code",
<<<<<<< HEAD
   "execution_count": 31,
   "metadata": {
    "collapsed": false
   },
   "outputs": [
    {
     "name": "stdout",
     "output_type": "stream",
     "text": [
      "[ 14.69693846  13.92838828  14.38749457 ...,  25.49509757  14.59451952\n",
      "  15.55634919]\n"
     ]
    }
   ],
   "source": [
    "import numpy as np\n",
    "single = X.toarray()[0]\n",
    "dist = (X.toarray()[1:]-single) **2\n",
    "dist = np.sum(dist, axis = 1)\n",
    "dist = np.sqrt(dist)\n",
    "print(dist)"
=======
   "execution_count": 6,
   "metadata": {
    "collapsed": false
   },
   "outputs": [],
   "source": [
    "k = 25\n",
    "for i in range(len(files)):\n",
    "    if patent_numbers[i] in invalidated_patents or patent_numbers[i] in not_invalidated_patents:\n",
    "        \n",
    "        input_file = \"patents/\" + files[i]\n",
    "        test_files = files[:i] + files[i+1:]\n",
    "        distances = []\n",
    "        for name in test_files:\n",
    "            distances.append(calc_distance(input_file,\"patents/\"+name))\n",
    "        distances = sorted(distances)\n",
    "        average_dist = sum(distances)/float(len(distances))\n",
    "        average_dist_k = sum(distances[:k])/float(len(distances[:k]))\n",
    "        if patent_numbers[i] in invalidated_patents:\n",
    "            invalidated_distances.append(average_dist)\n",
    "            invalidated_distances_k.append(average_dist_k)\n",
    "        else:\n",
    "            not_invalidated_distances.append(average_dist)\n",
    "            not_invalidated_distances_k.append(average_dist_k)\n",
    "\n",
    "# average_dist = total_dist/float(len(test_files))\n"
>>>>>>> b30b213e1e02a0d6d3dcfbcaf79cfa71f76b17e0
   ]
  },
  {
   "cell_type": "code",
<<<<<<< HEAD
   "execution_count": 55,
=======
   "execution_count": 21,
>>>>>>> b30b213e1e02a0d6d3dcfbcaf79cfa71f76b17e0
   "metadata": {
    "collapsed": false
   },
   "outputs": [
    {
     "name": "stdout",
     "output_type": "stream",
     "text": [
      "(16, 18)\n",
      "(16, 18)\n",
      "22.4712228211\n",
      "23.2831912955\n",
      "15.281794673\n",
      "16.0324290254\n"
     ]
    }
   ],
   "source": [
    "print(len(invalidated_distances), len(not_invalidated_distances))\n",
    "print(len(invalidated_distances_k), len(not_invalidated_distances_k))\n",
    "print(sum(invalidated_distances)/float(len(invalidated_distances)))\n",
    "print(sum(not_invalidated_distances)/float(len(not_invalidated_distances)))\n",
    "print(sum(invalidated_distances_k)/float(len(invalidated_distances_k)))\n",
    "print(sum(not_invalidated_distances_k)/float(len(not_invalidated_distances_k)))\n"
   ]
  },
  {
   "cell_type": "code",
   "execution_count": 20,
   "metadata": {
    "collapsed": false
   },
   "outputs": [],
   "source": [
    "import matplotlib.pyplot as plt\n",
    "import numpy as np\n",
    "\n",
    "# import plotly.plotly as py\n",
    "# Learn about API authentication here: https://plot.ly/python/getting-started\n",
    "# Find your api_key here: https://plot.ly/settings/api\n",
    "\n",
    "plt.hist(invalidated_distances, bins=range(int(min(invalidated_distances)),30, 1))\n",
    "plt.title(\"'Invalidated'Distance Histogram. Average: 22.4\")\n",
    "plt.xlabel(\"Distance\")\n",
    "plt.ylabel(\"Frequency\")\n",
    "\n",
    "fig = plt.gcf()\n",
    "axes = plt.gca()\n",
    "axes.set_ylim([0,8])\n",
    "\n",
    "plt.figure()\n",
    "plt.hist(not_invalidated_distances, bins=range(int(min(not_invalidated_distances)),30, 1))\n",
    "plt.title(\"'Not Invalidated' Distance Histogram. Average: 23.2\")\n",
    "plt.xlabel(\"Distance\")\n",
    "plt.ylabel(\"Frequency\")\n",
    "\n",
    "axes = plt.gca()\n",
    "axes.set_ylim([0,8])\n",
    "plt.show()\n",
    "# plot_url = py.plot_mpl(fig, filename='mpl-basic-histogram')\n"
   ]
  },
  {
   "cell_type": "code",
   "execution_count": 13,
   "metadata": {
    "collapsed": false
   },
   "outputs": [],
   "source": [
    "import pickle\n",
    "with open('distances.pickle', 'w') as f:  # Python 3: open(..., 'wb')\n",
    "    pickle.dump([distances,not_invalidated_distances,invalidated_distances,not_invalidated_distances_k,invalidated_distances_k], f)"
   ]
  },
  {
   "cell_type": "code",
   "execution_count": 10,
   "metadata": {
    "collapsed": false
   },
   "outputs": [
    {
     "data": {
      "text/plain": [
       "777"
      ]
     },
     "execution_count": 10,
     "metadata": {},
     "output_type": "execute_result"
    }
   ],
   "source": [
    "len(invalidated)\n",
    "# len(not_invalidated)"
   ]
  },
  {
   "cell_type": "code",
   "execution_count": null,
   "metadata": {
    "collapsed": true
   },
   "outputs": [],
   "source": [
    "plt.show()"
   ]
  },
  {
   "cell_type": "code",
   "execution_count": 10,
   "metadata": {
    "collapsed": false
   },
   "outputs": [
    {
     "data": {
      "text/plain": [
       "77831"
      ]
     },
     "execution_count": 10,
     "metadata": {},
     "output_type": "execute_result"
    }
   ],
   "source": [
    "\n",
    "len(test_files)"
   ]
  },
  {
   "cell_type": "code",
   "execution_count": 14,
   "metadata": {
    "collapsed": false
   },
   "outputs": [],
   "source": [
    "import pickle\n",
    "with open('distances.pickle', 'r') as f:  # Python 3: open(..., 'wb')\n",
    "    [distances,not_invalidated_distances,invalidated_distances,not_invalidated_distances_k,invalidated_distances_k] = pickle.load(f)"
   ]
  },
  {
   "cell_type": "code",
   "execution_count": 18,
   "metadata": {
    "collapsed": false
   },
   "outputs": [
    {
     "ename": "ValueError",
     "evalue": "all the input array dimensions except for the concatenation axis must match exactly",
     "output_type": "error",
     "traceback": [
      "\u001b[0;31m---------------------------------------------------------------------------\u001b[0m",
      "\u001b[0;31mValueError\u001b[0m                                Traceback (most recent call last)",
      "\u001b[0;32m<ipython-input-18-0feaf068b4ac>\u001b[0m in \u001b[0;36m<module>\u001b[0;34m()\u001b[0m\n\u001b[1;32m      1\u001b[0m \u001b[0;32mimport\u001b[0m \u001b[0mmatplotlib\u001b[0m\u001b[0;34m.\u001b[0m\u001b[0mpyplot\u001b[0m \u001b[0;32mas\u001b[0m \u001b[0mplt\u001b[0m\u001b[0;34m\u001b[0m\u001b[0m\n\u001b[1;32m      2\u001b[0m \u001b[0;32mimport\u001b[0m \u001b[0mnumpy\u001b[0m \u001b[0;32mas\u001b[0m \u001b[0mnp\u001b[0m\u001b[0;34m\u001b[0m\u001b[0m\n\u001b[0;32m----> 3\u001b[0;31m \u001b[0mdata\u001b[0m \u001b[0;34m=\u001b[0m \u001b[0mnp\u001b[0m\u001b[0;34m.\u001b[0m\u001b[0mvstack\u001b[0m\u001b[0;34m(\u001b[0m\u001b[0;34m[\u001b[0m\u001b[0minvalidated_distances\u001b[0m\u001b[0;34m,\u001b[0m \u001b[0mnot_invalidated_distances\u001b[0m\u001b[0;34m]\u001b[0m\u001b[0;34m)\u001b[0m\u001b[0;34m.\u001b[0m\u001b[0mT\u001b[0m\u001b[0;34m\u001b[0m\u001b[0m\n\u001b[0m\u001b[1;32m      4\u001b[0m \u001b[0mplt\u001b[0m\u001b[0;34m.\u001b[0m\u001b[0mhist\u001b[0m\u001b[0;34m(\u001b[0m\u001b[0;34m(\u001b[0m\u001b[0minvalidated_distances\u001b[0m\u001b[0;34m,\u001b[0m \u001b[0mnot_invalidated_distances\u001b[0m\u001b[0;34m)\u001b[0m\u001b[0;34m,\u001b[0m \u001b[0mbins\u001b[0m\u001b[0;34m=\u001b[0m\u001b[0mrange\u001b[0m\u001b[0;34m(\u001b[0m\u001b[0mint\u001b[0m\u001b[0;34m(\u001b[0m\u001b[0mmin\u001b[0m\u001b[0;34m(\u001b[0m\u001b[0minvalidated_distances\u001b[0m\u001b[0;34m)\u001b[0m\u001b[0;34m)\u001b[0m\u001b[0;34m,\u001b[0m\u001b[0;36m30\u001b[0m\u001b[0;34m,\u001b[0m \u001b[0;36m1\u001b[0m\u001b[0;34m)\u001b[0m\u001b[0;34m)\u001b[0m\u001b[0;34m\u001b[0m\u001b[0m\n\u001b[1;32m      5\u001b[0m \u001b[0mplt\u001b[0m\u001b[0;34m.\u001b[0m\u001b[0mtitle\u001b[0m\u001b[0;34m(\u001b[0m\u001b[0;34m\"'Invalidated'Distance Histogram. Average: 22.4\"\u001b[0m\u001b[0;34m)\u001b[0m\u001b[0;34m\u001b[0m\u001b[0m\n",
      "\u001b[0;32m/usr/local/lib/python2.7/site-packages/numpy/core/shape_base.pyc\u001b[0m in \u001b[0;36mvstack\u001b[0;34m(tup)\u001b[0m\n\u001b[1;32m    226\u001b[0m \u001b[0;34m\u001b[0m\u001b[0m\n\u001b[1;32m    227\u001b[0m     \"\"\"\n\u001b[0;32m--> 228\u001b[0;31m     \u001b[0;32mreturn\u001b[0m \u001b[0m_nx\u001b[0m\u001b[0;34m.\u001b[0m\u001b[0mconcatenate\u001b[0m\u001b[0;34m(\u001b[0m\u001b[0;34m[\u001b[0m\u001b[0matleast_2d\u001b[0m\u001b[0;34m(\u001b[0m\u001b[0m_m\u001b[0m\u001b[0;34m)\u001b[0m \u001b[0;32mfor\u001b[0m \u001b[0m_m\u001b[0m \u001b[0;32min\u001b[0m \u001b[0mtup\u001b[0m\u001b[0;34m]\u001b[0m\u001b[0;34m,\u001b[0m \u001b[0;36m0\u001b[0m\u001b[0;34m)\u001b[0m\u001b[0;34m\u001b[0m\u001b[0m\n\u001b[0m\u001b[1;32m    229\u001b[0m \u001b[0;34m\u001b[0m\u001b[0m\n\u001b[1;32m    230\u001b[0m \u001b[0;32mdef\u001b[0m \u001b[0mhstack\u001b[0m\u001b[0;34m(\u001b[0m\u001b[0mtup\u001b[0m\u001b[0;34m)\u001b[0m\u001b[0;34m:\u001b[0m\u001b[0;34m\u001b[0m\u001b[0m\n",
      "\u001b[0;31mValueError\u001b[0m: all the input array dimensions except for the concatenation axis must match exactly"
     ]
    }
   ],
   "source": [
    "import matplotlib.pyplot as plt\n",
    "import numpy as np\n",
    "data = np.vstack([invalidated_distances, not_invalidated_distances]).T\n",
    "plt.hist((invalidated_distances, not_invalidated_distances), bins=range(int(min(invalidated_distances)),30, 1))\n",
    "plt.title(\"'Invalidated'Distance Histogram. Average: 22.4\")\n",
    "plt.xlabel(\"Distance\")\n",
    "plt.ylabel(\"Frequency\")\n",
    "plt.show()"
   ]
  },
  {
   "cell_type": "code",
   "execution_count": null,
   "metadata": {
    "collapsed": true
   },
   "outputs": [],
   "source": []
  }
 ],
 "metadata": {
  "anaconda-cloud": {},
  "kernelspec": {
   "display_name": "Python [py27]",
   "language": "python",
   "name": "Python [py27]"
  },
  "language_info": {
   "codemirror_mode": {
    "name": "ipython",
    "version": 2
   },
   "file_extension": ".py",
   "mimetype": "text/x-python",
   "name": "python",
   "nbconvert_exporter": "python",
   "pygments_lexer": "ipython2",
   "version": "2.7.12"
  }
 },
 "nbformat": 4,
 "nbformat_minor": 1
}

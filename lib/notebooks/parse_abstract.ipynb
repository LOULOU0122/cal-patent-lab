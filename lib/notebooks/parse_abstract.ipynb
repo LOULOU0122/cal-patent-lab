{
 "cells": [
  {
   "cell_type": "code",
   "execution_count": 4,
   "metadata": {
    "collapsed": false
   },
   "outputs": [],
   "source": [
    "import re\n",
    "from HTMLParser import HTMLParser\n",
    "parser = HTMLParser()\n",
    "with open(\"patent_title_abstract_claims.tsv.00\") as fp:\n",
    "    count = 0\n",
    "    for i, line in enumerate(fp):\n",
    "        temp = line.split('\\t',1)\n",
    "        matcher = re.compile('(?<=ABSTRACT.)(.*)(?=CLAIMS.)')\n",
    "        patent_number = str(temp[0])\n",
    "        #abstract = temp[1]\n",
    "        #print temp[1]\n",
    "        abstract = matcher.findall(temp[1])[0]\n",
    "\n",
    "        if len(abstract) > 4:\n",
    "            count +=1\n",
    "            f = open(\"patents/\" + patent_number + \".txt\", 'w')\n",
    "            if \";\" not in abstract:\n",
    "                f.write(abstract)\n",
    "            else:\n",
    "                f.write(parser.unescape(abstract).encode('utf-8'))\n",
    "            f.close()\n",
    "\n",
    "            "
   ]
  },
  {
   "cell_type": "code",
   "execution_count": null,
   "metadata": {
    "collapsed": true
   },
   "outputs": [],
   "source": []
  },
  {
   "cell_type": "code",
   "execution_count": null,
   "metadata": {
    "collapsed": true
   },
   "outputs": [],
   "source": []
  }
 ],
 "metadata": {
  "anaconda-cloud": {},
  "kernelspec": {
   "display_name": "Python 2",
   "language": "python",
   "name": "python2"
  },
  "language_info": {
   "codemirror_mode": {
    "name": "ipython",
    "version": 2
   },
   "file_extension": ".py",
   "mimetype": "text/x-python",
   "name": "python",
   "nbconvert_exporter": "python",
   "pygments_lexer": "ipython2",
   "version": "2.7.10"
  }
 },
 "nbformat": 4,
 "nbformat_minor": 1
}

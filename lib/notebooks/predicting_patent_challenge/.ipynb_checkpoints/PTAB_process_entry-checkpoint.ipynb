{
 "cells": [
  {
   "cell_type": "code",
   "execution_count": 56,
   "metadata": {
    "collapsed": false
   },
   "outputs": [],
   "source": [
    "import numpy as np\n",
    "import pandas as pd\n",
    "import re\n",
    "from pandas import DataFrame\n",
    "from sqlalchemy import create_engine\n",
    "from matplotlib import pyplot as plt\n",
    "import matplotlib as mpl\n",
    "\n",
    "from sklearn.feature_extraction.text import TfidfVectorizer, CountVectorizer, TfidfTransformer\n",
    "from sklearn.svm import LinearSVC\n",
    "from sklearn import cross_validation\n",
    "from sqlalchemy import create_engine\n",
    "\n",
    "from sklearn import linear_model, decomposition, datasets\n",
    "from sklearn import svm\n",
    "from matplotlib import pyplot as plt\n",
    "from sklearn import cross_validation\n",
    "\n",
    "from sklearn.metrics import roc_curve, auc\n",
    "from sklearn.naive_bayes import GaussianNB\n",
    "from sklearn.ensemble import RandomForestClassifier\n",
    "from sklearn.svm import SVC\n",
    "import matplotlib\n",
    "import csv\n",
    "\n",
    "plt.style.use('ggplot')\n",
    "from matplotlib import rcParams\n",
    "rcParams['font.family'] = 'sans-serif'\n",
    "rcParams['font.serif'] = ['Times New Roman']\n",
    "\n",
    "%matplotlib inline\n",
    "pd.set_option('display.max_colwidth', -1)"
   ]
  },
  {
   "cell_type": "markdown",
   "metadata": {},
   "source": [
    "# Predicting invalidation"
   ]
  },
  {
   "cell_type": "markdown",
   "metadata": {},
   "source": [
    "First, we pull down all of the patents that have ever been brought before the PTAB"
   ]
  },
  {
   "cell_type": "code",
   "execution_count": 7,
   "metadata": {
    "collapsed": false
   },
   "outputs": [
    {
     "data": {
      "text/html": [
       "<div>\n",
       "<table border=\"1\" class=\"dataframe\">\n",
       "  <thead>\n",
       "    <tr style=\"text-align: right;\">\n",
       "      <th></th>\n",
       "      <th>case_id</th>\n",
       "      <th>patent_id</th>\n",
       "      <th>invalidated</th>\n",
       "      <th>denied</th>\n",
       "      <th>filing_date</th>\n",
       "      <th>decision_date</th>\n",
       "    </tr>\n",
       "  </thead>\n",
       "  <tbody>\n",
       "    <tr>\n",
       "      <th>0</th>\n",
       "      <td>CBM2012-00001</td>\n",
       "      <td>6553350</td>\n",
       "      <td>1.0</td>\n",
       "      <td>0.0</td>\n",
       "      <td>2012-09-16</td>\n",
       "      <td>2013-01-09</td>\n",
       "    </tr>\n",
       "    <tr>\n",
       "      <th>1</th>\n",
       "      <td>CBM2012-00002</td>\n",
       "      <td>6064970</td>\n",
       "      <td>1.0</td>\n",
       "      <td>0.0</td>\n",
       "      <td>2012-09-16</td>\n",
       "      <td>2013-01-25</td>\n",
       "    </tr>\n",
       "    <tr>\n",
       "      <th>2</th>\n",
       "      <td>CBM2012-00003</td>\n",
       "      <td>8140358</td>\n",
       "      <td>1.0</td>\n",
       "      <td>0.0</td>\n",
       "      <td>2012-09-16</td>\n",
       "      <td>2013-02-12</td>\n",
       "    </tr>\n",
       "    <tr>\n",
       "      <th>3</th>\n",
       "      <td>CBM2012-00004</td>\n",
       "      <td>6064970</td>\n",
       "      <td>1.0</td>\n",
       "      <td>0.0</td>\n",
       "      <td>2012-09-16</td>\n",
       "      <td>2013-01-25</td>\n",
       "    </tr>\n",
       "    <tr>\n",
       "      <th>4</th>\n",
       "      <td>CBM2012-00005</td>\n",
       "      <td>6675151</td>\n",
       "      <td>1.0</td>\n",
       "      <td>0.0</td>\n",
       "      <td>2012-09-21</td>\n",
       "      <td>2013-01-23</td>\n",
       "    </tr>\n",
       "    <tr>\n",
       "      <th>5</th>\n",
       "      <td>CBM2012-00007</td>\n",
       "      <td>5361201</td>\n",
       "      <td>1.0</td>\n",
       "      <td>0.0</td>\n",
       "      <td>2012-09-19</td>\n",
       "      <td>2013-01-31</td>\n",
       "    </tr>\n",
       "    <tr>\n",
       "      <th>6</th>\n",
       "      <td>CBM2012-00010</td>\n",
       "      <td>7124088</td>\n",
       "      <td>1.0</td>\n",
       "      <td>0.0</td>\n",
       "      <td>2012-09-29</td>\n",
       "      <td>2013-02-25</td>\n",
       "    </tr>\n",
       "    <tr>\n",
       "      <th>7</th>\n",
       "      <td>CBM2012-00011</td>\n",
       "      <td>7124088</td>\n",
       "      <td>0.0</td>\n",
       "      <td>1.0</td>\n",
       "      <td>2012-09-29</td>\n",
       "      <td>2013-02-25</td>\n",
       "    </tr>\n",
       "    <tr>\n",
       "      <th>8</th>\n",
       "      <td>CBM2013-00001</td>\n",
       "      <td>7877269</td>\n",
       "      <td>0.0</td>\n",
       "      <td>1.0</td>\n",
       "      <td>2012-10-03</td>\n",
       "      <td>2013-02-27</td>\n",
       "    </tr>\n",
       "    <tr>\n",
       "      <th>9</th>\n",
       "      <td>CBM2013-00002</td>\n",
       "      <td>7877269</td>\n",
       "      <td>1.0</td>\n",
       "      <td>0.0</td>\n",
       "      <td>2012-10-02</td>\n",
       "      <td>2013-02-27</td>\n",
       "    </tr>\n",
       "    <tr>\n",
       "      <th>10</th>\n",
       "      <td>CBM2013-00003</td>\n",
       "      <td>8090598</td>\n",
       "      <td>0.0</td>\n",
       "      <td>1.0</td>\n",
       "      <td>2012-10-15</td>\n",
       "      <td>2013-03-15</td>\n",
       "    </tr>\n",
       "    <tr>\n",
       "      <th>11</th>\n",
       "      <td>CBM2013-00004</td>\n",
       "      <td>8090598</td>\n",
       "      <td>1.0</td>\n",
       "      <td>0.0</td>\n",
       "      <td>2012-10-15</td>\n",
       "      <td>2013-03-15</td>\n",
       "    </tr>\n",
       "    <tr>\n",
       "      <th>12</th>\n",
       "      <td>CBM2013-00005</td>\n",
       "      <td>7941357</td>\n",
       "      <td>NaN</td>\n",
       "      <td>NaN</td>\n",
       "      <td>2012-10-15</td>\n",
       "      <td>2013-03-29</td>\n",
       "    </tr>\n",
       "    <tr>\n",
       "      <th>13</th>\n",
       "      <td>CBM2013-00008</td>\n",
       "      <td>6438526</td>\n",
       "      <td>NaN</td>\n",
       "      <td>NaN</td>\n",
       "      <td>2012-11-14</td>\n",
       "      <td>2013-06-24</td>\n",
       "    </tr>\n",
       "    <tr>\n",
       "      <th>14</th>\n",
       "      <td>CBM2013-00009</td>\n",
       "      <td>8140358</td>\n",
       "      <td>1.0</td>\n",
       "      <td>0.0</td>\n",
       "      <td>2012-11-20</td>\n",
       "      <td>2013-03-28</td>\n",
       "    </tr>\n",
       "    <tr>\n",
       "      <th>15</th>\n",
       "      <td>CBM2013-00013</td>\n",
       "      <td>8037158</td>\n",
       "      <td>1.0</td>\n",
       "      <td>0.0</td>\n",
       "      <td>2013-03-22</td>\n",
       "      <td>2013-09-19</td>\n",
       "    </tr>\n",
       "    <tr>\n",
       "      <th>16</th>\n",
       "      <td>CBM2013-00014</td>\n",
       "      <td>6625582</td>\n",
       "      <td>1.0</td>\n",
       "      <td>0.0</td>\n",
       "      <td>2013-03-29</td>\n",
       "      <td>2013-09-20</td>\n",
       "    </tr>\n",
       "    <tr>\n",
       "      <th>17</th>\n",
       "      <td>CBM2013-00015</td>\n",
       "      <td>5862223</td>\n",
       "      <td>0.0</td>\n",
       "      <td>1.0</td>\n",
       "      <td>2013-04-02</td>\n",
       "      <td>2013-07-25</td>\n",
       "    </tr>\n",
       "    <tr>\n",
       "      <th>18</th>\n",
       "      <td>CBM2013-00016</td>\n",
       "      <td>8346637</td>\n",
       "      <td>0.0</td>\n",
       "      <td>1.0</td>\n",
       "      <td>2013-04-23</td>\n",
       "      <td>2013-10-07</td>\n",
       "    </tr>\n",
       "    <tr>\n",
       "      <th>19</th>\n",
       "      <td>CBM2013-00017</td>\n",
       "      <td>6834282</td>\n",
       "      <td>NaN</td>\n",
       "      <td>NaN</td>\n",
       "      <td>2013-04-23</td>\n",
       "      <td>2013-10-24</td>\n",
       "    </tr>\n",
       "  </tbody>\n",
       "</table>\n",
       "</div>"
      ],
      "text/plain": [
       "          case_id patent_id  invalidated  denied filing_date decision_date\n",
       "0   CBM2012-00001   6553350          1.0     0.0  2012-09-16    2013-01-09\n",
       "1   CBM2012-00002   6064970          1.0     0.0  2012-09-16    2013-01-25\n",
       "2   CBM2012-00003   8140358          1.0     0.0  2012-09-16    2013-02-12\n",
       "3   CBM2012-00004   6064970          1.0     0.0  2012-09-16    2013-01-25\n",
       "4   CBM2012-00005   6675151          1.0     0.0  2012-09-21    2013-01-23\n",
       "5   CBM2012-00007   5361201          1.0     0.0  2012-09-19    2013-01-31\n",
       "6   CBM2012-00010   7124088          1.0     0.0  2012-09-29    2013-02-25\n",
       "7   CBM2012-00011   7124088          0.0     1.0  2012-09-29    2013-02-25\n",
       "8   CBM2013-00001   7877269          0.0     1.0  2012-10-03    2013-02-27\n",
       "9   CBM2013-00002   7877269          1.0     0.0  2012-10-02    2013-02-27\n",
       "10  CBM2013-00003   8090598          0.0     1.0  2012-10-15    2013-03-15\n",
       "11  CBM2013-00004   8090598          1.0     0.0  2012-10-15    2013-03-15\n",
       "12  CBM2013-00005   7941357          NaN     NaN  2012-10-15    2013-03-29\n",
       "13  CBM2013-00008   6438526          NaN     NaN  2012-11-14    2013-06-24\n",
       "14  CBM2013-00009   8140358          1.0     0.0  2012-11-20    2013-03-28\n",
       "15  CBM2013-00013   8037158          1.0     0.0  2013-03-22    2013-09-19\n",
       "16  CBM2013-00014   6625582          1.0     0.0  2013-03-29    2013-09-20\n",
       "17  CBM2013-00015   5862223          0.0     1.0  2013-04-02    2013-07-25\n",
       "18  CBM2013-00016   8346637          0.0     1.0  2013-04-23    2013-10-07\n",
       "19  CBM2013-00017   6834282          NaN     NaN  2013-04-23    2013-10-24"
      ]
     },
     "execution_count": 7,
     "metadata": {},
     "output_type": "execute_result"
    }
   ],
   "source": [
    "# Connecting to the db\n",
    "host_db = \"cal-patent-lab.chhaitskv8dz.us-west-2.rds.amazonaws.com\"\n",
    "username = \"***REMOVED***\"\n",
    "password = \"***REMOVED***\"\n",
    "db = \"***REMOVED***\"\n",
    "\n",
    "engine = create_engine(\"mysql://{}:{}@{}/{}\".format(\n",
    "    username, password, host_db, db))\n",
    "connection = engine.connect()\n",
    "q = \"SELECT case_id, patent_id, invalidated, denied, filing_date, decision_date FROM ptab_cases\"\n",
    "ptab_patents = pd.read_sql(q, engine)\n",
    "connection.close()\n",
    "\n",
    "ptab_patents[:20]"
   ]
  },
  {
   "cell_type": "code",
   "execution_count": 19,
   "metadata": {
    "collapsed": false
   },
   "outputs": [],
   "source": [
    "# Next, we want to grab the claims text associated with each patent and insert it into the dataframe\n",
    "\n",
    "host_db = \"***REMOVED***.berkeley.edu\"\n",
    "username = \"uspto\"\n",
    "password = \"***REMOVED***\"\n",
    "db = \"uspto\"\n",
    "\n",
    "engine = create_engine(\"mysql://{}:{}@{}/{}\".format(\n",
    "    username, password, host_db, db))\n",
    "connection = engine.connect()\n",
    "\n",
    "patent_id = int(ptab_patents.patent_id[:1])"
   ]
  },
  {
   "cell_type": "code",
   "execution_count": 102,
   "metadata": {
    "collapsed": false
   },
   "outputs": [
    {
     "name": "stdout",
     "output_type": "stream",
     "text": [
      "Processing patent 0\n",
      "Processing patent 100\n",
      "Processing patent 200\n",
      "Processing patent 300\n",
      "Processing patent 400\n",
      "Processing patent 500\n",
      "Processing patent 600\n",
      "Processing patent 700\n",
      "Processing patent 800\n",
      "Processing patent 900\n",
      "Processing patent 1000\n",
      "Processing patent 1100\n",
      "Processing patent 1200\n",
      "Processing patent 1300\n",
      "Processing patent 1400\n",
      "Processing patent 1500\n",
      "Processing patent 1600\n",
      "Processing patent 1700\n",
      "Processing patent 1800\n",
      "Processing patent 1900\n",
      "Processing patent 2000\n",
      "Processing patent 2100\n",
      "Processing patent 2200\n",
      "Processing patent 2300\n",
      "Processing patent 2400\n",
      "Processing patent 2500\n",
      "Processing patent 2600\n",
      "Processing patent 2700\n",
      "Processing patent 2800\n",
      "Processing patent 2900\n",
      "Processing patent 3000\n",
      "Processing patent 3100\n",
      "Processing patent 3200\n",
      "Processing patent 3300\n",
      "Processing patent 3400\n",
      "Processing patent 3500\n",
      "Processing patent 3600\n",
      "Processing patent 3700\n",
      "Processing patent 3800\n",
      "Processing patent 3900\n",
      "Processing patent 4000\n",
      "Processing patent 4100\n",
      "Processing patent 4200\n",
      "Processing patent 4300\n",
      "Processing patent 4400\n",
      "Processing patent 4500\n",
      "Processing patent 4600\n",
      "Processing patent 4700\n",
      "Processing patent 4800\n",
      "Processing patent 4900\n",
      "Processing patent 5000\n",
      "Processing patent 5100\n",
      "Processing patent 5200\n",
      "Processing patent 5300\n",
      "Processing patent 5400\n",
      "Processing patent 5500\n",
      "Processing patent 5600\n",
      "Processing patent 5700\n",
      "Processing patent 5800\n",
      "Processing patent 5900\n",
      "Processing patent 6000\n",
      "Processing patent 6100\n",
      "Processing patent 6200\n",
      "Processing patent 6300\n",
      "Processing patent 6400\n"
     ]
    }
   ],
   "source": [
    "# Inserting concatenated claim text into ptab_patents\n",
    "\n",
    "found = list()\n",
    "for idx, patent_id in enumerate(ptab_patents.patent_id):\n",
    "    q = \"SELECT text from uspto.claim where patent_id = '{}'\".format(patent_id)\n",
    "    claims = pd.read_sql(q, engine)\n",
    "    claims_concat = claims.text.str.cat()\n",
    "    ptab_patents.loc[ptab_patents.patent_id == '{}'.format(patent_id), 'claim_text'] = claims_concat\n",
    "    found.append(not claims.empty)\n",
    "    if idx % 100 == 0:\n",
    "        print(\"Processing patent {}\".format(idx))"
   ]
  },
  {
   "cell_type": "code",
   "execution_count": 106,
   "metadata": {
    "collapsed": false
   },
   "outputs": [],
   "source": [
    "# ptab_patents.to_pickle('ptab_patents.pkl')"
   ]
  },
  {
   "cell_type": "markdown",
   "metadata": {},
   "source": [
    "Loading pickled data, deduplicating patents, and running model"
   ]
  },
  {
   "cell_type": "code",
   "execution_count": 2,
   "metadata": {
    "collapsed": false
   },
   "outputs": [
    {
     "name": "stderr",
     "output_type": "stream",
     "text": [
      "/Users/davidjwiner/anaconda3/envs/py27/lib/python2.7/site-packages/numpy/lib/function_base.py:3834: RuntimeWarning: Invalid value encountered in percentile\n",
      "  RuntimeWarning)\n"
     ]
    },
    {
     "data": {
      "text/plain": [
       "count    3645.000000\n",
       "mean     0.562963   \n",
       "std      0.496088   \n",
       "min      0.000000   \n",
       "25%     NaN         \n",
       "50%     NaN         \n",
       "75%     NaN         \n",
       "max      1.000000   \n",
       "Name: denied, dtype: float64"
      ]
     },
     "execution_count": 2,
     "metadata": {},
     "output_type": "execute_result"
    }
   ],
   "source": [
    "ptab_patents = pd.read_pickle('ptab_patents.pkl')\n",
    "ptab_patents['denied'].describe()"
   ]
  },
  {
   "cell_type": "code",
   "execution_count": 3,
   "metadata": {
    "collapsed": false
   },
   "outputs": [
    {
     "ename": "NameError",
     "evalue": "name 'df' is not defined",
     "output_type": "error",
     "traceback": [
      "\u001b[0;31m---------------------------------------------------------------------------\u001b[0m",
      "\u001b[0;31mNameError\u001b[0m                                 Traceback (most recent call last)",
      "\u001b[0;32m<ipython-input-3-064621846516>\u001b[0m in \u001b[0;36m<module>\u001b[0;34m()\u001b[0m\n\u001b[1;32m      1\u001b[0m \u001b[0mmask\u001b[0m \u001b[0;34m=\u001b[0m \u001b[0;34m(\u001b[0m\u001b[0mptab_patents\u001b[0m\u001b[0;34m.\u001b[0m\u001b[0mclaim_text\u001b[0m\u001b[0;34m.\u001b[0m\u001b[0mstr\u001b[0m\u001b[0;34m.\u001b[0m\u001b[0mlen\u001b[0m\u001b[0;34m(\u001b[0m\u001b[0;34m)\u001b[0m \u001b[0;34m>\u001b[0m \u001b[0;36m1\u001b[0m\u001b[0;34m)\u001b[0m\u001b[0;34m\u001b[0m\u001b[0m\n\u001b[0;32m----> 2\u001b[0;31m \u001b[0mdf\u001b[0m \u001b[0;34m=\u001b[0m \u001b[0mdf\u001b[0m\u001b[0;34m.\u001b[0m\u001b[0mloc\u001b[0m\u001b[0;34m[\u001b[0m\u001b[0mmask\u001b[0m\u001b[0;34m]\u001b[0m\u001b[0;34m\u001b[0m\u001b[0m\n\u001b[0m\u001b[1;32m      3\u001b[0m \u001b[0;34m\u001b[0m\u001b[0m\n\u001b[1;32m      4\u001b[0m \u001b[0mdups\u001b[0m \u001b[0;34m=\u001b[0m \u001b[0mdf\u001b[0m\u001b[0;34m.\u001b[0m\u001b[0mduplicated\u001b[0m\u001b[0;34m(\u001b[0m\u001b[0msubset\u001b[0m\u001b[0;34m=\u001b[0m\u001b[0;34m'claim_text'\u001b[0m\u001b[0;34m,\u001b[0m \u001b[0mkeep\u001b[0m\u001b[0;34m=\u001b[0m\u001b[0;34m'first'\u001b[0m\u001b[0;34m)\u001b[0m\u001b[0;34m\u001b[0m\u001b[0m\n\u001b[1;32m      5\u001b[0m \u001b[0mdf\u001b[0m \u001b[0;34m=\u001b[0m \u001b[0mdf\u001b[0m\u001b[0;34m.\u001b[0m\u001b[0mloc\u001b[0m\u001b[0;34m[\u001b[0m\u001b[0;34m~\u001b[0m\u001b[0mdups\u001b[0m\u001b[0;34m]\u001b[0m\u001b[0;34m\u001b[0m\u001b[0m\n",
      "\u001b[0;31mNameError\u001b[0m: name 'df' is not defined"
     ]
    }
   ],
   "source": [
    "mask = (ptab_patents.claim_text.str.len() > 1)\n",
    "df = df.loc[mask]\n",
    "\n",
    "dups = df.duplicated(subset='claim_text', keep='first')\n",
    "df = df.loc[~dups]\n",
    "\n",
    "X = df.claim_text.as_matrix()\n",
    "y = df.invalidated.as_matrix()"
   ]
  },
  {
   "cell_type": "code",
   "execution_count": null,
   "metadata": {
    "collapsed": false
   },
   "outputs": [],
   "source": [
    "sum(ptab_patents.invalidated.value_counts())"
   ]
  },
  {
   "cell_type": "code",
   "execution_count": 4,
   "metadata": {
    "collapsed": false
   },
   "outputs": [],
   "source": [
    "from sklearn.feature_extraction.text import TfidfVectorizer, CountVectorizer, TfidfTransformer\n",
    "from sklearn.svm import LinearSVC\n",
    "from sklearn.svm import SVC\n",
    "from sklearn.linear_model import LogisticRegression\n",
    "from sklearn import cross_validation\n",
    "from sklearn.metrics import precision_score\n",
    "from sklearn.metrics import recall_score\n",
    "\n",
    "def train_model(X, y, classifier):\n",
    "    X_train, X_test, y_train, y_test = cross_validation.train_test_split(\n",
    "        X, y, test_size=0.2, random_state=20)\n",
    "\n",
    "    tfidf = TfidfVectorizer()\n",
    "    tfidf.fit(X)\n",
    "    X_train = tfidf.transform(X_train)\n",
    "    X_test = tfidf.transform(X_test)\n",
    "\n",
    "    model = classifier.fit(X_train, y_train)\n",
    "    \n",
    "#     logistic_class = LogisticRegression(dual=True)\n",
    "#     model = logistic_class.fit(X_train, y_train)\n",
    "\n",
    "    precision = precision_score(y_test, model.predict(X_test))\n",
    "    recall = recall_score(y_test, model.predict(X_test))\n",
    "\n",
    "    print(\"Training accuracy is {0}\".format(model.score(X_train, y_train)))\n",
    "    print(\"Testing accuracy is {0}\".format(model.score(X_test, y_test)))\n",
    "    print(\"Precision is {0}\".format(precision))\n",
    "    print(\"Recall is {0}\".format(recall))\n",
    "\n",
    "    vals = df.invalidated.value_counts()\n",
    "    print(\"Outcome of guessing is {}\".format(float(vals[0])/float(sum(vals))))\n",
    "    print(\"N is {0}\".format(sum(vals)))\n",
    "    \n",
    "    return model, X_test, y_test, X_train, y_train"
   ]
  },
  {
   "cell_type": "markdown",
   "metadata": {},
   "source": [
    "Recall is high when we keep our false negatives low and precision is high when we keep our false positives low. Basically, this classifier is overindexing on precision relative to recall. A next step here would be to look at tradeoffs between precision and recall between different probabalistic classifiers. We probably also want to play with regularization."
   ]
  },
  {
   "cell_type": "markdown",
   "metadata": {},
   "source": [
    "# Predicting denials"
   ]
  },
  {
   "cell_type": "code",
   "execution_count": 3,
   "metadata": {
    "collapsed": false
   },
   "outputs": [
    {
     "name": "stdout",
     "output_type": "stream",
     "text": [
      "Out of 6450 total cases, 3645 have null for their denied status\n"
     ]
    }
   ],
   "source": [
    "null_denied_counts = ptab_patents.denied.notnull().value_counts()\n",
    "print(\"Out of {0} total cases, {1} have null for their denied status\".format(sum(null_denied_counts), null_denied_counts[1]))"
   ]
  },
  {
   "cell_type": "code",
   "execution_count": 4,
   "metadata": {
    "collapsed": false
   },
   "outputs": [
    {
     "data": {
      "text/plain": [
       "True     3645\n",
       "False    2805\n",
       "Name: denied, dtype: int64"
      ]
     },
     "execution_count": 4,
     "metadata": {},
     "output_type": "execute_result"
    }
   ],
   "source": [
    "null_denied_counts"
   ]
  },
  {
   "cell_type": "code",
   "execution_count": 5,
   "metadata": {
    "collapsed": false
   },
   "outputs": [
    {
     "name": "stdout",
     "output_type": "stream",
     "text": [
      "Out of 6450 total cases, 2487 are on duplicate patents\n"
     ]
    }
   ],
   "source": [
    "dup_patent_counts = ptab_patents.duplicated(subset='patent_id', keep='first').value_counts()\n",
    "print(\"Out of {0} total cases, {1} are on duplicate patents\".format(sum(dup_patent_counts), dup_patent_counts[1]))"
   ]
  },
  {
   "cell_type": "code",
   "execution_count": 6,
   "metadata": {
    "collapsed": false
   },
   "outputs": [
    {
     "data": {
      "text/html": [
       "<div>\n",
       "<table border=\"1\" class=\"dataframe\">\n",
       "  <thead>\n",
       "    <tr style=\"text-align: right;\">\n",
       "      <th></th>\n",
       "      <th>case_id</th>\n",
       "      <th>patent_id</th>\n",
       "      <th>invalidated</th>\n",
       "      <th>filing_date</th>\n",
       "      <th>decision_date</th>\n",
       "      <th>claim_text</th>\n",
       "    </tr>\n",
       "    <tr>\n",
       "      <th>denied</th>\n",
       "      <th></th>\n",
       "      <th></th>\n",
       "      <th></th>\n",
       "      <th></th>\n",
       "      <th></th>\n",
       "      <th></th>\n",
       "    </tr>\n",
       "  </thead>\n",
       "  <tbody>\n",
       "    <tr>\n",
       "      <th>0.0</th>\n",
       "      <td>1593</td>\n",
       "      <td>1593</td>\n",
       "      <td>1593</td>\n",
       "      <td>1593</td>\n",
       "      <td>1589</td>\n",
       "      <td>1593</td>\n",
       "    </tr>\n",
       "    <tr>\n",
       "      <th>1.0</th>\n",
       "      <td>2052</td>\n",
       "      <td>2048</td>\n",
       "      <td>2052</td>\n",
       "      <td>2052</td>\n",
       "      <td>2046</td>\n",
       "      <td>2052</td>\n",
       "    </tr>\n",
       "  </tbody>\n",
       "</table>\n",
       "</div>"
      ],
      "text/plain": [
       "        case_id  patent_id  invalidated  filing_date  decision_date  \\\n",
       "denied                                                                \n",
       "0.0     1593     1593       1593         1593         1589            \n",
       "1.0     2052     2048       2052         2052         2046            \n",
       "\n",
       "        claim_text  \n",
       "denied              \n",
       "0.0     1593        \n",
       "1.0     2052        "
      ]
     },
     "execution_count": 6,
     "metadata": {},
     "output_type": "execute_result"
    }
   ],
   "source": [
    "ptab_patents.groupby(by='denied').count()\n",
    "# sum(ptab_patents.denied.isnull())"
   ]
  },
  {
   "cell_type": "markdown",
   "metadata": {},
   "source": [
    "# Data cleaning"
   ]
  },
  {
   "cell_type": "markdown",
   "metadata": {},
   "source": [
    "## Attempt to use team rocket data (didn't work)"
   ]
  },
  {
   "cell_type": "code",
   "execution_count": 44,
   "metadata": {
    "collapsed": false
   },
   "outputs": [],
   "source": [
    "***REMOVED***_df = pd.DataFrame.from_csv('ptab_patents_claims_data.csv')"
   ]
  },
  {
   "cell_type": "code",
   "execution_count": 58,
   "metadata": {
    "collapsed": false
   },
   "outputs": [],
   "source": [
    "***REMOVED***_df = ***REMOVED***_df.reset_index()"
   ]
  },
  {
   "cell_type": "code",
   "execution_count": 73,
   "metadata": {
    "collapsed": false
   },
   "outputs": [],
   "source": [
    "patents_without_text = patents_without_text.astype('str')"
   ]
  },
  {
   "cell_type": "code",
   "execution_count": 50,
   "metadata": {
    "collapsed": false
   },
   "outputs": [],
   "source": [
    "claim_text_col = ***REMOVED***_df.columns[1]\n",
    "***REMOVED***_df = ***REMOVED***_df.rename(columns={claim_text_col : \"claim_text\"})"
   ]
  },
  {
   "cell_type": "code",
   "execution_count": 75,
   "metadata": {
    "collapsed": false
   },
   "outputs": [],
   "source": [
    "ids_without_text = ptab_patents.loc[ptab_patents.claim_text.str.len() < 1].patent_id.astype('str')"
   ]
  },
  {
   "cell_type": "code",
   "execution_count": 83,
   "metadata": {
    "collapsed": false
   },
   "outputs": [
    {
     "data": {
      "text/plain": [
       "False    2174\n",
       "True     3   \n",
       "Name: patent_id, dtype: int64"
      ]
     },
     "execution_count": 83,
     "metadata": {},
     "output_type": "execute_result"
    }
   ],
   "source": [
    "ids_without_text.isin(***REMOVED***_df.patent_id.astype('str')).value_counts()"
   ]
  },
  {
   "cell_type": "markdown",
   "metadata": {},
   "source": [
    "## Main data cleaning"
   ]
  },
  {
   "cell_type": "code",
   "execution_count": 8,
   "metadata": {
    "collapsed": false
   },
   "outputs": [],
   "source": [
    "# First get rid of patents where we cannot find the claim text\n",
    "mask = (ptab_patents.claim_text.str.len() > 1)\n",
    "df = ptab_patents.loc[mask]\n",
    "\n",
    "# Simple function to prettify axes\n",
    "def simpleaxis(ax):\n",
    "    ax.spines['top'].set_visible(False)\n",
    "    ax.spines['right'].set_visible(False)\n",
    "    ax.get_xaxis().tick_bottom()\n",
    "    ax.get_yaxis().tick_left()"
   ]
  },
  {
   "cell_type": "code",
   "execution_count": 9,
   "metadata": {
    "collapsed": false
   },
   "outputs": [
    {
     "name": "stderr",
     "output_type": "stream",
     "text": [
      "/Users/davidjwiner/anaconda3/envs/py27/lib/python2.7/site-packages/pandas/core/generic.py:2701: SettingWithCopyWarning: \n",
      "A value is trying to be set on a copy of a slice from a DataFrame.\n",
      "Try using .loc[row_indexer,col_indexer] = value instead\n",
      "\n",
      "See the caveats in the documentation: http://pandas.pydata.org/pandas-docs/stable/indexing.html#indexing-view-versus-copy\n",
      "  self[name] = value\n"
     ]
    },
    {
     "data": {
      "text/plain": [
       "-1.0    1783\n",
       " 0.0    1527\n",
       " 1.0    963 \n",
       "Name: invalidated, dtype: int64"
      ]
     },
     "execution_count": 9,
     "metadata": {},
     "output_type": "execute_result"
    }
   ],
   "source": [
    "df.denied = df.denied.fillna(value=-1)\n",
    "df.invalidated = df.invalidated.fillna(value=-1)\n",
    "df.invalidated.value_counts()"
   ]
  },
  {
   "cell_type": "code",
   "execution_count": 10,
   "metadata": {
    "collapsed": false
   },
   "outputs": [
    {
     "data": {
      "text/html": [
       "<div>\n",
       "<table border=\"1\" class=\"dataframe\">\n",
       "  <thead>\n",
       "    <tr style=\"text-align: right;\">\n",
       "      <th>invalidated</th>\n",
       "      <th>-1.0</th>\n",
       "      <th>0.0</th>\n",
       "      <th>1.0</th>\n",
       "    </tr>\n",
       "    <tr>\n",
       "      <th>denied</th>\n",
       "      <th></th>\n",
       "      <th></th>\n",
       "      <th></th>\n",
       "    </tr>\n",
       "  </thead>\n",
       "  <tbody>\n",
       "    <tr>\n",
       "      <th>-1.0</th>\n",
       "      <td>1783.0</td>\n",
       "      <td>NaN</td>\n",
       "      <td>NaN</td>\n",
       "    </tr>\n",
       "    <tr>\n",
       "      <th>0.0</th>\n",
       "      <td>NaN</td>\n",
       "      <td>140.0</td>\n",
       "      <td>963.0</td>\n",
       "    </tr>\n",
       "    <tr>\n",
       "      <th>1.0</th>\n",
       "      <td>NaN</td>\n",
       "      <td>1387.0</td>\n",
       "      <td>NaN</td>\n",
       "    </tr>\n",
       "  </tbody>\n",
       "</table>\n",
       "</div>"
      ],
      "text/plain": [
       "invalidated    -1.0     0.0    1.0\n",
       "denied                            \n",
       "-1.0         1783.0 NaN     NaN   \n",
       " 0.0        NaN      140.0   963.0\n",
       " 1.0        NaN      1387.0 NaN   "
      ]
     },
     "execution_count": 10,
     "metadata": {},
     "output_type": "execute_result"
    }
   ],
   "source": [
    "stacked = df.groupby(by=['denied', 'invalidated']).count()\n",
    "unstacked = stacked.unstack()\n",
    "unstacked['case_id']"
   ]
  },
  {
   "cell_type": "markdown",
   "metadata": {},
   "source": [
    "As we'd expect, almost all of the cases that were not denied had a ruling. There are no cases that were both invalidated and denied (which makes sense). We'd lose a significant amount of data by calling all cases that are denied \"denied.\" We can get around this by counting all of the cases that have an invalidation decision as not denied. "
   ]
  },
  {
   "cell_type": "code",
   "execution_count": 11,
   "metadata": {
    "collapsed": false
   },
   "outputs": [
    {
     "name": "stderr",
     "output_type": "stream",
     "text": [
      "/Users/davidjwiner/anaconda3/envs/py27/lib/python2.7/site-packages/ipykernel/__main__.py:1: SettingWithCopyWarning: \n",
      "A value is trying to be set on a copy of a slice from a DataFrame.\n",
      "Try using .loc[row_indexer,col_indexer] = value instead\n",
      "\n",
      "See the caveats in the documentation: http://pandas.pydata.org/pandas-docs/stable/indexing.html#indexing-view-versus-copy\n",
      "  if __name__ == '__main__':\n"
     ]
    }
   ],
   "source": [
    "df['filing_to_decision'] = df.decision_date - df.filing_date"
   ]
  },
  {
   "cell_type": "code",
   "execution_count": 12,
   "metadata": {
    "collapsed": false
   },
   "outputs": [
    {
     "name": "stdout",
     "output_type": "stream",
     "text": [
      "Average number of days elapsed is 171.034941764\n"
     ]
    },
    {
     "data": {
      "image/png": "[encoded data removed]",
      "text/plain": [
       "<matplotlib.figure.Figure at 0x116826810>"
      ]
     },
     "metadata": {},
     "output_type": "display_data"
    }
   ],
   "source": [
    "gap_in_days = df.filing_to_decision[df.filing_to_decision.notnull()] / np.timedelta64(1, 'D')\n",
    "ax = plt.subplot(111)\n",
    "gap_in_days.hist(bins=20)\n",
    "simpleaxis(ax)\n",
    "plt.title('Days elapsed from filing to decision date for \\nPTAB cases, 2012-2016')\n",
    "plt.xlabel('Gap from filing to decision in days')\n",
    "plt.ylabel('Number of cases')\n",
    "print(\"Average number of days elapsed is {0}\".format(gap_in_days.mean()))"
   ]
  },
  {
   "cell_type": "markdown",
   "metadata": {},
   "source": [
    "So it looks like, for all cases from more than 200 days prior to when this case was filed, if there is no decision we can count them as \"denied\" for the purposes of our algorithm."
   ]
  },
  {
   "cell_type": "code",
   "execution_count": 13,
   "metadata": {
    "collapsed": false
   },
   "outputs": [],
   "source": [
    "# Eliminate any missing within the acceptable filing-to-decision gap\n",
    "df.decision_date = pd.to_datetime(df.decision_date)\n",
    "df.filing_date = pd.to_datetime(df.filing_date)\n",
    "\n",
    "max_date = df.decision_date.max()\n",
    "min_filing_date = max_date - pd.Timedelta('200 days')\n",
    "\n",
    "n_should_be_denied = df[((df.denied == -1) & (df.filing_date < min_filing_date))].count()[0]\n",
    "n_out_of_progress_period = df[(df.filing_date < min_filing_date)].count()[0]\n",
    "n_in_progress_period = df[(df.filing_date >= min_filing_date)].count()[0]"
   ]
  },
  {
   "cell_type": "code",
   "execution_count": 14,
   "metadata": {
    "collapsed": false
   },
   "outputs": [
    {
     "name": "stdout",
     "output_type": "stream",
     "text": [
      "638\n",
      "3635\n",
      "0.149309618535\n"
     ]
    }
   ],
   "source": [
    "print(n_in_progress_period)\n",
    "print(n_out_of_progress_period)\n",
    "\n",
    "print(float(n_in_progress_period/4273.0))"
   ]
  },
  {
   "cell_type": "code",
   "execution_count": 15,
   "metadata": {
    "collapsed": false
   },
   "outputs": [],
   "source": [
    "df = df[(df.denied == 1) | (df.denied == 0) | ((df.denied == -1) & (df.filing_date < min_filing_date))]\n",
    "df.denied[df.denied == -1] = 1"
   ]
  },
  {
   "cell_type": "markdown",
   "metadata": {},
   "source": [
    "## Examine new value counts "
   ]
  },
  {
   "cell_type": "code",
   "execution_count": 16,
   "metadata": {
    "collapsed": false
   },
   "outputs": [
    {
     "data": {
      "text/plain": [
       "3644"
      ]
     },
     "execution_count": 16,
     "metadata": {},
     "output_type": "execute_result"
    }
   ],
   "source": [
    "# print(df.denied.value_counts())\n",
    "# print(df.denied.describe())\n",
    "\n",
    "df.denied.value_counts()[1] + df.denied.value_counts()[0]"
   ]
  },
  {
   "cell_type": "markdown",
   "metadata": {},
   "source": [
    "That increased the amount that we have to work with from ~2500 to ~3600 – a pretty substantial increase!"
   ]
  },
  {
   "cell_type": "markdown",
   "metadata": {},
   "source": [
    "## Patents appear 2+ times across cases"
   ]
  },
  {
   "cell_type": "code",
   "execution_count": 17,
   "metadata": {
    "collapsed": false
   },
   "outputs": [
    {
     "ename": "NameError",
     "evalue": "name 'id_grouped' is not defined",
     "output_type": "error",
     "traceback": [
      "\u001b[0;31m---------------------------------------------------------------------------\u001b[0m",
      "\u001b[0;31mNameError\u001b[0m                                 Traceback (most recent call last)",
      "\u001b[0;32m<ipython-input-17-c591e0f10f52>\u001b[0m in \u001b[0;36m<module>\u001b[0;34m()\u001b[0m\n\u001b[1;32m      1\u001b[0m \u001b[0mplt\u001b[0m\u001b[0;34m.\u001b[0m\u001b[0mfigure\u001b[0m\u001b[0;34m(\u001b[0m\u001b[0;34m)\u001b[0m\u001b[0;34m\u001b[0m\u001b[0m\n\u001b[0;32m----> 2\u001b[0;31m \u001b[0mid_grouped\u001b[0m\u001b[0;34m.\u001b[0m\u001b[0mcount\u001b[0m\u001b[0;34m(\u001b[0m\u001b[0;34m)\u001b[0m\u001b[0;34m[\u001b[0m\u001b[0;34m'case_id'\u001b[0m\u001b[0;34m]\u001b[0m\u001b[0;34m.\u001b[0m\u001b[0mhist\u001b[0m\u001b[0;34m(\u001b[0m\u001b[0mbins\u001b[0m\u001b[0;34m=\u001b[0m\u001b[0;36m25\u001b[0m\u001b[0;34m)\u001b[0m\u001b[0;34m\u001b[0m\u001b[0m\n\u001b[0m\u001b[1;32m      3\u001b[0m \u001b[0mplt\u001b[0m\u001b[0;34m.\u001b[0m\u001b[0mtitle\u001b[0m\u001b[0;34m(\u001b[0m\u001b[0;34m\"Number of cases by patent\"\u001b[0m\u001b[0;34m)\u001b[0m\u001b[0;34m\u001b[0m\u001b[0m\n\u001b[1;32m      4\u001b[0m \u001b[0mplt\u001b[0m\u001b[0;34m.\u001b[0m\u001b[0mylabel\u001b[0m\u001b[0;34m(\u001b[0m\u001b[0;34m\"Number of patents\"\u001b[0m\u001b[0;34m)\u001b[0m\u001b[0;34m\u001b[0m\u001b[0m\n\u001b[1;32m      5\u001b[0m \u001b[0mplt\u001b[0m\u001b[0;34m.\u001b[0m\u001b[0mxlabel\u001b[0m\u001b[0;34m(\u001b[0m\u001b[0;34m\"Number of appearances across data\"\u001b[0m\u001b[0;34m)\u001b[0m\u001b[0;34m\u001b[0m\u001b[0m\n",
      "\u001b[0;31mNameError\u001b[0m: name 'id_grouped' is not defined"
     ]
    },
    {
     "data": {
      "text/plain": [
       "<matplotlib.figure.Figure at 0x1191afc50>"
      ]
     },
     "metadata": {},
     "output_type": "display_data"
    }
   ],
   "source": [
    "plt.figure()\n",
    "id_grouped.count()['case_id'].hist(bins=25)\n",
    "plt.title(\"Number of cases by patent\")\n",
    "plt.ylabel(\"Number of patents\")\n",
    "plt.xlabel(\"Number of appearances across data\")"
   ]
  },
  {
   "cell_type": "markdown",
   "metadata": {},
   "source": [
    "# Feature engineering\n",
    "## Removing stop words and applying stemmer"
   ]
  },
  {
   "cell_type": "code",
   "execution_count": 21,
   "metadata": {
    "collapsed": false
   },
   "outputs": [],
   "source": [
    "X = df.claim_text.as_matrix()\n",
    "y = df.denied.as_matrix()\n",
    "\n",
    "from nltk.corpus import stopwords\n",
    "from nltk.stem.snowball import SnowballStemmer\n",
    "ps = SnowballStemmer('english')\n",
    "\n",
    "stop = set(stopwords.words('english'))\n",
    "X_mod = []\n",
    "for idx, claim in enumerate(X):\n",
    "    try:\n",
    "        text = ' '.join([ps.stem(word) for word in claim.split() if word not in stop])\n",
    "    except:\n",
    "        text = ' '.join([word for word in claim.split() if word not in stop])\n",
    "    X_mod.append(text)"
   ]
  },
  {
   "cell_type": "markdown",
   "metadata": {},
   "source": [
    "## Plotting number of features by featurization method"
   ]
  },
  {
   "cell_type": "code",
   "execution_count": 22,
   "metadata": {
    "collapsed": false
   },
   "outputs": [],
   "source": [
    "tfidf_unigram = TfidfVectorizer(ngram_range=(1, 1))\n",
    "# tfidf_bigram = TfidfVectorizer(ngram_range=(1, 2))\n",
    "# tfidf_trigram = TfidfVectorizer(ngram_range=(1, 3))\n",
    "# tfidf_tetragram = TfidfVectorizer(ngram_range=(1, 4))\n",
    "\n",
    "# X_unigram_normal = tfidf_unigram.fit_transform(X)\n",
    "X_unigram = tfidf_unigram.fit_transform(X_mod)\n",
    "# X_bigram = tfidf_bigram.fit_transform(X)\n",
    "# X_trigram = tfidf_trigram.fit_transform(X)\n",
    "# X_tetragram = tfidf_tetragram.fit_transform(X)"
   ]
  },
  {
   "cell_type": "code",
   "execution_count": null,
   "metadata": {
    "collapsed": false
   },
   "outputs": [],
   "source": [
    "num_features = [feature_matrix.shape[1] for feature_matrix in [X_unigram, X_bigram, X_trigram, X_tetragram]]"
   ]
  },
  {
   "cell_type": "code",
   "execution_count": 42,
   "metadata": {
    "collapsed": false
   },
   "outputs": [
    {
     "data": {
      "text/plain": [
       "[<matplotlib.text.Text at 0x12e5bf3d0>,\n",
       " <matplotlib.text.Text at 0x12e4b86d0>,\n",
       " <matplotlib.text.Text at 0x12e620090>,\n",
       " <matplotlib.text.Text at 0x12e620810>]"
      ]
     },
     "execution_count": 42,
     "metadata": {},
     "output_type": "execute_result"
    },
    {
     "data": {
      "image/png": "[encoded data removed]",
      "text/plain": [
       "<matplotlib.figure.Figure at 0x12e0c6f90>"
      ]
     },
     "metadata": {},
     "output_type": "display_data"
    }
   ],
   "source": [
    "# Plotting number of features\n",
    "from matplotlib import pyplot as plt\n",
    "pos = list(range(len(num_features)))\n",
    "width = 0.3\n",
    "\n",
    "fig, ax = plt.subplots()\n",
    "fig.tight_layout()\n",
    "\n",
    "plt.bar([p + width for p in pos],\n",
    "            num_features,\n",
    "            width,\n",
    "            alpha=0.5,\n",
    "            color='darkblue',\n",
    "            label='Training accuracy')\n",
    "\n",
    "ax.set_ylabel('Number of features (millions)')\n",
    "ax.set_xlabel('Featurization method')\n",
    "ax.set_title('Number of features by featurization method', fontsize=12)\n",
    "plt.ticklabel_format(style='sci', axis='y', scilimits=(0,0))\n",
    "ax.set_xticks([p + 1.5 * width for p in pos])\n",
    "ax.set_xticklabels(['Unigrams', 'Bigrams', 'Trigrams', 'Tetragrams'])\n",
    "# plt.legend(loc='upper left', fontsize=10)\n"
   ]
  },
  {
   "cell_type": "markdown",
   "metadata": {},
   "source": [
    "## SVD"
   ]
  },
  {
   "cell_type": "code",
   "execution_count": 151,
   "metadata": {
    "collapsed": false
   },
   "outputs": [],
   "source": [
    "from sklearn import linear_model, decomposition, datasets\n",
    "from sklearn import svm\n",
    "from matplotlib import pyplot as plt\n",
    "from sklearn import cross_validation\n",
    "\n",
    "plt.style.use('ggplot')\n",
    "\n",
    "num_svd_features = [1000, 2000, 5000, 10000]\n",
    "\n",
    "X_train, X_test, y_train, y_test = cross_validation.train_test_split(\n",
    "    X_unigram, y, test_size=0.2, random_state=20)\n",
    "\n",
    "def plot_accuracies(train_acc, test_acc, figure, classifier_name):\n",
    "    pos = list(range(len(train_acc)))\n",
    "    width = 0.2\n",
    "    plt.figure(figure)\n",
    "    fig, ax = plt.subplots()\n",
    "    fig.tight_layout()\n",
    "    \n",
    "    plt.bar([p + width for p in pos],\n",
    "            train_acc,\n",
    "            width,\n",
    "            alpha=0.5,\n",
    "            color='darkblue',\n",
    "            label='Training accuracy')\n",
    "    \n",
    "    plt.bar([p + 2 * width for p in pos],\n",
    "            test_acc,\n",
    "            width,\n",
    "            alpha=0.5,\n",
    "            color='lightsteelblue',\n",
    "            label = 'Testing accuracy')\n",
    "    \n",
    "    simpleaxis(ax)\n",
    "    ax.set_ylabel('Accuracy')\n",
    "    ax.set_xlabel('Number of features')\n",
    "    ax.set_title('Training and testing accuracy by number of features, \\n{0}'.format(classifier_name), fontsize=12)\n",
    "    ax.set_xticks([p + 2 * width for p in pos])\n",
    "    ax.set_xticklabels(num_svd_features)\n",
    "#     plt.legend(loc='best', fontsize=10)\n",
    "    plt.legend(bbox_to_anchor=(1, 1.02), loc='upper left', ncol=1)\n",
    "\n",
    "    \n",
    "    plt.tick_params(\n",
    "        axis='y',          # changes apply to the y-axis\n",
    "        which='both',      # both major and minor ticks are affected\n",
    "        left='on',         # ticks along the bottom edge are off\n",
    "        right='off')       # ticks along the top edge are off\n",
    "    \n",
    "    plt.show()\n",
    "\n",
    "# logistic = linear_model.LogisticRegression()\n",
    "# svc = svm.LinearSVC(C=10)\n",
    "# clfs = [('support vector classification', svc)]\n",
    "\n",
    "# for idx, (name, clf) in enumerate(clfs):\n",
    "#     training_accuracies = []\n",
    "#     testing_accuracies = []\n",
    "#     for n_components in num_svd_features:\n",
    "#         print(\"Working on componenents {0}\".format(n_components))\n",
    "#         svd = decomposition.TruncatedSVD(n_components=n_components)\n",
    "#         svd.fit(X_train)\n",
    "#         X_train_transformed = svd.transform(X_train)\n",
    "#         X_test_transformed = svd.transform(X_test)\n",
    "#         clf.fit(X_train_transformed, y_train)\n",
    "#         training_accuracies.append(clf.score(X_train_transformed, y_train))\n",
    "#         testing_accuracies.append(clf.score(X_test_transformed, y_test))\n",
    "#     plot_accuracies(training_accuracies, testing_accuracies, idx, name)"
   ]
  },
  {
   "cell_type": "code",
   "execution_count": 152,
   "metadata": {
    "collapsed": false
   },
   "outputs": [
    {
     "data": {
      "text/plain": [
       "<matplotlib.figure.Figure at 0x12ccc4c50>"
      ]
     },
     "metadata": {},
     "output_type": "display_data"
    },
    {
     "data": {
      "image/png": "[encoded data removed]",
      "text/plain": [
       "<matplotlib.figure.Figure at 0x134ecec10>"
      ]
     },
     "metadata": {},
     "output_type": "display_data"
    }
   ],
   "source": [
    "plot_accuracies(training_accuracies, testing_accuracies, idx, name)"
   ]
  },
  {
   "cell_type": "code",
   "execution_count": 2,
   "metadata": {
    "collapsed": false
   },
   "outputs": [],
   "source": [
    "from sklearn.metrics import roc_curve, auc\n",
    "from sklearn.naive_bayes import GaussianNB\n",
    "from sklearn.ensemble import RandomForestClassifier\n",
    "from sklearn.svm import SVC\n",
    "import matplotlib\n",
    "import csv\n",
    "\n",
    "# SVC classification algorithms\n",
    "SVC_clfs = [(\"Linear SVC, C=10\", SVC(C=10, kernel='linear')), \n",
    "        (\"Linear SVC, C=1\" , SVC(C=.1, kernel='linear')), \n",
    "        (\"Linear SVC, C=0.1\", SVC(C=0.1, kernel='linear')),\n",
    "        (\"Polynomial SVC, C=10\", SVC(C=10, kernel='poly')),\n",
    "        (\"Polynomial SVC, C=1\", SVC(C=1, kernel='poly')),\n",
    "        (\"Polynomial SVC, C=0.1\", SVC(C=0.1, kernel='poly')),\n",
    "        (\"RBF SVC, C=10\", SVC(C=10, kernel='rbf')),\n",
    "        (\"RBF SVC, C=1\", SVC(C=1, kernel='rbf')),\n",
    "        (\"RBF SVC, C=0.1\", SVC(C=0.1, kernel='rbf'))]\n",
    "\n",
    "# Random forest algorithms\n",
    "random_forest_clfs = [(\"Random forest, 1\", RandomForestClassifier(max_features=10, max_depth=1)),\n",
    "        (\"Random forest, 10\", RandomForestClassifier(max_features=10, max_depth=10)),\n",
    "        (\"Random forest, 20\", RandomForestClassifier(max_features=10, max_depth=20)),\n",
    "        (\"Random forest, 30\", RandomForestClassifier(max_features=10, max_depth=30)),\n",
    "        (\"Random forest, 40\", RandomForestClassifier(max_features=10, max_depth=40)),\n",
    "        (\"Random forest, 50\", RandomForestClassifier(max_features=10, max_depth=50)),\n",
    "        (\"Random forest, 60\", RandomForestClassifier(max_features=10, max_depth=60)),\n",
    "        (\"Random forest, 70\", RandomForestClassifier(max_features=10, max_depth=70))]\n",
    "\n",
    "def get_results(clfs, filename):\n",
    "    for (name, classifier) in clfs:\n",
    "        model, X_test, y_test, X_train, y_train = train_model(X, y, classifier)\n",
    "        with open(filename, 'w') as csvfile:\n",
    "            writer = csv.writer(csvfile)\n",
    "            writer.writerow(['Training accuracy', 'Testing accuracy'])\n",
    "            writer.writerow([model.score(X_train, y_train), model.score(X_test, y_test)])\n",
    "            \n",
    "# get_results(random_forest_clfs, \"random_forest_classifiers.csv\")"
   ]
  },
  {
   "cell_type": "markdown",
   "metadata": {},
   "source": [
    "# Learning curve"
   ]
  },
  {
   "cell_type": "code",
   "execution_count": 170,
   "metadata": {
    "collapsed": false
   },
   "outputs": [
    {
     "name": "stdout",
     "output_type": "stream",
     "text": [
      "50\n",
      "250\n",
      "500\n",
      "1000\n",
      "1250\n",
      "1500\n",
      "1750\n",
      "2000\n"
     ]
    }
   ],
   "source": [
    "from sklearn import utils\n",
    "\n",
    "n_training_examples = [50, 250, 500, 1000, 1250, 1500, 1750, 2000]\n",
    "training_accuracies = []\n",
    "testing_accuracies = []\n",
    "\n",
    "X_subset, X_cross_val, y_subset, y_cross_val = cross_validation.train_test_split(\n",
    "        X_unigram, y, test_size=0.2, random_state=20)\n",
    "\n",
    "for n in n_training_examples:\n",
    "    print(n)\n",
    "    svc = SVC(C=10, kernel='linear')\n",
    "    X_train, y_train = utils.resample(X_subset, y_subset, replace=False, n_samples=n, random_state=20)\n",
    "#     X_train, X_test, y_train, y_test = cross_validation.train_test_split(\n",
    "#         X_subset, y_subset, test_size=0.2, random_state=20)\n",
    "    svc.fit(X_train, y_train)\n",
    "    training_accuracies.append(svc.score(X_train, y_train))\n",
    "    testing_accuracies.append(svc.score(X_test, y_test))"
   ]
  },
  {
   "cell_type": "code",
   "execution_count": 180,
   "metadata": {
    "collapsed": false
   },
   "outputs": [
    {
     "data": {
      "image/png": "[encoded data removed]",
      "text/plain": [
       "<matplotlib.figure.Figure at 0x12a112290>"
      ]
     },
     "metadata": {},
     "output_type": "display_data"
    }
   ],
   "source": [
    "f, ax = plt.subplots()\n",
    "plt.plot(n_training_examples[1:], testing_accuracies[1:], 'o-')\n",
    "plt.ylim(0, 1)\n",
    "plt.xlabel(\"Number of training examples\")\n",
    "plt.ylabel(\"Validation accuracy\")\n",
    "plt.title(\"Denials algorithm learning curve\")\n",
    "simpleaxis(ax)\n",
    "plt.show()"
   ]
  },
  {
   "cell_type": "code",
   "execution_count": 181,
   "metadata": {
    "collapsed": false
   },
   "outputs": [
    {
     "data": {
      "text/plain": [
       "(3644, 16458)"
      ]
     },
     "execution_count": 181,
     "metadata": {},
     "output_type": "execute_result"
    }
   ],
   "source": [
    "X_unigram.shape"
   ]
  },
  {
   "cell_type": "markdown",
   "metadata": {},
   "source": [
    "# Repeated patents"
   ]
  },
  {
   "cell_type": "code",
   "execution_count": 189,
   "metadata": {
    "collapsed": false
   },
   "outputs": [
    {
     "data": {
      "text/plain": [
       "0.6190998902305159"
      ]
     },
     "execution_count": 189,
     "metadata": {},
     "output_type": "execute_result"
    }
   ],
   "source": [
    "float(len(df.patent_id.unique()))/float(len(df.case_id.unique()))"
   ]
  },
  {
   "cell_type": "code",
   "execution_count": 208,
   "metadata": {
    "collapsed": false
   },
   "outputs": [
    {
     "name": "stderr",
     "output_type": "stream",
     "text": [
      "/Users/davidjwiner/anaconda3/envs/py27/lib/python2.7/site-packages/ipykernel/__main__.py:1: FutureWarning: sort(columns=....) is deprecated, use sort_values(by=.....)\n",
      "  if __name__ == '__main__':\n"
     ]
    }
   ],
   "source": [
    "top_patents = df.groupby(by='patent_id').count().sort(columns='case_id', ascending=False).case_id"
   ]
  },
  {
   "cell_type": "code",
   "execution_count": 275,
   "metadata": {
    "collapsed": false
   },
   "outputs": [],
   "source": [
    "freqs = top_patents\n",
    "patents = top_patents.index\n",
    "\n",
    "sub_freqs = freqs[freqs > 1]\n",
    "sub_patents = sub_freqs.index\n",
    "num_denials = []\n",
    "for patent in sub_patents:\n",
    "    num_denials.append(sum(df[df.patent_id == patent].denied))\n",
    "    \n",
    "consensus = [num_denials[i] == sub_freqs[i] for i in range(len(num_denials))]"
   ]
  },
  {
   "cell_type": "code",
   "execution_count": 279,
   "metadata": {
    "collapsed": false
   },
   "outputs": [
    {
     "name": "stdout",
     "output_type": "stream",
     "text": [
      "For 0.544827586207 percent of patents that are duplicated across cases we have conflicting decisions\n"
     ]
    }
   ],
   "source": [
    "num_patents_without_consensus = float(sum(consensus)/float(len(num_denials)))\n",
    "print(\"For {0} percent of patents that are duplicated across cases we have conflicting decisions\".format(num_patents_without_consensus))"
   ]
  },
  {
   "cell_type": "code",
   "execution_count": 220,
   "metadata": {
    "collapsed": false
   },
   "outputs": [],
   "source": [
    "freqs = top_patents[:10]\n",
    "patents = top_patents[:10].index\n",
    "num_denials = []\n",
    "\n",
    "for patent in patents:\n",
    "    num_denials.append(sum(df[df.patent_id == patent].denied))"
   ]
  },
  {
   "cell_type": "code",
   "execution_count": null,
   "metadata": {
    "collapsed": true
   },
   "outputs": [],
   "source": []
  },
  {
   "cell_type": "code",
   "execution_count": 247,
   "metadata": {
    "collapsed": false
   },
   "outputs": [
    {
     "data": {
      "text/plain": [
       "[5.0, 14.0, 5.0, 12.0, 12.0, 13.0, 10.0, 11.0, 11.0, 11.0]"
      ]
     },
     "execution_count": 247,
     "metadata": {},
     "output_type": "execute_result"
    }
   ],
   "source": [
    "num_denials"
   ]
  },
  {
   "cell_type": "code",
   "execution_count": 255,
   "metadata": {
    "collapsed": false
   },
   "outputs": [
    {
     "data": {
      "image/png": "[encoded data removed]",
      "text/plain": [
       "<matplotlib.figure.Figure at 0x11d1b5a10>"
      ]
     },
     "metadata": {},
     "output_type": "display_data"
    }
   ],
   "source": [
    "ind = np.arange(len(freqs))    # the x locations for the groups\n",
    "width = 0.35       # the width of the bars: can also be len(x) sequence\n",
    "\n",
    "ax = plt.subplot(111)\n",
    "\n",
    "simpleaxis(ax)\n",
    "\n",
    "p1 = plt.bar(ind + width, freqs, width, color='#d62728', label=\"Accepted cases\")\n",
    "p2 = plt.bar(ind + width, num_denials, width, label=\"Denied cases\")\n",
    "\n",
    "plt.xticks(ind + 1.5 * width, patents)\n",
    "plt.xticks(rotation=30)\n",
    "plt.xlabel('Patent number')\n",
    "plt.ylabel('Number of cases')\n",
    "\n",
    "plt.legend(loc='best')\n",
    "plt.title('Case review \\noutcomes for top 10 repeated patents')\n",
    "\n",
    "plt.show()"
   ]
  },
  {
   "cell_type": "markdown",
   "metadata": {},
   "source": [
    "# Getting most/least predictive words"
   ]
  },
  {
   "cell_type": "code",
   "execution_count": 23,
   "metadata": {
    "collapsed": false
   },
   "outputs": [
    {
     "name": "stdout",
     "output_type": "stream",
     "text": [
      "Training accuracy is 0.926243567753\n",
      "Testing accuracy is 0.776406035665\n",
      "Outcome of guessing is 0.419045005488\n",
      "N is 3644\n"
     ]
    }
   ],
   "source": [
    "best_clf = SVC(C=10, kernel='linear', probability=True)\n",
    "\n",
    "X_train, X_test, y_train, y_test = cross_validation.train_test_split(\n",
    "    X, y, test_size=0.2, random_state=20)\n",
    "\n",
    "tfidf = TfidfVectorizer()\n",
    "tfidf.fit(X)\n",
    "X_train = tfidf.transform(X_train)\n",
    "X_test = tfidf.transform(X_test)\n",
    "\n",
    "model = best_clf.fit(X_train, y_train)\n",
    "\n",
    "print(\"Training accuracy is {0}\".format(model.score(X_train, y_train)))\n",
    "print(\"Testing accuracy is {0}\".format(model.score(X_test, y_test)))\n",
    "\n",
    "vals = df.invalidated.value_counts()\n",
    "print(\"Outcome of guessing is {}\".format(float(vals[0])/float(sum(vals))))\n",
    "print(\"N is {0}\".format(sum(vals)))\n",
    "\n",
    "# model, X_test, y_test, X_train, y_train"
   ]
  },
  {
   "cell_type": "code",
   "execution_count": 25,
   "metadata": {
    "collapsed": false
   },
   "outputs": [],
   "source": [
    "# text_transformed = tfidf.transform(text)\n",
    "# model.predict_proba(text_transformed)\n",
    "# model.coef_\n",
    "names = tfidf.get_feature_names()\n",
    "coeffs = model.coef_"
   ]
  },
  {
   "cell_type": "code",
   "execution_count": 26,
   "metadata": {
    "collapsed": false
   },
   "outputs": [],
   "source": [
    "sorted_labels = [y for (x, y) in sorted(zip(coeffs.todense(), names))]\n",
    "sorted_coeffs = sorted(coeffs)\n",
    "\n",
    "nonzeros = coeffs.nonzero()[1]\n",
    "out = []\n",
    "\n",
    "for idx in nonzeros:\n",
    "    out.append((coeffs[0, idx], names[idx]))\n",
    "    \n",
    "sorted_labels = [y for (x, y) in sorted(out)]\n",
    "sorted_coeffs = sorted(coeffs.todense().tolist()[0])"
   ]
  },
  {
   "cell_type": "code",
   "execution_count": 61,
   "metadata": {
    "collapsed": false
   },
   "outputs": [
    {
     "data": {
      "image/png": "[encoded data removed]",
      "text/plain": [
       "<matplotlib.figure.Figure at 0x121d97910>"
      ]
     },
     "metadata": {},
     "output_type": "display_data"
    }
   ],
   "source": [
    "# Plotting\n",
    "\n",
    "x_vals = sorted_coeffs[-10:-1] + sorted_coeffs[0:9]\n",
    "least_likely_denied = sorted_labels[-10:-1]\n",
    "most_likely_denied = sorted_labels[0:9]\n",
    "# fig = plt.figure()\n",
    "# ax = plt.subplot(111)\n",
    "simpleaxis(ax)\n",
    "\n",
    "from pylab import *\n",
    "\n",
    "pos = arange(len(x_vals))   # the bar centers on the y axis\n",
    "\n",
    "f, axarr = plt.subplots(2, sharex=True)\n",
    "plt.suptitle('Relative influences on probability of denial \\n (top and bottom words from TFIDF)')\n",
    "\n",
    "for ax in axarr:\n",
    "    simpleaxis(ax)\n",
    "\n",
    "x_1 = sorted_coeffs[-10:-1]\n",
    "x_1_pos = arange(len(x_1))\n",
    "a = axarr[0]\n",
    "a.barh(x_1_pos, x_1)\n",
    "a.set_yticklabels('')\n",
    "# Customize minor tick labels\n",
    "a.set_yticks(x_1_pos + 0.5,      minor=True)\n",
    "a.set_yticklabels(sorted_labels[-10:-1], minor=True)\n",
    "a.tick_params(axis='both', which='both',length=0)\n",
    "\n",
    "a = axarr[1]\n",
    "x_2 = sorted_coeffs[0:9]\n",
    "x_2_pos = arange(len(x_2))\n",
    "a.barh(x_2_pos, x_2)\n",
    "a.set_yticklabels('')\n",
    "# Customize minor tick labels\n",
    "a.set_yticks(x_2_pos + 0.5, minor=True)\n",
    "a.set_yticklabels(sorted_labels[0:9], minor=True)\n",
    "a.tick_params(axis='y', which='both',length=0)\n",
    "\n",
    "\n",
    "# plt.barh(pos, x_vals)\n",
    "# yticks(pos, tick_labels)\n",
    "plt.xlabel('Regression coefficient \\n (positive means word stem improves likelihood of denial, \\nnegative means stem hurts likelihood)')\n",
    "# plt.yticks()\n",
    "plt.show()"
   ]
  },
  {
   "cell_type": "markdown",
   "metadata": {},
   "source": [
    "# Outputting model"
   ]
  },
  {
   "cell_type": "code",
   "execution_count": 499,
   "metadata": {
    "collapsed": false
   },
   "outputs": [],
   "source": [
    "import pickle\n",
    "import numpy as np\n",
    "\n",
    "def get_denial_probability(text):\n",
    "    \"\"\"\n",
    "    Get the probability that a PTAB case concerning a patent \n",
    "    will be denied.\n",
    "    \n",
    "    Keyword arguments:\n",
    "    text -- text of the patent (string)\n",
    "    \"\"\"\n",
    "    with open('denials_model.pkl', 'rb') as model_file:\n",
    "        model = pickle.load(model_file)\n",
    "\n",
    "    with open('denials_tfidf.pkl', 'rb') as vectorizer_file:\n",
    "        tfidf = pickle.load(vectorizer_file)\n",
    "        \n",
    "    text_transformed = tfidf.transform([text])\n",
    "    denial_probability = model.predict_proba(text_transformed)[0][1]\n",
    "    \n",
    "    return denial_probability\n",
    "\n",
    "def get_top_denial_words(text, most_predictive=True):\n",
    "    \"\"\"\n",
    "    Gets the words that are most predictive of patent denial (or lack thereof).\n",
    "    \n",
    "    Keyword arguments:\n",
    "    text -- Text of the patent (string)\n",
    "    most_predictive -- If True, function returns words from TEXT that are\n",
    "                       most likely to predict denial. If False, function\n",
    "                       returns words from TEXT that are least likely to\n",
    "                       predict denial.\n",
    "    \"\"\"\n",
    "        \n",
    "    with open('denials_model.pkl', 'rb') as model_file:\n",
    "        model = pickle.load(model_file)\n",
    "\n",
    "    with open('denials_tfidf.pkl', 'rb') as vectorizer_file:\n",
    "        tfidf = pickle.load(vectorizer_file)\n",
    "        \n",
    "    text_transformed = tfidf.transform([text])\n",
    "    denial_probability = model.predict_proba(text_transformed)[0][1]\n",
    "    \n",
    "    coeffs = model.coef_\n",
    "    mult = coeffs.multiply(text_transformed)\n",
    "    word_labels = tfidf.get_feature_names()\n",
    "    \n",
    "    if most_predictive:\n",
    "        top_word_indices = np.argsort(mult.todense().tolist()[0])[-3:][::-1]\n",
    "        return [word_labels[idx] for idx in top_word_indices]\n",
    "    \n",
    "    else:\n",
    "        bottom_word_indices = np.argsort(mult.todense().tolist()[0])[:3][::-1]\n",
    "        return [word_labels[idx] for idx in bottom_word_indices]"
   ]
  },
  {
   "cell_type": "code",
   "execution_count": 502,
   "metadata": {
    "collapsed": false
   },
   "outputs": [
    {
     "data": {
      "text/plain": [
       "[u'many', u'dark', u'there']"
      ]
     },
     "execution_count": 502,
     "metadata": {},
     "output_type": "execute_result"
    }
   ],
   "source": []
  },
  {
   "cell_type": "code",
   "execution_count": 503,
   "metadata": {
    "collapsed": false
   },
   "outputs": [
    {
     "data": {
      "text/plain": [
       "0.67880855517455307"
      ]
     },
     "execution_count": 503,
     "metadata": {},
     "output_type": "execute_result"
    }
   ],
   "source": [
    "get_denial_probability(\"it was a cold dark night and there were many biochemical reactions. it was a tough place to be.\")"
   ]
  },
  {
   "cell_type": "markdown",
   "metadata": {},
   "source": [
    "# Testing out seaborn"
   ]
  },
  {
   "cell_type": "code",
   "execution_count": 62,
   "metadata": {
    "collapsed": false
   },
   "outputs": [
    {
     "ename": "ImportError",
     "evalue": "No module named seaborn",
     "output_type": "error",
     "traceback": [
      "\u001b[0;31m---------------------------------------------------------------------------\u001b[0m",
      "\u001b[0;31mImportError\u001b[0m                               Traceback (most recent call last)",
      "\u001b[0;32m<ipython-input-62-ed9806ce3570>\u001b[0m in \u001b[0;36m<module>\u001b[0;34m()\u001b[0m\n\u001b[0;32m----> 1\u001b[0;31m \u001b[0;32mimport\u001b[0m \u001b[0mseaborn\u001b[0m \u001b[0;32mas\u001b[0m \u001b[0msns\u001b[0m\u001b[0;34m\u001b[0m\u001b[0m\n\u001b[0m",
      "\u001b[0;31mImportError\u001b[0m: No module named seaborn"
     ]
    }
   ],
   "source": [
    "import seaborn as sns"
   ]
  },
  {
   "cell_type": "code",
   "execution_count": null,
   "metadata": {
    "collapsed": true
   },
   "outputs": [],
   "source": []
  }
 ],
 "metadata": {
  "anaconda-cloud": {},
  "kernelspec": {
   "display_name": "Python [conda env:py27]",
   "language": "python",
   "name": "conda-env-py27-py"
  },
  "language_info": {
   "codemirror_mode": {
    "name": "ipython",
    "version": 2
   },
   "file_extension": ".py",
   "mimetype": "text/x-python",
   "name": "python",
   "nbconvert_exporter": "python",
   "pygments_lexer": "ipython2",
   "version": "2.7.12"
  }
 },
 "nbformat": 4,
 "nbformat_minor": 1
}

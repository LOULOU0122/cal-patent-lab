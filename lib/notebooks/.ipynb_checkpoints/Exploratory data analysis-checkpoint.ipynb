{
 "cells": [
  {
   "cell_type": "markdown",
   "metadata": {},
   "source": [
    "# Invalidation — linear SVC skeleton"
   ]
  },
  {
   "cell_type": "code",
   "execution_count": 3,
   "metadata": {
    "collapsed": false
   },
   "outputs": [],
   "source": [
    "import csv\n",
    "import numpy as np\n",
    "import pandas as pd\n",
    "import MySQLdb\n",
    "\n",
    "from pandas import DataFrame\n",
    "from sklearn.feature_extraction.text import TfidfVectorizer, CountVectorizer, TfidfTransformer\n",
    "from sklearn.svm import LinearSVC\n",
    "from sklearn import cross_validation\n",
    "from sqlalchemy import create_engine"
   ]
  },
  {
   "cell_type": "code",
   "execution_count": 4,
   "metadata": {
    "collapsed": false
   },
   "outputs": [],
   "source": [
    "# Connecting to the db\n",
    "host_db = \"cal-patent-lab.chhaitskv8dz.us-west-2.rds.amazonaws.com\"\n",
    "username = \"***REMOVED***\"\n",
    "password = \"***REMOVED***\"\n",
    "db = \"***REMOVED***\"\n",
    "\n",
    "engine = create_engine(\"mysql://{}:{}@{}/{}\".format(\n",
    "    username, password, host_db, db))\n",
    "connection = engine.connect()\n",
    "patents_decision = pd.read_sql(\"SELECT patent_id, invalidated, CAST( claims_text AS CHAR ) FROM patents_decision\", engine)"
   ]
  },
  {
   "cell_type": "code",
   "execution_count": 98,
   "metadata": {
    "collapsed": false
   },
   "outputs": [
    {
     "name": "stdout",
     "output_type": "stream",
     "text": [
      "1592\n"
     ]
    }
   ],
   "source": [
    "patents_data = patents_decision[patents_decision[\"invalidated\"].isin([0, 1])]\n",
    "X = patents_data['CAST( claims_text AS CHAR )'].as_matrix()\n",
    "y = patents_data['invalidated'].as_matrix()\n",
    "\n",
    "# Removing element with no text\n",
    "index_to_remove= []\n",
    "for i in range(len(X)):\n",
    "    if X[i] == None:\n",
    "        index_to_remove.append(i)\n",
    "        \n",
    "X = np.delete(X, index_to_remove)\n",
    "y = np.delete(y, index_to_remove)\n",
    "\n",
    "X_train, X_test, y_train, y_test = cross_validation.train_test_split(\n",
    "    X, y, test_size=0.2, random_state=20)"
   ]
  },
  {
   "cell_type": "code",
   "execution_count": 99,
   "metadata": {
    "collapsed": false
   },
   "outputs": [],
   "source": [
    "# this normalizes word frequency based on use in each patent vs. all patents\n",
    "\n",
    "tfidf = TfidfVectorizer()\n",
    "tfidf.fit(X)\n",
    "X_train = tfidf.transform(X_train)\n",
    "X_test = tfidf.transform(X_test)"
   ]
  },
  {
   "cell_type": "code",
   "execution_count": 108,
   "metadata": {
    "collapsed": false
   },
   "outputs": [
    {
     "name": "stdout",
     "output_type": "stream",
     "text": [
      "(1429, 16077)\n"
     ]
    }
   ],
   "source": [
    "print(X_train.shape)"
   ]
  },
  {
   "cell_type": "code",
   "execution_count": 106,
   "metadata": {
    "collapsed": false
   },
   "outputs": [
    {
     "name": "stdout",
     "output_type": "stream",
     "text": [
      "0.978306508048\n",
      "0.685534591195\n"
     ]
    }
   ],
   "source": [
    "svc_class = LinearSVC(C=1)\n",
    "model = svc_class.fit(X_train, y_train)\n",
    "print(model.score(X_train, y_train))\n",
    "print(model.score(X_test, y_test))"
   ]
  },
  {
   "cell_type": "markdown",
   "metadata": {},
   "source": [
    "Right now the accuracy is the same as randomly choosing an outcome. Hopefully that changes when we train on real data :). "
   ]
  }
 ],
 "metadata": {
  "anaconda-cloud": {},
  "kernelspec": {
   "display_name": "Python 2",
   "language": "python",
   "name": "python2"
  },
  "language_info": {
   "codemirror_mode": {
    "name": "ipython",
    "version": 2
   },
   "file_extension": ".py",
   "mimetype": "text/x-python",
   "name": "python",
   "nbconvert_exporter": "python",
   "pygments_lexer": "ipython2",
   "version": "2.7.10"
  }
 },
 "nbformat": 4,
 "nbformat_minor": 1
}

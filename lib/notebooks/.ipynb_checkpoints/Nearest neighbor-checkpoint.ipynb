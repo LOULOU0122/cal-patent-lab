{
 "cells": [
  {
   "cell_type": "code",
   "execution_count": 20,
   "metadata": {
    "collapsed": false
   },
   "outputs": [
    {
     "data": {
      "text/plain": [
       "Counter({'A': 1,\n",
       "         'As': 2,\n",
       "         'In': 1,\n",
       "         'Other': 1,\n",
       "         'Synchronization': 1,\n",
       "         'a': 6,\n",
       "         'among': 1,\n",
       "         'and': 6,\n",
       "         'any': 1,\n",
       "         'are': 4,\n",
       "         'as': 1,\n",
       "         'be': 2,\n",
       "         'by': 1,\n",
       "         'changed': 1,\n",
       "         'changes': 4,\n",
       "         'client': 2,\n",
       "         'client,': 1,\n",
       "         'clients': 3,\n",
       "         'clients,': 1,\n",
       "         'contents': 3,\n",
       "         'contents.': 2,\n",
       "         'current': 2,\n",
       "         'delivers': 1,\n",
       "         'each': 2,\n",
       "         'first': 3,\n",
       "         'folder': 7,\n",
       "         'folder.': 1,\n",
       "         'folders': 1,\n",
       "         'has': 1,\n",
       "         'host': 4,\n",
       "         'in': 2,\n",
       "         'instantiates': 1,\n",
       "         'is': 1,\n",
       "         'its': 3,\n",
       "         'makes': 1,\n",
       "         'multiple': 1,\n",
       "         'network': 1,\n",
       "         'obtain': 1,\n",
       "         'of': 7,\n",
       "         'on': 2,\n",
       "         'over': 1,\n",
       "         'participating': 1,\n",
       "         'propagated': 2,\n",
       "         'provided.': 1,\n",
       "         'register': 1,\n",
       "         'registered': 1,\n",
       "         'server.': 1,\n",
       "         'share': 1,\n",
       "         'shared': 1,\n",
       "         'shared,': 1,\n",
       "         'sharing': 2,\n",
       "         'synchronized': 5,\n",
       "         'system': 1,\n",
       "         'system,': 1,\n",
       "         'system.': 1,\n",
       "         'that': 1,\n",
       "         'the': 18,\n",
       "         'this': 1,\n",
       "         'those': 1,\n",
       "         'to': 5,\n",
       "         'turn': 1,\n",
       "         'user': 2,\n",
       "         'version': 3,\n",
       "         'way,': 1,\n",
       "         'which': 1,\n",
       "         'who': 1,\n",
       "         'will': 1,\n",
       "         'with': 2})"
      ]
     },
     "execution_count": 20,
     "metadata": {},
     "output_type": "execute_result"
    }
   ],
   "source": [
    "import pandas as pd\n",
    "from sklearn.feature_extraction.text import CountVectorizer\n",
    "from collections import Counter\n",
    "f = open('sample_patent.txt', 'r')\n",
    "g = open('sample_patent2.txt', 'r')\n",
    "# word_vectorizer = CountVectorizer(ngram_range = (1,2), analyzer = 'word')\n",
    "# sparse_matrix = word_vectorizer.fit_transform(f)\n",
    "\n",
    "# frequencies = sum(sparse_matrix).toarray()[0]\n",
    "# pd.DataFrame(frequencies, index=word_vectorizer.get_feature_names(), columns=['frequency'])\n",
    "\n",
    "input_string = f.read()\n",
    "input_string = \n",
    "word_freqs = Counter(input_string.split())\n",
    "word_freqs\n",
    "\n"
   ]
  },
  {
   "cell_type": "code",
   "execution_count": null,
   "metadata": {
    "collapsed": true
   },
   "outputs": [],
   "source": []
  },
  {
   "cell_type": "code",
   "execution_count": null,
   "metadata": {
    "collapsed": true
   },
   "outputs": [],
   "source": []
  }
 ],
 "metadata": {
  "kernelspec": {
   "display_name": "Python 2",
   "language": "python",
   "name": "python2"
  },
  "language_info": {
   "codemirror_mode": {
    "name": "ipython",
    "version": 2
   },
   "file_extension": ".py",
   "mimetype": "text/x-python",
   "name": "python",
   "nbconvert_exporter": "python",
   "pygments_lexer": "ipython2",
   "version": "2.7.10"
  }
 },
 "nbformat": 4,
 "nbformat_minor": 1
}

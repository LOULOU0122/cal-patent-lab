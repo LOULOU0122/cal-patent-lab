{
 "cells": [
  {
   "cell_type": "code",
   "execution_count": 34,
   "metadata": {
    "collapsed": false
   },
   "outputs": [
    {
     "data": {
      "text/plain": [
       "24.919871588754223"
      ]
     },
     "execution_count": 34,
     "metadata": {},
     "output_type": "execute_result"
    }
   ],
   "source": [
    "import pandas as pd\n",
    "from sklearn.feature_extraction.text import CountVectorizer\n",
    "from collections import Counter\n",
    "f = open('sample_patent.txt', 'r')\n",
    "g = open('sample_patent2.txt', 'r')\n",
    "# word_vectorizer = CountVectorizer(ngram_range = (1,2), analyzer = 'word')\n",
    "# sparse_matrix = word_vectorizer.fit_transform(f)\n",
    "\n",
    "# frequencies = sum(sparse_matrix).toarray()[0]\n",
    "# pd.DataFrame(frequencies, index=word_vectorizer.get_feature_names(), columns=['frequency'])\n",
    "\n",
    "def calc_distance(file1,file2):\n",
    "    f = open(file1, 'r')\n",
    "    g = open(file2, 'r')\n",
    "    input_string = f.read()\n",
    "    input_string2 = g.read()\n",
    "    word_freqs = Counter(input_string.split())\n",
    "    word_freqs2 = Counter(input_string2.split())\n",
    "    for key in set(word_freqs2):\n",
    "        if key not in word_freqs:\n",
    "            word_freqs[key] = 0\n",
    "        word_freqs[key] -= word_freqs2[key]\n",
    "    distance = 0\n",
    "    for val in word_freqs.values():\n",
    "        distance += val**2\n",
    "    distance = distance ** (.5)\n",
    "    return distance\n",
    "\n",
    "calc_distance('sample_patent.txt','sample_patent2.txt')\n",
    "\n",
    "\n",
    "\n",
    "\n"
   ]
  },
  {
   "cell_type": "code",
   "execution_count": null,
   "metadata": {
    "collapsed": true
   },
   "outputs": [],
   "source": []
  },
  {
   "cell_type": "code",
   "execution_count": null,
   "metadata": {
    "collapsed": true
   },
   "outputs": [],
   "source": []
  }
 ],
 "metadata": {
  "kernelspec": {
   "display_name": "Python 2",
   "language": "python",
   "name": "python2"
  },
  "language_info": {
   "codemirror_mode": {
    "name": "ipython",
    "version": 2
   },
   "file_extension": ".py",
   "mimetype": "text/x-python",
   "name": "python",
   "nbconvert_exporter": "python",
   "pygments_lexer": "ipython2",
   "version": "2.7.10"
  }
 },
 "nbformat": 4,
 "nbformat_minor": 1
}

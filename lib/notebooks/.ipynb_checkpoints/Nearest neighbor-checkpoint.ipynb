{
 "cells": [
  {
   "cell_type": "code",
   "execution_count": 15,
   "metadata": {
    "collapsed": false
   },
   "outputs": [],
   "source": [
    "import pandas as pd\n",
    "from sklearn.feature_extraction.text import CountVectorizer\n",
    "from collections import Counter\n",
    "from sklearn.feature_extraction.text import CountVectorizer\n",
    "from nltk.corpus import stopwords\n",
    "f = open('sample_patent.txt', 'r')\n",
    "g = open('sample_patent2.txt', 'r')\n",
    "# word_vectorizer = CountVectorizer(ngram_range = (1,2), analyzer = 'word')\n",
    "# sparse_matrix = word_vectorizer.fit_transform(f)\n",
    "\n",
    "# frequencies = sum(sparse_matrix).toarray()[0]\n",
    "# pd.DataFrame(frequencies, index=word_vectorizer.get_feature_names(), columns=['frequency'])\n",
    "\n",
    "def calc_distance(file1,file2):\n",
    "    f = open(file1, 'r')\n",
    "    g = open(file2, 'r')\n",
    "    input_string = f.read()\n",
    "    input_string2 = g.read()\n",
    "    word_freqs = Counter(input_string.split())\n",
    "    word_freqs2 = Counter(input_string2.split())\n",
    "    for key in set(word_freqs2):\n",
    "        if key not in word_freqs:\n",
    "            word_freqs[key] = 0\n",
    "        word_freqs[key] -= word_freqs2[key]\n",
    "    distance = 0\n",
    "    for val in word_freqs.values():\n",
    "        distance += val**2\n",
    "    distance = distance ** (.5)\n",
    "    return distance"
   ]
  },
  {
   "cell_type": "code",
   "execution_count": 28,
   "metadata": {
    "collapsed": true
   },
   "outputs": [],
   "source": [
    "import MySQLdb\n",
    "db = MySQLdb.connect(\"cal-patent-lab.chhaitskv8dz.us-west-2.rds.amazonaws.com\",\"***REMOVED***\",\"***REMOVED***\",\"***REMOVED***\" )\n",
    "cursor = db.cursor()\n",
    "cursor.execute(\"SELECT patent_id, invalidated from patents_decision\")\n",
    "data = cursor.fetchall()\n",
    "count = 0\n",
    "# contains invalidated/validated patent numbers\n",
    "invalidated_patents = []\n",
    "not_invalidated_patents = []\n",
    "# contains average distances of invalidated/validated patents\n",
    "invalidated_distances = []\n",
    "not_invalidated_distances = []\n",
    "invalidated_distances_k = []\n",
    "not_invalidated_distances_k = []\n",
    "\n",
    "for line in data:\n",
    "    if line[1] == 0:\n",
    "        not_invalidated_patents.append(line[0])\n",
    "    elif line[1] == 1:\n",
    "        invalidated_patents.append(line[0])\n",
    "        "
   ]
  },
  {
   "cell_type": "code",
   "execution_count": 9,
   "metadata": {
    "collapsed": false
   },
   "outputs": [
    {
     "name": "stdout",
     "output_type": "stream",
     "text": [
      "Getting all existing patent IDs in DB\n"
     ]
    },
    {
     "ename": "OperationalError",
     "evalue": "(1054, \"Unknown column 'date' in 'order clause'\")",
     "output_type": "error",
     "traceback": [
      "\u001b[0;31m---------------------------------------------------------------------------\u001b[0m",
      "\u001b[0;31mOperationalError\u001b[0m                          Traceback (most recent call last)",
      "\u001b[0;32m<ipython-input-9-48d88518e662>\u001b[0m in \u001b[0;36m<module>\u001b[0;34m()\u001b[0m\n\u001b[1;32m     12\u001b[0m \u001b[0;31m# Get list of all patent IDs in DB\u001b[0m\u001b[0;34m\u001b[0m\u001b[0;34m\u001b[0m\u001b[0m\n\u001b[1;32m     13\u001b[0m \u001b[0;32mprint\u001b[0m\u001b[0;34m(\u001b[0m\u001b[0;34m\"Getting all existing patent IDs in DB\"\u001b[0m\u001b[0;34m)\u001b[0m\u001b[0;34m\u001b[0m\u001b[0m\n\u001b[0;32m---> 14\u001b[0;31m \u001b[0mcursor\u001b[0m\u001b[0;34m.\u001b[0m\u001b[0mexecute\u001b[0m\u001b[0;34m(\u001b[0m\u001b[0;34m\"select claims_text from patents_decision ORDER BY date desc LIMIT 100000\"\u001b[0m\u001b[0;34m)\u001b[0m\u001b[0;34m\u001b[0m\u001b[0m\n\u001b[0m\u001b[1;32m     15\u001b[0m \u001b[0mabstracts\u001b[0m \u001b[0;34m=\u001b[0m \u001b[0mcursor\u001b[0m\u001b[0;34m.\u001b[0m\u001b[0mfetchall\u001b[0m\u001b[0;34m(\u001b[0m\u001b[0;34m)\u001b[0m\u001b[0;34m\u001b[0m\u001b[0m\n\u001b[1;32m     16\u001b[0m \u001b[0;32mprint\u001b[0m\u001b[0;34m(\u001b[0m\u001b[0mabstracts\u001b[0m\u001b[0;34m[\u001b[0m\u001b[0;36m0\u001b[0m\u001b[0;34m]\u001b[0m\u001b[0;34m)\u001b[0m\u001b[0;34m\u001b[0m\u001b[0m\n",
      "\u001b[0;32m/usr/local/lib/python2.7/site-packages/MySQLdb/cursors.pyc\u001b[0m in \u001b[0;36mexecute\u001b[0;34m(self, query, args)\u001b[0m\n\u001b[1;32m    203\u001b[0m             \u001b[0;32mdel\u001b[0m \u001b[0mtb\u001b[0m\u001b[0;34m\u001b[0m\u001b[0m\n\u001b[1;32m    204\u001b[0m             \u001b[0mself\u001b[0m\u001b[0;34m.\u001b[0m\u001b[0mmessages\u001b[0m\u001b[0;34m.\u001b[0m\u001b[0mappend\u001b[0m\u001b[0;34m(\u001b[0m\u001b[0;34m(\u001b[0m\u001b[0mexc\u001b[0m\u001b[0;34m,\u001b[0m \u001b[0mvalue\u001b[0m\u001b[0;34m)\u001b[0m\u001b[0;34m)\u001b[0m\u001b[0;34m\u001b[0m\u001b[0m\n\u001b[0;32m--> 205\u001b[0;31m             \u001b[0mself\u001b[0m\u001b[0;34m.\u001b[0m\u001b[0merrorhandler\u001b[0m\u001b[0;34m(\u001b[0m\u001b[0mself\u001b[0m\u001b[0;34m,\u001b[0m \u001b[0mexc\u001b[0m\u001b[0;34m,\u001b[0m \u001b[0mvalue\u001b[0m\u001b[0;34m)\u001b[0m\u001b[0;34m\u001b[0m\u001b[0m\n\u001b[0m\u001b[1;32m    206\u001b[0m         \u001b[0mself\u001b[0m\u001b[0;34m.\u001b[0m\u001b[0m_executed\u001b[0m \u001b[0;34m=\u001b[0m \u001b[0mquery\u001b[0m\u001b[0;34m\u001b[0m\u001b[0m\n\u001b[1;32m    207\u001b[0m         \u001b[0;32mif\u001b[0m \u001b[0;32mnot\u001b[0m \u001b[0mself\u001b[0m\u001b[0;34m.\u001b[0m\u001b[0m_defer_warnings\u001b[0m\u001b[0;34m:\u001b[0m \u001b[0mself\u001b[0m\u001b[0;34m.\u001b[0m\u001b[0m_warning_check\u001b[0m\u001b[0;34m(\u001b[0m\u001b[0;34m)\u001b[0m\u001b[0;34m\u001b[0m\u001b[0m\n",
      "\u001b[0;32m/usr/local/lib/python2.7/site-packages/MySQLdb/connections.pyc\u001b[0m in \u001b[0;36mdefaulterrorhandler\u001b[0;34m(***failed resolving arguments***)\u001b[0m\n\u001b[1;32m     34\u001b[0m     \u001b[0;32mdel\u001b[0m \u001b[0mcursor\u001b[0m\u001b[0;34m\u001b[0m\u001b[0m\n\u001b[1;32m     35\u001b[0m     \u001b[0;32mdel\u001b[0m \u001b[0mconnection\u001b[0m\u001b[0;34m\u001b[0m\u001b[0m\n\u001b[0;32m---> 36\u001b[0;31m     \u001b[0;32mraise\u001b[0m \u001b[0merrorclass\u001b[0m\u001b[0;34m,\u001b[0m \u001b[0merrorvalue\u001b[0m\u001b[0;34m\u001b[0m\u001b[0m\n\u001b[0m\u001b[1;32m     37\u001b[0m \u001b[0;34m\u001b[0m\u001b[0m\n\u001b[1;32m     38\u001b[0m \u001b[0mre_numeric_part\u001b[0m \u001b[0;34m=\u001b[0m \u001b[0mre\u001b[0m\u001b[0;34m.\u001b[0m\u001b[0mcompile\u001b[0m\u001b[0;34m(\u001b[0m\u001b[0;34mr\"^(\\d+)\"\u001b[0m\u001b[0;34m)\u001b[0m\u001b[0;34m\u001b[0m\u001b[0m\n",
      "\u001b[0;31mOperationalError\u001b[0m: (1054, \"Unknown column 'date' in 'order clause'\")"
     ]
    }
   ],
   "source": [
    "DB_HOST = \"patentnetwork.berkeley.edu\"\n",
    "DB_USER = \"***REMOVED***\"\n",
    "DB_PASSWORD = \"***REMOVED***\"  # Get this field from the user\n",
    "DB_TABLE = \"patents_decision\"\n",
    "DB_NAME = \"***REMOVED***\"\n",
    "def db(host, username, psswd, database_name):\n",
    "    return MySQLdb.connect(host, username, psswd, database_name)\n",
    "\n",
    "patent_db = db(DB_HOST, DB_USER, DB_PASSWORD, DB_NAME)\n",
    "cursor = patent_db.cursor()\n",
    "\n",
    "# Get list of all patent IDs in DB\n",
    "print(\"Getting all existing patent IDs in DB\")\n",
    "cursor.execute(\"select claims_text from patents_decision LIMIT 100000\")\n",
    "abstracts = cursor.fetchall()\n",
    "print(abstracts[0])\n",
    "\n"
   ]
  },
  {
   "cell_type": "code",
   "execution_count": 5,
   "metadata": {
    "collapsed": false
   },
   "outputs": [
    {
     "name": "stdout",
     "output_type": "stream",
     "text": [
      "('I claim: 1. 1. In combination with a height adjustable crib or the like of the type having a corner post and an extensible leg slidably connected to the corner post and having a series of holes along its length, a lock comprising PA1 A. a rigid bracket extending around the extensible leg and having sides lying flush against opposite sides of the corner post; PA1 B. means for pivotally connecting the bracket sides to the corner post so that the bracket can be swung toward and away from the leg; PA1 C. a rigid nose projecting from the bracket and extending toward the leg, said nose being arranged to engage in one of the leg holes when the bracket is swung against the leg so as to lock the leg at a selected position of lengthwise adjustment relative to the corner post, and PA1 D. means mounted on the corner post and cooperating with the bracket for removably retaining the bracket with its nose in said hole said retaining means comprising 1. a latch pivotally connected to the corner post adjacent to the bracket, and a slot formed in a side of the bracket, the sides of the slot being engaged by the latch when the bracket is positioned with its nose in said hole. 2. 2. The lock defined in claim 1 wherein the bracket comprises a single rigid metal stamping. 3. 3. The lock defined in claim 1 wherein the pivotal connection of the latch to the corner post is off center so that the force of gravity tends to maintain the latch in the slot when the bracket is positioned with its nose in said hole.\\n',)\n"
     ]
    }
   ],
   "source": []
  },
  {
   "cell_type": "code",
   "execution_count": 16,
   "metadata": {
    "collapsed": false
   },
   "outputs": [],
   "source": [
    "\n",
    "stopWords = stopwords.words('english')\n",
    "\n",
    "# count_vect = CountVectorizer(stop_words  = stopWords)\n",
    "# content = [\"How to format my hard disk hello\", \" Hard disk format problems \"]\n",
    "# X = count_vect.fit_transform(content)\n",
    "# print count_vect.get_feature_names()\n",
    "# print count_vect.fit_transform(content).toarray()\n",
    "# print count_vect.vocabulary\n"
   ]
  },
  {
   "cell_type": "code",
   "execution_count": 18,
   "metadata": {
    "collapsed": false
   },
   "outputs": [],
   "source": [
    "from os import listdir\n",
    "from os.path import isfile, join\n",
    "files = [f for f in listdir(\"patents\") if isfile(join(\"patents\", f))]\n",
    "patent_numbers = [name[:len(name)-4] for name in files]\n",
    "#patent_numbers\n",
    "\n"
   ]
  },
  {
   "cell_type": "code",
   "execution_count": 19,
   "metadata": {
    "collapsed": false
   },
   "outputs": [],
   "source": [
    "test_files = files[1:]\n",
    "\n",
    "input_file = \"patents/\"+files[0]\n",
    "abs_list = []\n",
    "for name in test_files:\n",
    "    f = open(\"patents/\" + name, 'r')\n",
    "    abs_list.append(f.read())"
   ]
  },
  {
   "cell_type": "code",
   "execution_count": 20,
   "metadata": {
    "collapsed": false
   },
   "outputs": [
    {
     "name": "stdout",
     "output_type": "stream",
     "text": [
      "5899\n",
      "5899\n"
     ]
    }
   ],
   "source": [
    "print len(abs_list)\n",
    "print len(test_files)"
   ]
  },
  {
   "cell_type": "code",
   "execution_count": 29,
   "metadata": {
    "collapsed": false
   },
   "outputs": [
    {
     "name": "stdout",
     "output_type": "stream",
     "text": [
      "(6654, 26708)\n"
     ]
    }
   ],
   "source": [
    "count_vect = CountVectorizer(stop_words  = stopWords)\n",
    "abs_lst = [i[0] for i in abstracts ][:5000]\n",
    "abs_lst.extend(invalidated_patents)\n",
    "abs_lst.extend(not_invalidated_patents)\n",
    "X = count_vect.fit_transform(abs_lst)\n",
    "print count_vect.fit_transform(abs_lst).toarray().shape\n"
   ]
  },
  {
   "cell_type": "code",
   "execution_count": null,
   "metadata": {
    "collapsed": false
   },
   "outputs": [],
   "source": [
    "import numpy as np\n",
    "invalidated_distances_k = []\n",
    "not_invalidated_distances_k = []\n",
    "inval_num = len(invalidated_patents)\n",
    "not_inval_num = len(not_invalidated_patents)\n",
    "for i in range(inval_num):\n",
    "    dist = (X.toarray()[:] - X[5000+i])\n",
    "    dist = np.square(dist)\n",
    "    dist = np.sum(dist, axis = 1)\n",
    "    dist = np.sqrt(dist)\n",
    "#     dist.remove(min(dist))\n",
    "    dist = np.average(dist)\n",
    "    invalidated_distances_k.append(dist)\n",
    "for i in range(not_inval_num):\n",
    "    dist = (X.toarray()[:] - X[5000+inval_num + i])\n",
    "    dist = np.square(dist)\n",
    "    dist = np.sum(dist, axis = 1)\n",
    "    dist = np.sqrt(dist)\n",
    "#     dist.remove(min(dist))\n",
    "    dist = np.average(dist)\n",
    "    not_invalidated_distances_k.append(dist)\n",
    "# single = X.toarray()[0]\n",
    "# dist = (X.toarray()[1:]-single) **2\n",
    "# dist = np.sum(dist, axis = 1)\n",
    "# dist = np.sqrt(dist)"
   ]
  },
  {
   "cell_type": "code",
   "execution_count": 55,
   "metadata": {
    "collapsed": false
   },
   "outputs": [
    {
     "name": "stdout",
     "output_type": "stream",
     "text": [
      "(16, 18)\n",
      "(16, 18)\n",
      "22.4712228211\n",
      "23.2831912955\n",
      "15.281794673\n",
      "16.0324290254\n"
     ]
    }
   ],
   "source": [
    "print(len(invalidated_distances), len(not_invalidated_distances))\n",
    "print(len(invalidated_distances_k), len(not_invalidated_distances_k))\n",
    "print(sum(invalidated_distances)/float(len(invalidated_distances)))\n",
    "print(sum(not_invalidated_distances)/float(len(not_invalidated_distances)))\n",
    "print(sum(invalidated_distances_k)/float(len(invalidated_distances_k)))\n",
    "print(sum(not_invalidated_distances_k)/float(len(not_invalidated_distances_k)))\n"
   ]
  },
  {
   "cell_type": "code",
   "execution_count": 20,
   "metadata": {
    "collapsed": false
   },
   "outputs": [],
   "source": [
    "import matplotlib.pyplot as plt\n",
    "import numpy as np\n",
    "\n",
    "# import plotly.plotly as py\n",
    "# Learn about API authentication here: https://plot.ly/python/getting-started\n",
    "# Find your api_key here: https://plot.ly/settings/api\n",
    "\n",
    "plt.hist(invalidated_distances, bins=range(int(min(invalidated_distances)),1))\n",
    "plt.title(\"'Invalidated'Distance Histogram. Average: 22.4\")\n",
    "plt.xlabel(\"Distance\")\n",
    "plt.ylabel(\"Frequency\")\n",
    "\n",
    "fig = plt.gcf()\n",
    "axes = plt.gca()\n",
    "axes.set_ylim([0,8])\n",
    "\n",
    "plt.figure()\n",
    "plt.hist(not_invalidated_distances, bins=range(int(min(not_invalidated_distances)) 1))\n",
    "plt.title(\"'Not Invalidated' Distance Histogram. Average: 23.2\")\n",
    "plt.xlabel(\"Distance\")\n",
    "plt.ylabel(\"Frequency\")\n",
    "\n",
    "axes = plt.gca()\n",
    "axes.set_ylim([0,8])\n",
    "plt.show()\n",
    "# plot_url = py.plot_mpl(fig, filename='mpl-basic-histogram')\n"
   ]
  },
  {
   "cell_type": "code",
   "execution_count": 13,
   "metadata": {
    "collapsed": false
   },
   "outputs": [],
   "source": [
    "import pickle\n",
    "with open('distances.pickle', 'w') as f:  # Python 3: open(..., 'wb')\n",
    "    pickle.dump([distances,not_invalidated_distances,invalidated_distances,not_invalidated_distances_k,invalidated_distances_k], f)"
   ]
  },
  {
   "cell_type": "code",
   "execution_count": 10,
   "metadata": {
    "collapsed": false
   },
   "outputs": [
    {
     "data": {
      "text/plain": [
       "777"
      ]
     },
     "execution_count": 10,
     "metadata": {},
     "output_type": "execute_result"
    }
   ],
   "source": [
    "len(invalidated)\n",
    "# len(not_invalidated)"
   ]
  },
  {
   "cell_type": "code",
   "execution_count": null,
   "metadata": {
    "collapsed": true
   },
   "outputs": [],
   "source": []
  },
  {
   "cell_type": "code",
   "execution_count": 10,
   "metadata": {
    "collapsed": false
   },
   "outputs": [
    {
     "data": {
      "text/plain": [
       "77831"
      ]
     },
     "execution_count": 10,
     "metadata": {},
     "output_type": "execute_result"
    }
   ],
   "source": [
    "\n",
    "len(test_files)"
   ]
  },
  {
   "cell_type": "code",
   "execution_count": 14,
   "metadata": {
    "collapsed": false
   },
   "outputs": [],
   "source": [
    "import pickle\n",
    "with open('distances.pickle', 'r') as f:  # Python 3: open(..., 'wb')\n",
    "    [distances,not_invalidated_distances,invalidated_distances,not_invalidated_distances_k,invalidated_distances_k] = pickle.load(f)"
   ]
  },
  {
   "cell_type": "code",
   "execution_count": 18,
   "metadata": {
    "collapsed": false
   },
   "outputs": [
    {
     "ename": "ValueError",
     "evalue": "all the input array dimensions except for the concatenation axis must match exactly",
     "output_type": "error",
     "traceback": [
      "\u001b[0;31m---------------------------------------------------------------------------\u001b[0m",
      "\u001b[0;31mValueError\u001b[0m                                Traceback (most recent call last)",
      "\u001b[0;32m<ipython-input-18-0feaf068b4ac>\u001b[0m in \u001b[0;36m<module>\u001b[0;34m()\u001b[0m\n\u001b[1;32m      1\u001b[0m \u001b[0;32mimport\u001b[0m \u001b[0mmatplotlib\u001b[0m\u001b[0;34m.\u001b[0m\u001b[0mpyplot\u001b[0m \u001b[0;32mas\u001b[0m \u001b[0mplt\u001b[0m\u001b[0;34m\u001b[0m\u001b[0m\n\u001b[1;32m      2\u001b[0m \u001b[0;32mimport\u001b[0m \u001b[0mnumpy\u001b[0m \u001b[0;32mas\u001b[0m \u001b[0mnp\u001b[0m\u001b[0;34m\u001b[0m\u001b[0m\n\u001b[0;32m----> 3\u001b[0;31m \u001b[0mdata\u001b[0m \u001b[0;34m=\u001b[0m \u001b[0mnp\u001b[0m\u001b[0;34m.\u001b[0m\u001b[0mvstack\u001b[0m\u001b[0;34m(\u001b[0m\u001b[0;34m[\u001b[0m\u001b[0minvalidated_distances\u001b[0m\u001b[0;34m,\u001b[0m \u001b[0mnot_invalidated_distances\u001b[0m\u001b[0;34m]\u001b[0m\u001b[0;34m)\u001b[0m\u001b[0;34m.\u001b[0m\u001b[0mT\u001b[0m\u001b[0;34m\u001b[0m\u001b[0m\n\u001b[0m\u001b[1;32m      4\u001b[0m \u001b[0mplt\u001b[0m\u001b[0;34m.\u001b[0m\u001b[0mhist\u001b[0m\u001b[0;34m(\u001b[0m\u001b[0;34m(\u001b[0m\u001b[0minvalidated_distances\u001b[0m\u001b[0;34m,\u001b[0m \u001b[0mnot_invalidated_distances\u001b[0m\u001b[0;34m)\u001b[0m\u001b[0;34m,\u001b[0m \u001b[0mbins\u001b[0m\u001b[0;34m=\u001b[0m\u001b[0mrange\u001b[0m\u001b[0;34m(\u001b[0m\u001b[0mint\u001b[0m\u001b[0;34m(\u001b[0m\u001b[0mmin\u001b[0m\u001b[0;34m(\u001b[0m\u001b[0minvalidated_distances\u001b[0m\u001b[0;34m)\u001b[0m\u001b[0;34m)\u001b[0m\u001b[0;34m,\u001b[0m\u001b[0;36m30\u001b[0m\u001b[0;34m,\u001b[0m \u001b[0;36m1\u001b[0m\u001b[0;34m)\u001b[0m\u001b[0;34m)\u001b[0m\u001b[0;34m\u001b[0m\u001b[0m\n\u001b[1;32m      5\u001b[0m \u001b[0mplt\u001b[0m\u001b[0;34m.\u001b[0m\u001b[0mtitle\u001b[0m\u001b[0;34m(\u001b[0m\u001b[0;34m\"'Invalidated'Distance Histogram. Average: 22.4\"\u001b[0m\u001b[0;34m)\u001b[0m\u001b[0;34m\u001b[0m\u001b[0m\n",
      "\u001b[0;32m/usr/local/lib/python2.7/site-packages/numpy/core/shape_base.pyc\u001b[0m in \u001b[0;36mvstack\u001b[0;34m(tup)\u001b[0m\n\u001b[1;32m    226\u001b[0m \u001b[0;34m\u001b[0m\u001b[0m\n\u001b[1;32m    227\u001b[0m     \"\"\"\n\u001b[0;32m--> 228\u001b[0;31m     \u001b[0;32mreturn\u001b[0m \u001b[0m_nx\u001b[0m\u001b[0;34m.\u001b[0m\u001b[0mconcatenate\u001b[0m\u001b[0;34m(\u001b[0m\u001b[0;34m[\u001b[0m\u001b[0matleast_2d\u001b[0m\u001b[0;34m(\u001b[0m\u001b[0m_m\u001b[0m\u001b[0;34m)\u001b[0m \u001b[0;32mfor\u001b[0m \u001b[0m_m\u001b[0m \u001b[0;32min\u001b[0m \u001b[0mtup\u001b[0m\u001b[0;34m]\u001b[0m\u001b[0;34m,\u001b[0m \u001b[0;36m0\u001b[0m\u001b[0;34m)\u001b[0m\u001b[0;34m\u001b[0m\u001b[0m\n\u001b[0m\u001b[1;32m    229\u001b[0m \u001b[0;34m\u001b[0m\u001b[0m\n\u001b[1;32m    230\u001b[0m \u001b[0;32mdef\u001b[0m \u001b[0mhstack\u001b[0m\u001b[0;34m(\u001b[0m\u001b[0mtup\u001b[0m\u001b[0;34m)\u001b[0m\u001b[0;34m:\u001b[0m\u001b[0;34m\u001b[0m\u001b[0m\n",
      "\u001b[0;31mValueError\u001b[0m: all the input array dimensions except for the concatenation axis must match exactly"
     ]
    }
   ],
   "source": [
    "import matplotlib.pyplot as plt\n",
    "import numpy as np\n",
    "data = np.vstack([invalidated_distances, not_invalidated_distances]).T\n",
    "plt.hist((invalidated_distances, not_invalidated_distances), bins=range(int(min(invalidated_distances)),30, 1))\n",
    "plt.title(\"'Invalidated'Distance Histogram. Average: 22.4\")\n",
    "plt.xlabel(\"Distance\")\n",
    "plt.ylabel(\"Frequency\")\n",
    "plt.show()"
   ]
  },
  {
   "cell_type": "code",
   "execution_count": null,
   "metadata": {
    "collapsed": true
   },
   "outputs": [],
   "source": []
  }
 ],
 "metadata": {
  "anaconda-cloud": {},
  "kernelspec": {
   "display_name": "Python 2",
   "language": "python",
   "name": "python2"
  },
  "language_info": {
   "codemirror_mode": {
    "name": "ipython",
    "version": 2
   },
   "file_extension": ".py",
   "mimetype": "text/x-python",
   "name": "python",
   "nbconvert_exporter": "python",
   "pygments_lexer": "ipython2",
   "version": "2.7.10"
  }
 },
 "nbformat": 4,
 "nbformat_minor": 1
}

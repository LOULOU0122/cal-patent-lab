{
 "cells": [
  {
   "cell_type": "code",
   "execution_count": 14,
   "metadata": {
    "collapsed": false
   },
   "outputs": [
    {
     "name": "stdout",
     "output_type": "stream",
     "text": [
      "PP15467\n",
      "PP15468\n",
      "RE38680\n",
      "RE38681\n",
      "RE38682\n",
      "RE38683\n",
      "RE38684\n",
      "6836899\n",
      "6836900\n",
      "6836901\n",
      "6836902\n",
      " A uniquely woven braid is fashioned on the outer surfaces of various garments, such as shirts, jeans, skirts or dresses. The braided surfaces provide a function, since they allow the garment to be form fitting and stretchably conform to the size and shape of the wearer. The braid also results in an attractive and decorative clothing design. The braid is accomplished easily and simply by cutting a plurality of slits in the outer surfaces of the garment and threading the adjacent resulting loop segments which ultimately form the braid.  \n",
      "542\n",
      "6836903\n"
     ]
    }
   ],
   "source": [
    "import re\n",
    "from HTMLParser import HTMLParser\n",
    "parser = HTMLParser()\n",
    "with open(\"patent_title_abstract_claims.tsv.00\") as fp:\n",
    "    for i, line in enumerate(fp):\n",
    "        if i > 10000:\n",
    "            break\n",
    "        temp = line.split('\\t',1)\n",
    "        matcher = re.compile('(?<=ABSTRACT.)(.*)(?=CLAIMS.)')\n",
    "        patent_number = str(temp[0])\n",
    "        #abstract = temp[1]\n",
    "        #print temp[1]\n",
    "        abstract = matcher.findall(temp[1])[0]\n",
    "\n",
    "        if len(abstract) > 4:\n",
    "            f = open(\"patents/\" + patent_number + \".txt\", 'w')\n",
    "            if \";\" not in abstract:\n",
    "                f.write(abstract)\n",
    "            else:\n",
    "                f.write(parser.unescape(abstract).encode('utf-8'))\n",
    "            f.close()\n",
    "\n",
    "            "
   ]
  },
  {
   "cell_type": "code",
   "execution_count": null,
   "metadata": {
    "collapsed": true
   },
   "outputs": [],
   "source": []
  },
  {
   "cell_type": "code",
   "execution_count": null,
   "metadata": {
    "collapsed": true
   },
   "outputs": [],
   "source": []
  }
 ],
 "metadata": {
  "anaconda-cloud": {},
  "kernelspec": {
   "display_name": "Python 2",
   "language": "python",
   "name": "python2"
  },
  "language_info": {
   "codemirror_mode": {
    "name": "ipython",
    "version": 2
   },
   "file_extension": ".py",
   "mimetype": "text/x-python",
   "name": "python",
   "nbconvert_exporter": "python",
   "pygments_lexer": "ipython2",
   "version": "2.7.10"
  }
 },
 "nbformat": 4,
 "nbformat_minor": 1
}

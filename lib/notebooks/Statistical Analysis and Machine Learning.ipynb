{
 "cells": [
  {
   "cell_type": "code",
   "execution_count": 192,
   "metadata": {
    "collapsed": true
   },
   "outputs": [],
   "source": [
    "import numpy as np\n",
    "import pandas as pd\n",
    "import re\n",
    "from pandas import DataFrame\n",
    "from sqlalchemy import create_engine\n",
    "from matplotlib import pyplot as plt\n",
    "\n",
    "from sklearn.feature_extraction.text import TfidfVectorizer, CountVectorizer, TfidfTransformer\n",
    "from sklearn.svm import LinearSVC\n",
    "from sklearn import cross_validation\n",
    "from sqlalchemy import create_engine\n",
    "%matplotlib inline"
   ]
  },
  {
   "cell_type": "code",
   "execution_count": 23,
   "metadata": {
    "collapsed": false
   },
   "outputs": [],
   "source": [
    "# Connecting to the db\n",
    "host_db = \"cal-patent-lab.chhaitskv8dz.us-west-2.rds.amazonaws.com\"\n",
    "username = \"***REMOVED***\"\n",
    "password = \"***REMOVED***\"\n",
    "db = \"***REMOVED***\"\n",
    "\n",
    "engine = create_engine(\"mysql://{}:{}@{}/{}\".format(\n",
    "    username, password, host_db, db))\n",
    "connection = engine.connect()\n",
    "patents_decision = pd.read_sql(\"SELECT patent_id, invalidated, CAST( claims_text AS CHAR ) FROM patents_decision\", engine)\n",
    "connection.close()"
   ]
  },
  {
   "cell_type": "code",
   "execution_count": 24,
   "metadata": {
    "collapsed": false,
    "scrolled": true
   },
   "outputs": [],
   "source": [
    "patents_data = patents_decision[patents_decision[\"invalidated\"].isin([0, 1])]\n",
    "patents_id = list(patents_data.patent_id)"
   ]
  },
  {
   "cell_type": "code",
   "execution_count": 25,
   "metadata": {
    "collapsed": false
   },
   "outputs": [],
   "source": [
    "with open(\"mysql.txt\") as f:\n",
    "    for line in f:\n",
    "        connector = line"
   ]
  },
  {
   "cell_type": "code",
   "execution_count": 26,
   "metadata": {
    "collapsed": false
   },
   "outputs": [],
   "source": [
    "def get_information(query):\n",
    "    # Connecting to the fung db\n",
    "    engine_fung = create_engine(connector)\n",
    "    connection_fung = engine_fung.connect()\n",
    "    patent_info = pd.read_sql(\n",
    "        query, engine_fung)\n",
    "    # s =str(\"SELECT * FROM patent WHERE id IN {}\".format)\n",
    "    # rs = connection_fung.execute(s, patents_id=tuple(patents_id,)).fetchall()\n",
    "    connection.close()\n",
    "    return patent_info"
   ]
  },
  {
   "cell_type": "code",
   "execution_count": 151,
   "metadata": {
    "collapsed": false
   },
   "outputs": [],
   "source": [
    "query =str(\"SELECT * FROM patent WHERE id IN {}\".format(tuple(patents_id)))\n",
    "inventor_query = \"SELECT * FROM patent JOIN patent_inventor \\\n",
    "ON patent.id = patent_inventor.patent_id JOIN inventor on patent_inventor.inventor_id=inventor.id \\\n",
    "WHERE patent.id IN {};\".format(\n",
    "tuple(patents_id))\n",
    "lawyer_query = \"SELECT patent.id AS patent_id, lawyer.organization FROM patent JOIN patent_lawyer ON patent.id = \\\n",
    "patent_lawyer.patent_id JOIN lawyer on patent_lawyer.lawyer_id=lawyer.id WHERE patent.id IN {};\".format(\n",
    "tuple(patents_id))\n",
    "assignee_query =\"SELECT patent.id AS patent_id, assignee.organization FROM patent JOIN patent_assignee ON patent.id = \\\n",
    "patent_assignee.patent_id JOIN assignee on patent_assignee.assignee_id=assignee.id WHERE patent.id IN {};\".format(\n",
    "tuple(patents_id))\n",
    "\n",
    "inventor_info = get_information(inventor_query)\n",
    "lawyer_info = get_information(lawyer_query)\n",
    "lawyer_info = lawyer_info.rename(columns={\"organization\": \"lawyer_organization\"})\n",
    "assignee_info = get_information(assignee_query)\n",
    "assignee_info = assignee_info.rename(columns={\"organization\": \"assignee_organization\"})\n",
    "inventor_info = inventor_info.drop(['number', 'id', 'inventor_id', 'nationality'], axis=1)\n",
    "inventor_info = inventor_info.rename(columns={'name_first': 'inventor_name_first',\n",
    "                              'name_last': 'inventor_name_last'})"
   ]
  },
  {
   "cell_type": "code",
   "execution_count": 152,
   "metadata": {
    "collapsed": false
   },
   "outputs": [],
   "source": [
    "# Merging all information in just one dataframe\n",
    "temp_info = pd.merge(lawyer_info, assignee_info, how=\"outer\", on=\"patent_id\")\n",
    "patent_info = pd.merge(inventor_info, temp_info, how=\"outer\", on=\"patent_id\")\n",
    "\n",
    "# Getting the list of patents with a decision\n",
    "patents_data = patents_decision[patents_decision[\"invalidated\"].isin([0, 1])]\n",
    "\n",
    "# full dataframe with information on the inventor, assignee and lawyer for each patent with a decision\n",
    "patent_info_with_decision = pd.merge(patents_data, patent_info, how=\"inner\", on=\"patent_id\")\n",
    "patent_info_with_decision = patent_info_with_decision.drop(['inventor_name_first', 'inventor_name_last'], axis=1)\n",
    "patent_data_decision = patent_info_with_decision.drop_duplicates()"
   ]
  },
  {
   "cell_type": "code",
   "execution_count": 153,
   "metadata": {
    "collapsed": false
   },
   "outputs": [
    {
     "data": {
      "text/plain": [
       "1910"
      ]
     },
     "execution_count": 153,
     "metadata": {},
     "output_type": "execute_result"
    }
   ],
   "source": [
    "len(patent_data_decision)"
   ]
  },
  {
   "cell_type": "code",
   "execution_count": 154,
   "metadata": {
    "collapsed": false
   },
   "outputs": [
    {
     "data": {
      "text/plain": [
       "patent_id                                                                5004643\n",
       "invalidated                                                                    0\n",
       "CAST( claims_text AS CHAR )    What is claimed is: 1. 1. A flexible porous we...\n",
       "type                                                                            \n",
       "country                                                                         \n",
       "date                                                                  1991-04-02\n",
       "abstract                       An improved process is provided for treating a...\n",
       "title                                    Silicone polymer-internally coated webs\n",
       "kind                                                                            \n",
       "num_claims                                                                    27\n",
       "lawyer_organization                                                          NaN\n",
       "assignee_organization                                             SILI-TEX, INC.\n",
       "Name: 0, dtype: object"
      ]
     },
     "execution_count": 154,
     "metadata": {},
     "output_type": "execute_result"
    }
   ],
   "source": [
    "patent_data_decision.loc[0]"
   ]
  },
  {
   "cell_type": "code",
   "execution_count": 156,
   "metadata": {
    "collapsed": false
   },
   "outputs": [],
   "source": [
    "patent_data_decision = patent_data_decision.drop([\"country\", \"type\", \"date\", \"title\", \"abstract\", \"kind\"], axis=1)"
   ]
  },
  {
   "cell_type": "code",
   "execution_count": 185,
   "metadata": {
    "collapsed": false
   },
   "outputs": [],
   "source": [
    "patent_data_decision = patent_data_decision[patent_data_decision.lawyer_organization.notnull() & patent_data_decision.assignee_organization.notnull()\n",
    "                    & ~patent_data_decision.lawyer_organization.isin([\"\", \" \"])]"
   ]
  },
  {
   "cell_type": "code",
   "execution_count": 204,
   "metadata": {
    "collapsed": true
   },
   "outputs": [],
   "source": [
    "X = patent_data_decision['CAST( claims_text AS CHAR )'].as_matrix()\n",
    "y = patent_data_decision['invalidated'].as_matrix()\n",
    "\n",
    "X_train, X_test, y_train, y_test = cross_validation.train_test_split(\n",
    "    X, y, test_size=0.2, random_state=20)"
   ]
  },
  {
   "cell_type": "code",
   "execution_count": 208,
   "metadata": {
    "collapsed": false
   },
   "outputs": [
    {
     "name": "stdout",
     "output_type": "stream",
     "text": [
      "[]\n"
     ]
    }
   ],
   "source": [
    "# this normalizes word frequency based on use in each patent vs. all patents\n",
    "\n",
    "# Removing element with no text\n",
    "index_to_remove= []\n",
    "for i in range(len(X)):\n",
    "    if X[i] == None:\n",
    "        index_to_remove.append(i)\n",
    "        \n",
    "print(index_to_remove)\n",
    "        \n",
    "X = np.delete(X, index_to_remove)\n",
    "y = np.delete(y, index_to_remove)\n",
    "\n",
    "tfidf = TfidfVectorizer()\n",
    "tfidf.fit(X[:])\n",
    "X_train = tfidf.transform(X_train)\n",
    "X_test = tfidf.transform(X_test)"
   ]
  },
  {
   "cell_type": "code",
   "execution_count": 210,
   "metadata": {
    "collapsed": false
   },
   "outputs": [
    {
     "data": {
      "text/plain": [
       "<847x12847 sparse matrix of type '<type 'numpy.float64'>'\n",
       "\twith 131869 stored elements in Compressed Sparse Row format>"
      ]
     },
     "execution_count": 210,
     "metadata": {},
     "output_type": "execute_result"
    }
   ],
   "source": [
    "X_train"
   ]
  },
  {
   "cell_type": "code",
   "execution_count": 197,
   "metadata": {
    "collapsed": false
   },
   "outputs": [
    {
     "data": {
      "text/plain": [
       "1059"
      ]
     },
     "execution_count": 197,
     "metadata": {},
     "output_type": "execute_result"
    }
   ],
   "source": [
    "len(X)"
   ]
  },
  {
   "cell_type": "code",
   "execution_count": 199,
   "metadata": {
    "collapsed": false
   },
   "outputs": [
    {
     "data": {
      "text/plain": [
       "'What is claimed: 1. 1. A stent joining means for joining a first endoluminal stent to a second endoluminal stent to define a continuous lumen through the first and second endoluminal stents, said stent joining means comprising: PA1 a male engaging portion on said first endoluminal stent which has an outer surface and can be compressed radially inwardly; and PA1 a female portion on said second endoluminal stent cooperating with said male engaging portion, said female portion having an inner surface; PA1 wherein said first endoluminal stent and said second endoluminal stent consist of a shape memory alloy and the male engaging portion can be entered into the female portion in a radially compressed state and thereafter thermally induced to expand in the female portion and wherein a frictional inter-engagement between said outer surface of the male engaging portion and said inner surface of the female portion prevents longitudinal movement of the first endoluminal stent relative to the second endoluminal stent. 2. 2. A stent joining means as claimed in claim 1 wherein a proximal end of said second endoluminal stent is flared radially outwardly towards a proximal end extremity; said extremity thereby being adapted to engage an endoluminal surface of the blood vessel thereby to resist longitudinal movement of the second endoluminal stent. 3. 3. A stent joining means as claimed in claim 1 wherein each of said first and second endoluminal stents comprises a sinuous wire formed into a tubular configuration. 4. 4. A stent joining means as claimed in claim 1 wherein each of said first and second endoluminal stents is formed from a shape memory nitinol wire. 5. 5. A stent joining means as claimed in claim 1 wherein said second endoluminal stent is adapted to extend across a bifurcation in a blood vessel such that in use a proximal end of the second endoluminal stent is disposed proximally of the bifurcation, and a distal end of the second endoluminal stent is disposed in one of the branched blood vessels; said female portion is disposed intermediate said proximal and distal ends; and said first endoluminal stent is adapted to extend in the other branched blood vessel. 6. 6. A stent joining means as claimed in claim 1 wherein at least one of said first endoluminal stent and said second endoluminal stent includes a portion having a graft layer disposed internally and externally of said stent. 7. 7. A stent joining means as claimed in claim 1 wherein the male engaging portion is at a proximal end of said first stent. 8. 8. A stent joining means as claimed in claim 1 wherein the female portion is at a distal end of said second stent. 9. 9. A stent joining means as claimed in claim 1 wherein said male engaging portion is flared radially outwardly towards a proximal end. 10. 10. A stent joining means as claimed in claim 1 wherein the female portion is tapered radially inwardly towards a distal end. 11. 11. A stent joining means as claimed in claim 1 wherein the male engaging portion comprises a frustoconical wall flaring outwardly towards a longitudinal extremity. 12. 12. A stent joining means as claimed in claim 1 wherein the female portion comprises a frustoconical wall tapering radially inwardly towards a longitudinal extremity. 13. 13. A stent joining means as claimed in claim 1 wherein said male engaging portion and said female portion are substantially untapered. 14. 14. A stent joining means as claimed in claim 1 wherein said male engaging portion and said female portion are substantially cylindrical. 15. 15. A stent joining means as claimed in claim 1 wherein said male engaging portion is resiliently compressible in a radially inwards direction such that in a radially compressed state the male engaging portion is capable of self re-expansion to engage the female portion. 16. 16. A stent joining means as claimed in claim 1 wherein each of said first and second endoluminal stents is compressible and expandable. 17. 17. A stent joining means as claimed in claim 1 wherein said second endoluminal stent has two transversely spaced distal female portions. 18. 18. A stent joining means as claimed in claim 17 wherein one of said two transversely spaced distal female portions is adapted for connection to said male engaging portion of said first endoluminal stent and said one spaced distal female portion and said first and second endoluminal stents, in combination, extend across a bifurcation in a blood vessel into two respective branched blood vessels. 19. 19. A method of joining a first endoluminal stent having an outer surface with a second endoluminal stent having an inner surface within the vasculature of a body comprising the steps of inserting an end of said first endoluminal stent at least partially into an end of said second endoluminal stent, and allowing said end of said first endoluminal stent to expand by thermal transformation and contact said end of said second endoluminal stent such that said outer surface of said first endoluminal stent frictionally engages said inner surface of said second endoluminal stent to prevent relative longitudinal movement of said first and second endoluminal stents. 20. 20. A method of forming an endoluminal stent within the vasculature of a body comprising inserting an end of a first stent portion having an outer surface at least partially into an end of a second stent portion having an inner surface, and allowing said end of said first stent portion to expand by thermal transformation and contact said end of said second stent portion such that said outer surface of said first stent frictionally engages said inner surface of said second stent to prevent relative longitudinal movement of said first and second stents. 21. 21. A method as claimed in claim 20 wherein a tubular graft layer comprised of a bio-compatible fabric is disposed in juxtaposition with each of said first stent portion and said second stent portion. 22. 22. A stent joining means for joining a first endoluminal stent to a second endoluminal stent comprising: PA1 a male engaging portion on said first endoluminal stent, having a first graft layer disposed externally of said male engaging portion, wherein the male engaging portion can be compressed radially inwardly; and PA1 a female portion on said second endoluminal stent cooperating with said male engaging portion and having a second graft layer disposed internally of said female portion; PA1 wherein the male engaging portion can be entered into the female portion in a radially compressed state and thereafter caused or allowed to expand in the female portion and wherein a frictional inter-engagement of the first graft layer of the male engaging portion and the second graft layer of the female portion prevents relative movement of the first endoluminal stent and the second endoluminal stent. 23. 23. A stent joining means for joining a first endoluminal stent having a male portion end to a second endoluminal stent having a female portion end comprising: PA1 a male engaging portion on said male portion end of said first endoluminal stent, defining a first frustoconical wall which is flared radially outwardly towards said male portion end, and which can be compressed radially inwardly; and PA1 a female portion on said female portion end of said second endoluminal stent cooperating with said male engaging portion and defining a second frustoconical wall which is tapered radially inwardly towards said female portion end; PA1 wherein the male engaging portion can be entered into the female portion in a radially compressed state and thereafter caused or allowed to expand in the female portion and wherein a frictional inter-engagement of the male engaging portion and the female portion prevents relative movement of the first stent and the second stent. 24. 24. A stent joining means for joining a first endoluminal stent to a second endoluminal stent comprising: PA1 a first stent including a radially inwardly compressible male engaging portion, having a first graft layer disposed externally of said male engaging portion; and PA1 a second stent including a female portion cooperating at a distal end with a proximal end of said male engaging portion and having a second graft layer disposed externally of said female cooperating portion and which folds over the distal end of said female engaging portion to form an inner sleeve which contacts said first graft layer to form a substantially blood-tight seal; PA1 wherein the male engaging portion can be entered into the female portion in a radially compressed state and thereafter caused or allowed to expand in the female cooperating portion and wherein the inter-engagement of the first graft layer of the male engaging portion and the inner sleeve of the female cooperating portion resists longitudinal separation of the first stent from the second stent.\\n'"
      ]
     },
     "execution_count": 199,
     "metadata": {},
     "output_type": "execute_result"
    }
   ],
   "source": [
    "X[1,1]"
   ]
  },
  {
   "cell_type": "code",
   "execution_count": null,
   "metadata": {
    "collapsed": true
   },
   "outputs": [],
   "source": []
  }
 ],
 "metadata": {
  "anaconda-cloud": {},
  "kernelspec": {
   "display_name": "Python [conda env:py27]",
   "language": "python",
   "name": "conda-env-py27-py"
  },
  "language_info": {
   "codemirror_mode": {
    "name": "ipython",
    "version": 2
   },
   "file_extension": ".py",
   "mimetype": "text/x-python",
   "name": "python",
   "nbconvert_exporter": "python",
   "pygments_lexer": "ipython2",
   "version": "2.7.12"
  },
  "nbpresent": {
   "slides": {},
   "themes": {
    "default": "2c5fbc45-ce06-44ff-8f95-c3ec05d7ef6e",
    "theme": {
     "1d90e92d-1a24-4db3-82fe-cda01ae03ff2": {
      "backgrounds": {
       "dc7afa04-bf90-40b1-82a5-726e3cff5267": {
        "background-color": "31af15d2-7e15-44c5-ab5e-e04b16a89eff",
        "id": "dc7afa04-bf90-40b1-82a5-726e3cff5267"
       }
      },
      "id": "1d90e92d-1a24-4db3-82fe-cda01ae03ff2",
      "palette": {
       "19cc588f-0593-49c9-9f4b-e4d7cc113b1c": {
        "id": "19cc588f-0593-49c9-9f4b-e4d7cc113b1c",
        "rgb": [
         252,
         252,
         252
        ]
       },
       "31af15d2-7e15-44c5-ab5e-e04b16a89eff": {
        "id": "31af15d2-7e15-44c5-ab5e-e04b16a89eff",
        "rgb": [
         68,
         68,
         68
        ]
       },
       "50f92c45-a630-455b-aec3-788680ec7410": {
        "id": "50f92c45-a630-455b-aec3-788680ec7410",
        "rgb": [
         197,
         226,
         245
        ]
       },
       "c5cc3653-2ee1-402a-aba2-7caae1da4f6c": {
        "id": "c5cc3653-2ee1-402a-aba2-7caae1da4f6c",
        "rgb": [
         43,
         126,
         184
        ]
       },
       "efa7f048-9acb-414c-8b04-a26811511a21": {
        "id": "efa7f048-9acb-414c-8b04-a26811511a21",
        "rgb": [
         25.118061674008803,
         73.60176211453744,
         107.4819383259912
        ]
       }
      },
      "rules": {
       "a": {
        "color": "19cc588f-0593-49c9-9f4b-e4d7cc113b1c"
       },
       "blockquote": {
        "color": "50f92c45-a630-455b-aec3-788680ec7410",
        "font-size": 3
       },
       "code": {
        "font-family": "Anonymous Pro"
       },
       "h1": {
        "color": "19cc588f-0593-49c9-9f4b-e4d7cc113b1c",
        "font-family": "Merriweather",
        "font-size": 8
       },
       "h2": {
        "color": "19cc588f-0593-49c9-9f4b-e4d7cc113b1c",
        "font-family": "Merriweather",
        "font-size": 6
       },
       "h3": {
        "color": "50f92c45-a630-455b-aec3-788680ec7410",
        "font-family": "Lato",
        "font-size": 5.5
       },
       "h4": {
        "color": "c5cc3653-2ee1-402a-aba2-7caae1da4f6c",
        "font-family": "Lato",
        "font-size": 5
       },
       "h5": {
        "font-family": "Lato"
       },
       "h6": {
        "font-family": "Lato"
       },
       "h7": {
        "font-family": "Lato"
       },
       "li": {
        "color": "50f92c45-a630-455b-aec3-788680ec7410",
        "font-size": 3.25
       },
       "pre": {
        "font-family": "Anonymous Pro",
        "font-size": 4
       }
      },
      "text-base": {
       "color": "19cc588f-0593-49c9-9f4b-e4d7cc113b1c",
       "font-family": "Lato",
       "font-size": 4
      }
     },
     "2c5fbc45-ce06-44ff-8f95-c3ec05d7ef6e": {
      "backgrounds": {
       "dc7afa04-bf90-40b1-82a5-726e3cff5267": {
        "background-color": "31af15d2-7e15-44c5-ab5e-e04b16a89eff",
        "id": "dc7afa04-bf90-40b1-82a5-726e3cff5267"
       }
      },
      "id": "2c5fbc45-ce06-44ff-8f95-c3ec05d7ef6e",
      "palette": {
       "19cc588f-0593-49c9-9f4b-e4d7cc113b1c": {
        "id": "19cc588f-0593-49c9-9f4b-e4d7cc113b1c",
        "rgb": [
         252,
         252,
         252
        ]
       },
       "31af15d2-7e15-44c5-ab5e-e04b16a89eff": {
        "id": "31af15d2-7e15-44c5-ab5e-e04b16a89eff",
        "rgb": [
         68,
         68,
         68
        ]
       },
       "50f92c45-a630-455b-aec3-788680ec7410": {
        "id": "50f92c45-a630-455b-aec3-788680ec7410",
        "rgb": [
         197,
         226,
         245
        ]
       },
       "c5cc3653-2ee1-402a-aba2-7caae1da4f6c": {
        "id": "c5cc3653-2ee1-402a-aba2-7caae1da4f6c",
        "rgb": [
         43,
         126,
         184
        ]
       },
       "efa7f048-9acb-414c-8b04-a26811511a21": {
        "id": "efa7f048-9acb-414c-8b04-a26811511a21",
        "rgb": [
         25.118061674008803,
         73.60176211453744,
         107.4819383259912
        ]
       }
      },
      "rules": {
       "a": {
        "color": "19cc588f-0593-49c9-9f4b-e4d7cc113b1c"
       },
       "blockquote": {
        "color": "50f92c45-a630-455b-aec3-788680ec7410",
        "font-size": 3
       },
       "code": {
        "font-family": "Anonymous Pro"
       },
       "h1": {
        "color": "19cc588f-0593-49c9-9f4b-e4d7cc113b1c",
        "font-family": "Merriweather",
        "font-size": 8
       },
       "h2": {
        "color": "19cc588f-0593-49c9-9f4b-e4d7cc113b1c",
        "font-family": "Merriweather",
        "font-size": 6
       },
       "h3": {
        "color": "50f92c45-a630-455b-aec3-788680ec7410",
        "font-family": "Lato",
        "font-size": 5.5
       },
       "h4": {
        "color": "c5cc3653-2ee1-402a-aba2-7caae1da4f6c",
        "font-family": "Lato",
        "font-size": 5
       },
       "h5": {
        "font-family": "Lato"
       },
       "h6": {
        "font-family": "Lato"
       },
       "h7": {
        "font-family": "Lato"
       },
       "li": {
        "color": "50f92c45-a630-455b-aec3-788680ec7410",
        "font-size": 3.25
       },
       "pre": {
        "font-family": "Anonymous Pro",
        "font-size": 4
       }
      },
      "text-base": {
       "color": "19cc588f-0593-49c9-9f4b-e4d7cc113b1c",
       "font-family": "Lato",
       "font-size": 4
      }
     }
    }
   }
  }
 },
 "nbformat": 4,
 "nbformat_minor": 0
}
